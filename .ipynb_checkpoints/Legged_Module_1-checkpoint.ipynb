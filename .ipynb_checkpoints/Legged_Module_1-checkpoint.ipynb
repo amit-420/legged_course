{
 "cells": [
  {
   "cell_type": "markdown",
   "metadata": {
    "colab_type": "text",
    "id": "view-in-github"
   },
   "source": [
    "<a href=\"https://colab.research.google.com/github/amit-420/legged_course/blob/main/Legged_Module_1.ipynb\" target=\"_parent\"><img src=\"https://colab.research.google.com/assets/colab-badge.svg\" alt=\"Open In Colab\"/></a>"
   ]
  },
  {
   "cell_type": "markdown",
   "metadata": {
    "id": "BLW51Kf_mA0P"
   },
   "source": [
    "### Projectile with drag"
   ]
  },
  {
   "cell_type": "code",
   "execution_count": null,
   "metadata": {
    "id": "V3NWMq5smMyu"
   },
   "outputs": [],
   "source": [
    "import numpy as np\n",
    "import matplotlib.pylab as plt\n",
    "from scipy.integrate import solve_ivp\n",
    "import matplotlib.animation as animation \n",
    "import matplotlib.pyplot as plt "
   ]
  },
  {
   "cell_type": "code",
   "execution_count": null,
   "metadata": {
    "id": "RrWYjgaVV8J3"
   },
   "outputs": [],
   "source": [
    "class save_animation():\n",
    "    def __init__(self,x,y,z=np.zeros(1)):\n",
    "        self.X = x\n",
    "        self.Y = y\n",
    "        self.Z = z\n",
    "        self.fig = plt.figure() \n",
    "        self.axis = plt.axes(xlim =(-5, 40),\n",
    "                            ylim =(-50, 50)) \n",
    "        self.line, = self.axis.plot([], [], lw = 2) \n",
    "    \n",
    "    def init(self): \n",
    "        self.line.set_data([], []) \n",
    "        return self.line, \n",
    "\n",
    "    def animate(self,i):\n",
    "\n",
    "        self.line.set_data(self.X[:i], self.Y[:i]) \n",
    "        \n",
    "        return self.line,\n",
    "\n",
    "    def save(self,file_name = 'random.mp4'):\n",
    "        anim = animation.FuncAnimation(self.fig, self.animate, init_func = self.init, \n",
    "                               frames = len(self.X), interval = 20, blit = True) \n",
    "        anim.save(file_name, writer = 'ffmpeg', fps = 30)"
   ]
  },
  {
   "cell_type": "code",
   "execution_count": null,
   "metadata": {
    "colab": {
     "base_uri": "https://localhost:8080/",
     "height": 265
    },
    "id": "Hin90eLSl3Y1",
    "outputId": "eedb3630-15c9-4ae7-98ae-50e0a7a78854"
   },
   "outputs": [
    {
     "data": {
      "image/png": "[encoded data removed]",
      "text/plain": [
       "<Figure size 432x288 with 1 Axes>"
      ]
     },
     "metadata": {
      "needs_background": "light"
     },
     "output_type": "display_data"
    }
   ],
   "source": [
    "class projectile():\n",
    "    def __init__(self):\n",
    "        self.g = 9.81\n",
    "        self.m = 1\n",
    "        self.c = 0.1\n",
    "        x0 = 0\n",
    "        y0 = 0\n",
    "        x0dot = 100\n",
    "        y0dot = x0dot*np.tan(np.pi/4)\n",
    "        self.t0 = 0\n",
    "        self.tend = 7\n",
    "        self.N = 101\n",
    "        self.t = np.linspace(self.t0,self.tend, self.N)\n",
    "        tstart = 0\n",
    "        self.qstart = [x0,y0,x0dot, y0dot]\n",
    "    \n",
    "    def ode45_step(self, x, t, dt):\n",
    "        \"\"\"\n",
    "        One step of 4th Order Runge-Kutta method\n",
    "        \"\"\"\n",
    "        h = dt\n",
    "        k1 = h * self.projectile_rhs(t, x)\n",
    "        k2 = h * self.projectile_rhs(t + 0.5*h, x + 0.5*k1)\n",
    "        k3 = h * self.projectile_rhs(t + 0.5*h, x + 0.5*k2)\n",
    "        k4 = h * self.projectile_rhs(t + dt, x + k3)\n",
    "        return x + (1/6 * (k1 + 2*k2 + 2*k3 + k4))\n",
    "\n",
    "    def ode45(self,t, x0):\n",
    "        \"\"\"\n",
    "        4th Order Runge-Kutta method\n",
    "        \"\"\"\n",
    "        n = len(t)\n",
    "        x = np.zeros((n, len(x0)))\n",
    "        x[0] = x0\n",
    "        for i in range(n-1):\n",
    "            dt = t[i+1] - t[i] \n",
    "            x[i+1] = self.ode45_step(x[i], t[i], dt)\n",
    "        return x\n",
    "\n",
    "\n",
    "    def projectile_rhs(self,t,q):\n",
    "        '''\n",
    "        function \n",
    "\n",
    "        '''\n",
    "        # %x = q[0]\n",
    "        # %y = q[1]\n",
    "        vx = q[2]\n",
    "        vy = q[3]\n",
    "        v = np.sqrt(vx**2+vy**2)\n",
    "\n",
    "        # %%%% net acceleration %%%\n",
    "        ax = 0 - (self.c*v*(vx/self.m))\n",
    "        ay = -1*self.g - (self.c*v*(vy/self.m))\n",
    "\n",
    "        # %xdot = vx\n",
    "        # %xddot = ax = eqn1 in the notes\n",
    "        # %ydot = vy\n",
    "        # %yddot = ay = eqn2 in the notes\n",
    "        dqdt = [vx, vy, ax, ay]\n",
    "        return np.array(dqdt)\n",
    "    \n",
    "    def integration(self):\n",
    "        self.q = self.ode45(np.linspace(self.t0,self.tend,self.N),self.qstart)\n",
    "        return self.q\n",
    "\n",
    "p1 = projectile()\n",
    "\n",
    "q = p1.integration()\n",
    "plt.plot(q[:,0],q[:,1])\n",
    "plt.show()"
   ]
  },
  {
   "cell_type": "code",
   "execution_count": null,
   "metadata": {
    "colab": {
     "base_uri": "https://localhost:8080/",
     "height": 265
    },
    "id": "AQzjy1XoqIIZ",
    "outputId": "84130fc3-372b-4af2-e062-59c666664066"
   },
   "outputs": [
    {
     "data": {
      "image/png": "[encoded data removed]",
      "text/plain": [
       "<Figure size 432x288 with 1 Axes>"
      ]
     },
     "metadata": {
      "needs_background": "light"
     },
     "output_type": "display_data"
    }
   ],
   "source": [
    "s1 = save_animation(q[:,0],q[:,1])\n",
    "s1.save('projectile.mp4')"
   ]
  },
  {
   "cell_type": "markdown",
   "metadata": {
    "id": "WXzj877bqIGs"
   },
   "source": [
    "### Bouncing ball(Hybrid system example)"
   ]
  },
  {
   "cell_type": "code",
   "execution_count": null,
   "metadata": {
    "id": "POEpbZ4cqHxK"
   },
   "outputs": [],
   "source": [
    "from scipy.integrate import odeint,ode"
   ]
  },
  {
   "cell_type": "markdown",
   "metadata": {
    "id": "opg5RIwAa15m"
   },
   "source": [
    "https://matplotlib.org/stable/api/_as_gen/matplotlib.markers.MarkerStyle.html#matplotlib.markers.MarkerStyle"
   ]
  },
  {
   "cell_type": "code",
   "execution_count": null,
   "metadata": {
    "id": "lXTnJY6snAYk"
   },
   "outputs": [],
   "source": [
    "class save_animation():\n",
    "    def __init__(self,x,y,z=np.zeros(1)):\n",
    "        self.X = x\n",
    "        self.Y = y\n",
    "        self.Z = z\n",
    "        self.fig = plt.figure() \n",
    "        self.axis = plt.axes(xlim = (-0.5, 0.5),\n",
    "                            ylim = (-5, 10)) \n",
    "        self.point, = self.axis.plot(0,0, marker='o') \n",
    "    \n",
    "    def init(self): \n",
    "        self.point.set_data([],[]) \n",
    "        return self.point, \n",
    "\n",
    "    def animate(self,i):\n",
    "\n",
    "        self.point.set_data(self.X[i], self.Y[i]) \n",
    "        \n",
    "        return self.point,\n",
    "\n",
    "    def save(self,file_name = 'random.mp4'):\n",
    "        anim = animation.FuncAnimation(self.fig, self.animate, init_func = self.init, \n",
    "                               frames = len(self.X), interval = 20, blit = True) \n",
    "        anim.save(file_name, writer = 'ffmpeg', fps = 30)\n",
    "    "
   ]
  },
  {
   "cell_type": "code",
   "execution_count": null,
   "metadata": {
    "colab": {
     "base_uri": "https://localhost:8080/",
     "height": 545
    },
    "id": "47G9kpdBqBNq",
    "outputId": "1534e109-938c-4e57-8cc4-d2f8ebd709c9"
   },
   "outputs": [
    {
     "data": {
      "image/png": "[encoded data removed]",
      "text/plain": [
       "<Figure size 432x288 with 1 Axes>"
      ]
     },
     "metadata": {
      "needs_background": "light"
     },
     "output_type": "display_data"
    },
    {
     "data": {
      "image/png": "[encoded data removed]",
      "text/plain": [
       "<Figure size 432x288 with 1 Axes>"
      ]
     },
     "metadata": {
      "needs_background": "light"
     },
     "output_type": "display_data"
    }
   ],
   "source": [
    "class bouncing_ball():\n",
    "    def __init__(self):\n",
    "        self.y0 = 0\n",
    "        self.y0dot = 10\n",
    "        self.e = 0.9\n",
    "        self.g = 9.8\n",
    "        self.dt = 0.01\n",
    "        self.tstart = 0\n",
    "        self.tend = 10\n",
    "        self.tpassed = 0\n",
    "        self.q_start = np.array([self.y0,self.y0dot])\n",
    "        self.Y = np.array([self.q_start])\n",
    "\n",
    "    def dqdt(self,t,q):\n",
    "        v = q[1]\n",
    "        a = -self.g\n",
    "        return np.array([v,a])\n",
    "    \n",
    "    def one_bounce(self,dt):\n",
    "        r = ode(self.dqdt)\n",
    "        r.set_initial_value(self.q_start,self.tpassed)\n",
    "        self.Y = np.append(self.Y,np.array([self.q_start]),axis=0)\n",
    "\n",
    "        while r.successful() and r.y[0] >= 0:\n",
    "            [y,ydot] = r.integrate(r.t+dt)\n",
    "\n",
    "            if r.y[0] >= 0: \n",
    "                self.Y = np.append(self.Y,[[y,ydot]],axis=0)\n",
    "        # print(r.t)\n",
    "        # print(self.Y)\n",
    "\n",
    "        self.q_start = np.array([self.Y[-1][0],-1*self.e*self.Y[-1][1]])\n",
    "        return r.t\n",
    "    \n",
    "    def main_ball(self):\n",
    "        dt = 0.1\n",
    "        while self.tend - self.tpassed >= 0:\n",
    "            # print(self.q_start)\n",
    "            self.tpassed = self.one_bounce(dt)\n",
    "            # print(self.tend - self.tpassed)\n",
    "            \n",
    "\n",
    "\n",
    "i1 = bouncing_ball()\n",
    "i1.main_ball()\n",
    "plt.plot(i1.Y[:,0])\n",
    "plt.title('position vs t')\n",
    "plt.show()\n",
    "plt.plot(i1.Y[:,1])\n",
    "plt.title('velocity vs t')\n",
    "plt.show()"
   ]
  },
  {
   "cell_type": "code",
   "execution_count": null,
   "metadata": {
    "colab": {
     "base_uri": "https://localhost:8080/",
     "height": 269
    },
    "id": "1D8rORoAsBFm",
    "outputId": "1f7a4a3f-84dd-4ec5-d53d-f6d7e5d18c67"
   },
   "outputs": [
    {
     "data": {
      "image/png": "[encoded data removed]",
      "text/plain": [
       "<Figure size 432x288 with 1 Axes>"
      ]
     },
     "metadata": {
      "needs_background": "light"
     },
     "output_type": "display_data"
    }
   ],
   "source": [
    "s2 = save_animation(np.zeros(len(i1.Y[:,0])),i1.Y[:,0])\n",
    "s2.save('bouncing_ball.mp4')"
   ]
  },
  {
   "cell_type": "markdown",
   "metadata": {
    "id": "7w7ZpkLfELfE"
   },
   "source": [
    "## Spring Loaded Inverted Pendulam\n"
   ]
  },
  {
   "cell_type": "code",
   "execution_count": null,
   "metadata": {
    "colab": {
     "base_uri": "https://localhost:8080/",
     "height": 265
    },
    "id": "uCi8rfO1EPlt",
    "outputId": "b2afdf9b-a1c9-49c3-fa01-935c85c3ea5d"
   },
   "outputs": [
    {
     "data": {
      "image/png": "[encoded data removed]",
      "text/plain": [
       "<Figure size 432x288 with 1 Axes>"
      ]
     },
     "metadata": {
      "needs_background": "light"
     },
     "output_type": "display_data"
    }
   ],
   "source": [
    "class sliphopper():\n",
    "    def __init__(self):\n",
    "        self.l0 = 1\n",
    "        self.m = 1\n",
    "        self.k = 100\n",
    "        self.g = 9.8\n",
    "        self.theta = 10*(np.pi/180)\n",
    "        self.x0 = 0\n",
    "        self.x0dot = 1\n",
    "        self.y0 = 1.2\n",
    "        self.y0dot = 0\n",
    "        self.Xc = self.x0 + self.l0*np.sin(self.theta)\n",
    "        self.z0 = np.array([self.x0,self.x0dot,self.y0,self.y0dot])\n",
    "        self.Z = np.array([np.append(self.z0,self.Xc)])\n",
    "        self.set_time()\n",
    "\n",
    "    def set_time(self,t = 0):\n",
    "        self.t0 = 0\n",
    "        # self.tend = 3\n",
    "        self.tpassed = t\n",
    "    \n",
    "    def get_Xc(self,x):\n",
    "        return x + self.l0*np.sin(self.theta)\n",
    "    \n",
    "    def len_l(self,x,y):\n",
    "        return np.sqrt(((x - self.Xc)**2 + y**2))\n",
    "    \n",
    "    def acelerations(self,t,z):\n",
    "\n",
    "        x = z[0]\n",
    "        y = z[2]\n",
    "        \n",
    "        xddot = (self.k/self.m)*(self.l0 - self.len_l(x,y)) * (x - self.Xc)/self.len_l(x,y)\n",
    "\n",
    "        yddot = ((self.k/self.m)*(self.l0 - self.len_l(x,y)) * y/self.len_l(x,y)) - self.g\n",
    "\n",
    "        zdot = np.array([z[1],xddot,z[3],yddot])\n",
    "\n",
    "        return zdot\n",
    "    \n",
    "    def onestep(self,z):\n",
    "        eq = ode(self.acelerations)\n",
    "        self.Xc = self.get_Xc(z[0])\n",
    "        # self.set_time(t)\n",
    "        eq.set_initial_value(z,self.tpassed)\n",
    "        dt = 0.01\n",
    "\n",
    "        '''\n",
    "        apex to stance phase \n",
    "        '''\n",
    "        while eq.successful() and (eq.y[2] - self.l0*np.cos(self.theta) > 0):\n",
    "\n",
    "            self.z = eq.integrate(eq.t+dt)\n",
    "            self.Xc = self.get_Xc(self.z[0])\n",
    "            z_temp = np.append(self.z,self.Xc)\n",
    "            self.Z = np.append(self.Z,[z_temp],axis = 0)\n",
    "\n",
    "        \n",
    "        '''\n",
    "        stance phase\n",
    "        '''\n",
    "\n",
    "        self.set_time(eq.t)\n",
    "        eq.set_initial_value(self.Z[-1][0:4],self.tpassed)\n",
    "\n",
    "        while eq.successful() and (self.l0 - self.len_l(eq.y[0],eq.y[2]) > 0):\n",
    "            self.z = eq.integrate(eq.t+dt)\n",
    "            z_temp = np.append(self.z,self.Xc)\n",
    "            \n",
    "            self.Z = np.append(self.Z,[z_temp],axis = 0)\n",
    "        \n",
    "        '''\n",
    "        ground to apex\n",
    "        '''\n",
    "\n",
    "        self.set_time(eq.t)\n",
    "        eq.set_initial_value(self.Z[-1][0:4],self.tpassed)\n",
    "\n",
    "        while eq.successful() and (eq.y[3] > 0):\n",
    "            # print(eq.y[3])\n",
    "            self.z = eq.integrate(eq.t+dt)\n",
    "            # self.Xc = self.get_Xc(self.z[0])\n",
    "            z_temp = np.append(self.z,self.Xc)\n",
    "\n",
    "            self.Z = np.append(self.Z,[z_temp],axis = 0)\n",
    "        # print(self.Z)\n",
    "        self.set_time(eq.t)\n",
    "    \n",
    "    def do_hopping(self,steps):\n",
    "        self.set_time(0)\n",
    "        self.onestep(self.z0)\n",
    "        for i in range(steps):\n",
    "            self.onestep(self.Z[-1][0:4])\n",
    "        \n",
    "\n",
    "h1 = sliphopper()\n",
    "h1.do_hopping(steps=7)\n",
    "t = np.linspace(1,len(h1.Z),len(h1.Z))\n",
    "\n",
    "plt.plot(h1.Z[:,0],h1.Z[:,2])\n",
    "# plt.plot(t,h1.Z[:,3])\n",
    "# plt.plot(t,h1.Z[:,4])\n",
    "# plt.plot(t,h1.Z[:,1])\n",
    "# plt.plot(t,np.array([0 for i in range(len(t))]))\n",
    "# plt.xlim(0,6)\n",
    "# plt.ylim(0,1.3)\n",
    "plt.show() \n"
   ]
  },
  {
   "cell_type": "code",
   "execution_count": null,
   "metadata": {
    "id": "Ko_TGmmycoKz"
   },
   "outputs": [],
   "source": [
    "class save_animation(sliphopper):\n",
    "    def __init__(self,x,y,xc):\n",
    "        super().__init__()\n",
    "        self.X = x\n",
    "        self.Y = y\n",
    "        self.Xc = xc\n",
    "        self.fig = plt.figure() \n",
    "        self.axis = plt.axes(xlim = (-0.5, 13),\n",
    "                            ylim = (-0.1, 2)) \n",
    "        self.point, = self.axis.plot(0,0, marker='o') \n",
    "        self.line, = self.axis.plot([],[], lw = 2)\n",
    "    \n",
    "    def init(self): \n",
    "        self.point.set_data([],[]) \n",
    "        self.line.set_data([],[])\n",
    "        return self.point, self.line,\n",
    "\n",
    "    def animate(self,i):\n",
    "\n",
    "        self.point.set_data(self.X[i], self.Y[i]) \n",
    "        Yc = ( self.Y[i]- self.l0*np.cos(self.theta)) if (self.Y[i]- self.l0*np.cos(self.theta) > 0) else 0\n",
    "        \n",
    "        self.line.set_data([self.X[i], self.Xc[i]], [self.Y[i],Yc]) \n",
    "\n",
    "        return self.point, self.line,\n",
    "\n",
    "    def save(self,file_name = 'sliphopper.mp4'):\n",
    "        anim = animation.FuncAnimation(self.fig, self.animate, init_func = self.init, \n",
    "                               frames = len(self.X), interval = 20, blit = True) \n",
    "        anim.save(file_name, writer = 'ffmpeg', fps = 40)"
   ]
  },
  {
   "cell_type": "code",
   "execution_count": null,
   "metadata": {
    "colab": {
     "base_uri": "https://localhost:8080/",
     "height": 269
    },
    "id": "71bNTZbli0Ne",
    "outputId": "75453598-fc2d-4f75-c61e-b01c20e18a0b"
   },
   "outputs": [
    {
     "data": {
      "image/png": "[encoded data removed]",
      "text/plain": [
       "<Figure size 432x288 with 1 Axes>"
      ]
     },
     "metadata": {
      "needs_background": "light"
     },
     "output_type": "display_data"
    }
   ],
   "source": [
    "s2 = save_animation(h1.Z[:,0], h1.Z[:,2],h1.Z[:,4])\n",
    "s2.save()"
   ]
  }
 ],
 "metadata": {
  "colab": {
   "authorship_tag": "ABX9TyPyUYoDQK5LmX7UhhnqdC60",
   "collapsed_sections": [],
   "include_colab_link": true,
   "name": "Legged_Module_1.ipynb",
   "provenance": []
  },
  "hide_input": false,
  "kernelspec": {
   "display_name": "Python 3 (ipykernel)",
   "language": "python",
   "name": "python3"
  },
  "language_info": {
   "codemirror_mode": {
    "name": "ipython",
    "version": 3
   },
   "file_extension": ".py",
   "mimetype": "text/x-python",
   "name": "python",
   "nbconvert_exporter": "python",
   "pygments_lexer": "ipython3",
   "version": "3.8.10"
  }
 },
 "nbformat": 4,
 "nbformat_minor": 1
}
