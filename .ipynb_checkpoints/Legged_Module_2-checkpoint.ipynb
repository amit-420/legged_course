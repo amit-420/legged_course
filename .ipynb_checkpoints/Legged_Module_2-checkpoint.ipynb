{
 "cells": [
  {
   "cell_type": "markdown",
   "metadata": {
    "colab_type": "text",
    "id": "view-in-github"
   },
   "source": [
    "<a href=\"https://colab.research.google.com/github/amit-420/legged_course/blob/main/Legged_Module_2.ipynb\" target=\"_parent\"><img src=\"https://colab.research.google.com/assets/colab-badge.svg\" alt=\"Open In Colab\"/></a>"
   ]
  },
  {
   "cell_type": "code",
   "execution_count": 1,
   "metadata": {
    "ExecuteTime": {
     "end_time": "2021-11-14T14:04:23.437204Z",
     "start_time": "2021-11-14T14:04:22.749608Z"
    },
    "id": "Dju4_6g728Xd"
   },
   "outputs": [],
   "source": [
    "import numpy as np\n",
    "import matplotlib.pylab as plt\n",
    "from scipy.integrate import solve_ivp\n",
    "import matplotlib.animation as animation \n",
    "import matplotlib.pyplot as plt \n",
    "from scipy.integrate import odeint,ode"
   ]
  },
  {
   "cell_type": "code",
   "execution_count": 2,
   "metadata": {
    "ExecuteTime": {
     "end_time": "2021-11-14T14:04:23.444345Z",
     "start_time": "2021-11-14T14:04:23.438374Z"
    },
    "id": "QH421EUg3FUR"
   },
   "outputs": [],
   "source": [
    "class save_animation():\n",
    "    def __init__(self,x,y,z=np.zeros(1)):\n",
    "        self.X = x\n",
    "        self.Y = y\n",
    "        self.Z = z\n",
    "        self.fig = plt.figure() \n",
    "        self.axis = plt.axes(xlim =(-5, 40),\n",
    "                            ylim =(-50, 50)) \n",
    "        self.line, = self.axis.plot([], [], lw = 2) \n",
    "    \n",
    "    def init(self): \n",
    "        self.line.set_data([], []) \n",
    "        return self.line, \n",
    "\n",
    "    def animate(self,i):\n",
    "\n",
    "        self.line.set_data(self.X[:i], self.Y[:i]) \n",
    "        \n",
    "        return self.line,\n",
    "\n",
    "    def save(self,file_name = 'random.mp4'):\n",
    "        anim = animation.FuncAnimation(self.fig, self.animate, init_func = self.init, \n",
    "                               frames = len(self.X), interval = 20, blit = True) \n",
    "        anim.save(file_name, writer = 'ffmpeg', fps = 30)"
   ]
  },
  {
   "cell_type": "code",
   "execution_count": 3,
   "metadata": {
    "ExecuteTime": {
     "end_time": "2021-11-14T14:04:23.574239Z",
     "start_time": "2021-11-14T14:04:23.446001Z"
    },
    "colab": {
     "base_uri": "https://localhost:8080/",
     "height": 269
    },
    "id": "ImpCYg933Ig0",
    "outputId": "0e2bd164-af44-47be-dc88-6efc24e63c9d"
   },
   "outputs": [
    {
     "data": {
      "image/png": "[encoded data removed]",
      "text/plain": [
       "<Figure size 432x288 with 1 Axes>"
      ]
     },
     "metadata": {
      "needs_background": "light"
     },
     "output_type": "display_data"
    }
   ],
   "source": [
    "class arm():\n",
    "    def __init__(self):\n",
    "        self.x0 = 0\n",
    "        self.y0 = 0\n",
    "        self.l = 1\n",
    "        self.O2 = np.array([[self.l,0]])\n",
    "        self.theta1 = 30*(np.pi/180)\n",
    "        self.theta2 = 60*(np.pi/180)\n",
    "\n",
    "    def Rmatrix(self,theta):\n",
    "        return np.array([[np.cos(theta), -np.sin(theta)],\n",
    "                        [np.sin(theta), np.cos(theta)]])\n",
    "    \n",
    "    def Hmatrix(self,theta,O=np.zeros((1,2))):\n",
    "        Hmatrix = np.concatenate((self.Rmatrix(theta),O.T),axis=1)\n",
    "        return np.concatenate((Hmatrix,np.array([[0,0,1]])),axis=0)\n",
    "\n",
    "r1 = arm()\n",
    "j1 = (r1.Hmatrix(r1.theta1)@np.array([[r1.l,0,1]]).T)[:2]\n",
    "end_eff = (r1.Hmatrix(r1.theta1)@r1.Hmatrix(r1.theta2,r1.O2)@np.array([[r1.l,0,1]]).T)[:2]\n",
    "arm_data = np.concatenate((np.array([[0,0]]).T,j1,end_eff),axis=1)\n",
    "arm_data\n",
    "plt.plot(arm_data[0],arm_data[1])\n",
    "plt.xlim(-2,2)\n",
    "plt.ylim(-2,2)\n",
    "plt.grid()\n",
    "plt.show()"
   ]
  },
  {
   "cell_type": "code",
   "execution_count": 4,
   "metadata": {
    "ExecuteTime": {
     "end_time": "2021-11-14T14:04:23.826355Z",
     "start_time": "2021-11-14T14:04:23.579167Z"
    },
    "colab": {
     "base_uri": "https://localhost:8080/",
     "height": 367
    },
    "id": "MlqDiLb3CGl-",
    "outputId": "7f8909fe-adc4-48eb-cb5d-1f12b2ade7e3"
   },
   "outputs": [
    {
     "name": "stdout",
     "output_type": "stream",
     "text": [
      "[0.  0.  1.2 0. ]\n",
      "[0.  0.6 1.2 0. ]\n",
      "[0.  1.  1.2 0. ]\n",
      "[0.  1.2 1.2 0. ]\n",
      "[0.  1.4 1.2 0. ]\n",
      "[0.  1.  1.2 0. ]\n"
     ]
    },
    {
     "data": {
      "image/png": "[encoded data removed]",
      "text/plain": [
       "<Figure size 432x288 with 1 Axes>"
      ]
     },
     "metadata": {
      "needs_background": "light"
     },
     "output_type": "display_data"
    }
   ],
   "source": [
    "class Raiberthopper():\n",
    "    def __init__(self):\n",
    "        self.l0 = 1\n",
    "        self.m = 1\n",
    "        self.k = 100\n",
    "        self.g = 9.8\n",
    "        self.theta = 10*(np.pi/180)\n",
    "        self.x0 = 0\n",
    "        self.x0dot = np.array([0,0.6,1,1.2,1.4,1])\n",
    "        self.y0 = 1.2\n",
    "        self.y0dot = 0\n",
    "        self.Xc = self.x0 + self.l0*np.sin(self.theta)\n",
    "        self.z0 = np.array([self.x0,self.x0dot[0],self.y0,self.y0dot])\n",
    "        self.Z = np.array([np.append(self.z0,self.Xc)])\n",
    "        self.set_time()\n",
    "\n",
    "    def set_time(self,t = 0):\n",
    "        self.t0 = 0\n",
    "        # self.tend = 3\n",
    "        self.tpassed = t\n",
    "\n",
    "    def set_z0(self,i):\n",
    "        self.z0 = np.array([self.x0,self.x0dot[i],self.y0,self.y0dot])\n",
    "        print(self.z0)\n",
    "\n",
    "    \n",
    "    def set_theta(self,xdot):\n",
    "        Kp = 0.1\n",
    "        self.theta = np.arcsin(((xdot * np.pi)/ (2* self.l0))*np.sqrt(self.m/self.k)) + Kp*(xdot - self.z0[1])\n",
    "        return self.theta\n",
    "\n",
    "    def get_Xc(self,x):\n",
    "        return x + self.l0*np.sin(self.theta)\n",
    "    \n",
    "    def len_l(self,x,y):\n",
    "        return np.sqrt(((x - self.Xc)**2 + y**2))\n",
    "    \n",
    "    def acelerations(self,t,z):\n",
    "\n",
    "        x = z[0]\n",
    "        y = z[2]\n",
    "        \n",
    "        xddot = (self.k/self.m)*(self.l0 - self.len_l(x,y)) * (x - self.Xc)/self.len_l(x,y)\n",
    "\n",
    "        yddot = ((self.k/self.m)*(self.l0 - self.len_l(x,y)) * y/self.len_l(x,y)) - self.g\n",
    "\n",
    "        zdot = np.array([z[1],xddot,z[3],yddot])\n",
    "\n",
    "        return zdot\n",
    "    \n",
    "    def onestep(self,z,i):\n",
    "        eq = ode(self.acelerations)\n",
    "        self.Xc = self.get_Xc(z[0])\n",
    "        # self.set_time(t)\n",
    "        eq.set_initial_value(z,self.tpassed)\n",
    "        dt = 0.01\n",
    "\n",
    "        '''\n",
    "        apex to stance phase \n",
    "        '''\n",
    "        while eq.successful() and (eq.y[2] - self.l0*np.cos(self.theta) > 0):\n",
    "\n",
    "            self.z = eq.integrate(eq.t+dt)\n",
    "            self.Xc = self.get_Xc(self.z[0])\n",
    "            z_temp = np.append(self.z,self.Xc)\n",
    "            self.Z = np.append(self.Z,[z_temp],axis = 0)\n",
    "\n",
    "        \n",
    "        '''\n",
    "        stance phase\n",
    "        '''\n",
    "\n",
    "        self.set_time(eq.t)\n",
    "        eq.set_initial_value(self.Z[-1][0:4],self.tpassed)\n",
    "\n",
    "        while eq.successful() and (self.l0 - self.len_l(eq.y[0],eq.y[2]) > 0):\n",
    "            self.z = eq.integrate(eq.t+dt)\n",
    "            z_temp = np.append(self.z,self.Xc)\n",
    "            \n",
    "            self.Z = np.append(self.Z,[z_temp],axis = 0)\n",
    "        \n",
    "        '''\n",
    "        ground to apex\n",
    "        '''\n",
    "\n",
    "        self.set_time(eq.t)\n",
    "        eq.set_initial_value(self.Z[-1][0:4],self.tpassed)\n",
    "\n",
    "        while eq.successful() and (eq.y[3] > 0):\n",
    "            # print(eq.y[3])\n",
    "            self.z = eq.integrate(eq.t+dt)\n",
    "            # self.Xc = self.get_Xc(self.z[0])\n",
    "            z_temp = np.append(self.z,self.Xc)\n",
    "\n",
    "            self.Z = np.append(self.Z,[z_temp],axis = 0)\n",
    "        # print(self.Z)\n",
    "        self.set_time(eq.t)\n",
    "        self.set_z0(i)\n",
    "        self.set_theta(self.Z[-1][1])\n",
    "    \n",
    "    def do_hopping(self,steps):\n",
    "        self.set_time(0)\n",
    "        self.onestep(self.z0,0)\n",
    "        for i in range(1,steps):\n",
    "            \n",
    "            self.onestep(self.Z[-1][0:4],i)\n",
    "        \n",
    "\n",
    "h1 = Raiberthopper()\n",
    "h1.do_hopping(steps=6)\n",
    "t = np.linspace(1,len(h1.Z),len(h1.Z))\n",
    "\n",
    "plt.plot(h1.Z[:,0],h1.Z[:,2])\n",
    "# plt.plot(t,h1.Z[:,3])\n",
    "# plt.plot(t,h1.Z[:,4])\n",
    "# plt.plot(t,h1.Z[:,1])\n",
    "# plt.plot(t,np.array([0 for i in range(len(t))]))\n",
    "# plt.xlim(0,6)\n",
    "# plt.ylim(0,1.3)\n",
    "plt.show() \n"
   ]
  },
  {
   "cell_type": "code",
   "execution_count": 5,
   "metadata": {
    "ExecuteTime": {
     "end_time": "2021-11-14T14:04:23.833141Z",
     "start_time": "2021-11-14T14:04:23.827969Z"
    },
    "id": "BR9XT61r_1AM"
   },
   "outputs": [],
   "source": [
    "class save_animation(Raiberthopper):\n",
    "    def __init__(self,x,y,xc):\n",
    "        super().__init__()\n",
    "        self.X = x\n",
    "        self.Y = y\n",
    "        self.Xc = xc\n",
    "        self.fig = plt.figure() \n",
    "        self.axis = plt.axes(xlim = (-5, 5),\n",
    "                            ylim = (-0.1, 2)) \n",
    "        self.point, = self.axis.plot(0,0, marker='o') \n",
    "        self.line, = self.axis.plot([],[], lw = 2)\n",
    "    \n",
    "    def init(self): \n",
    "        self.point.set_data([],[]) \n",
    "        self.line.set_data([],[])\n",
    "        return self.point, self.line,\n",
    "\n",
    "    def animate(self,i):\n",
    "\n",
    "        self.point.set_data(self.X[i], self.Y[i]) \n",
    "        Yc = ( self.Y[i]- self.l0*np.cos(self.theta)) if (self.Y[i]- self.l0*np.cos(self.theta) > 0) else 0\n",
    "        \n",
    "        self.line.set_data([self.X[i], self.Xc[i]], [self.Y[i],Yc]) \n",
    "\n",
    "        return self.point, self.line,\n",
    "\n",
    "    def save(self,file_name = 'sliphopper.mp4'):\n",
    "        anim = animation.FuncAnimation(self.fig, self.animate, init_func = self.init, \n",
    "                               frames = len(self.X), interval = 20, blit = True) \n",
    "        anim.save(file_name, writer = 'ffmpeg', fps = 40)"
   ]
  },
  {
   "cell_type": "code",
   "execution_count": 6,
   "metadata": {
    "ExecuteTime": {
     "end_time": "2021-11-14T14:04:33.394965Z",
     "start_time": "2021-11-14T14:04:23.834479Z"
    },
    "colab": {
     "base_uri": "https://localhost:8080/",
     "height": 269
    },
    "id": "rxvrvHGyCJZJ",
    "outputId": "cfdb5543-2360-4be1-f3bf-3a456c98140f"
   },
   "outputs": [
    {
     "data": {
      "image/png": "[encoded data removed]",
      "text/plain": [
       "<Figure size 432x288 with 1 Axes>"
      ]
     },
     "metadata": {
      "needs_background": "light"
     },
     "output_type": "display_data"
    }
   ],
   "source": [
    "s2 = save_animation(h1.Z[:,0], h1.Z[:,2],h1.Z[:,4])\n",
    "s2.save()"
   ]
  }
 ],
 "metadata": {
  "colab": {
   "authorship_tag": "ABX9TyPOjs0MwJ9BQfATW2DOe/u1",
   "include_colab_link": true,
   "name": "Legged_Module_2.ipynb",
   "provenance": []
  },
  "hide_input": false,
  "kernelspec": {
   "display_name": "Python 3 (ipykernel)",
   "language": "python",
   "name": "python3"
  },
  "language_info": {
   "codemirror_mode": {
    "name": "ipython",
    "version": 3
   },
   "file_extension": ".py",
   "mimetype": "text/x-python",
   "name": "python",
   "nbconvert_exporter": "python",
   "pygments_lexer": "ipython3",
   "version": "3.8.10"
  }
 },
 "nbformat": 4,
 "nbformat_minor": 1
}
