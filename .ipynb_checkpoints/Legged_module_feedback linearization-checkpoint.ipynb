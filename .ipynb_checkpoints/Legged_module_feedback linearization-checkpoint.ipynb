{
 "cells": [
  {
   "cell_type": "code",
   "execution_count": 2,
   "id": "291851fc",
   "metadata": {
    "ExecuteTime": {
     "end_time": "2021-11-27T02:32:02.979023Z",
     "start_time": "2021-11-27T02:32:02.057006Z"
    }
   },
   "outputs": [],
   "source": [
    "import numpy as np\n",
    "import sympy as sp\n",
    "import matplotlib.pylab as plt\n",
    "from scipy.integrate import solve_ivp\n",
    "import matplotlib.animation as animation \n",
    "import matplotlib.pyplot as plt \n",
    "from scipy.integrate import odeint,ode"
   ]
  },
  {
   "cell_type": "code",
   "execution_count": 3,
   "id": "64b245e2",
   "metadata": {
    "ExecuteTime": {
     "end_time": "2021-11-27T02:32:04.802662Z",
     "start_time": "2021-11-27T02:32:04.676246Z"
    }
   },
   "outputs": [
    {
     "data": {
      "text/plain": [
       "Text(0, 0.5, 'position')"
      ]
     },
     "execution_count": 3,
     "metadata": {},
     "output_type": "execute_result"
    },
    {
     "data": {
      "image/png": "[encoded data removed]",
      "text/plain": [
       "<Figure size 432x288 with 1 Axes>"
      ]
     },
     "metadata": {
      "needs_background": "light"
     },
     "output_type": "display_data"
    }
   ],
   "source": [
    " class spring_mass:\n",
    "        def __init__(self):\n",
    "            self.m = 1\n",
    "            self.c = 2\n",
    "            self.k = 10\n",
    "            self.kp = 100\n",
    "            self.kd = -self.c + 2*np.sqrt(self.m*(self.k + self.kp))\n",
    "            self.q = 0.5\n",
    "            self.qdot = 0\n",
    "            self.qddot = 0\n",
    "            self.tstart = 0\n",
    "            self.tpassed = 4\n",
    "            self.x0 = np.array([self.q,self.qdot])\n",
    "            \n",
    "        def rhs(self,t,x):\n",
    "            q = x[0]\n",
    "            qdot = x[1]\n",
    "            qddot = -((self.k + self.kp)/self.m)*q - ((self.c + self.kd)/self.m)*qdot\n",
    "            return np.array([qdot,qddot])\n",
    "        \n",
    "        def onestep(self,z):\n",
    "            eq = ode(self.rhs)\n",
    "            eq.set_initial_value(z,self.tstart)\n",
    "            dt = 0.01\n",
    "            self.Z = [z]\n",
    "            while eq.successful() and eq.t < self.tpassed:\n",
    "                self.z = eq.integrate(eq.t+dt)\n",
    "                self.Z = np.append(self.Z,[self.z],axis = 0)\n",
    "\n",
    "e1 = spring_mass()\n",
    "e1.onestep(e1.x0)\n",
    "\n",
    "plt.plot(e1.Z[:,0])\n",
    "plt.xlabel('time')\n",
    "plt.ylabel('position')\n"
   ]
  },
  {
   "cell_type": "code",
   "execution_count": 4,
   "id": "2ea926b8",
   "metadata": {
    "ExecuteTime": {
     "end_time": "2021-11-27T02:32:07.633916Z",
     "start_time": "2021-11-27T02:32:07.359632Z"
    },
    "hide_input": false
   },
   "outputs": [
    {
     "name": "stdout",
     "output_type": "stream",
     "text": [
      "X1:\n",
      "Matrix([[c1*sin(theta1)], [-c1*cos(theta1)]])\n",
      "\n",
      "X2:\n",
      "Matrix([[c2*(sin(theta1)*cos(theta2) + sin(theta2)*cos(theta1)) + l*sin(theta1)], [c2*(sin(theta1)*sin(theta2) - cos(theta1)*cos(theta2)) - l*cos(theta1)]])\n",
      "\n",
      "Vg1:\n",
      "Matrix([[c1*omega1*cos(theta1)], [c1*omega1*sin(theta1)]])\n",
      "\n",
      "Vg2:\n",
      "Matrix([[c2*omega2*(-sin(theta1)*sin(theta2) + cos(theta1)*cos(theta2)) + omega1*(c2*(-sin(theta1)*sin(theta2) + cos(theta1)*cos(theta2)) + l*cos(theta1))], [c2*omega2*(sin(theta1)*cos(theta2) + sin(theta2)*cos(theta1)) + omega1*(c2*(sin(theta1)*cos(theta2) + sin(theta2)*cos(theta1)) + l*sin(theta1))]])\n",
      "\n",
      "Shape of ddt_dLdqdot: \n",
      "(2, 1)\n",
      "\n",
      "Shape of Mass matrix: \n",
      "(2, 2)\n",
      "\n",
      "Shape of Gravity matrix: \n",
      "(2, 1)\n",
      "\n",
      "Shape of Coriolis matrix: \n",
      "(2, 1)\n",
      "\n"
     ]
    }
   ],
   "source": [
    "t1, t2, l, c1, c2, I1, I2, w1, w2, m1, m2 = sp.symbols('theta1,theta2,l,c1,c2,I1,I2, omega1, omega2, m1, m2')\n",
    "w1dot, w2dot = sp.symbols('omegadot1, omegadot2')\n",
    "qddot = sp.Matrix([w1dot,w2dot])\n",
    "\n",
    "g = 9.81\n",
    "\n",
    "q = sp.Matrix([t1,t2])\n",
    "qdot = sp.Matrix([w1,w2])\n",
    "\n",
    "def i_1Ti(t,x,y):\n",
    "    return sp.Matrix([[sp.cos(t), -sp.sin(t), x],\n",
    "                     [sp.sin(t), sp.cos(t),   y],\n",
    "                     [0,        0,            1]])\n",
    "\n",
    "T1 = i_1Ti((3*sp.pi/2)+t1,0,0)\n",
    "T2 = i_1Ti(t2,l,0)\n",
    "\n",
    "# Position of COM in base frame:\n",
    "\n",
    "X1 = T1@sp.Matrix([c1,0,1])\n",
    "X2 = T1@T2@sp.Matrix([c2,0,1])\n",
    "\n",
    "X1 = sp.Matrix(X1[0:2])\n",
    "\n",
    "X2 = sp.Matrix(X2[0:2])\n",
    "\n",
    "print(f\"X1:\\n{X1}\\n\")\n",
    "print(f\"X2:\\n{X2}\\n\")\n",
    "\n",
    "Vg1 = X1.jacobian(q)@sp.Matrix(qdot)\n",
    "Vg2 = X2.jacobian(q)@sp.Matrix(qdot)\n",
    "\n",
    "print(f\"Vg1:\\n{Vg1}\\n\")\n",
    "\n",
    "print(f\"Vg2:\\n{Vg2}\\n\")\n",
    "\n",
    "\"\"\"Calculating Kinetic Energy\"\"\"\n",
    "T = (0.5 *m1 * ( Vg1.T @ Vg1))[0] + (0.5 *m2 * ( Vg2.T @ Vg2) )[0] + 0.5*I1*w1**2 + 0.5*I2*(w1+w2)**2\n",
    "\n",
    "\"\"\" Calculating Potencial Energy\"\"\"\n",
    "V = m1*g*X1[1] + m2*g*X2[1]\n",
    "\n",
    "\"\"\"Calculating Lagrangian\"\"\"\n",
    "L = T - V\n",
    "\n",
    "\"\"\" Calculating equation of Dynamics for double pendulum\"\"\"\n",
    "dLdq = sp.diff(L,q)\n",
    "dLdqdot = sp.diff(L,qdot)\n",
    "ddt_dLdqdot = sp.Matrix([sp.diff(dLdqdot[0],qdot).T,\n",
    "                 sp.diff(dLdqdot[1],qdot).T])@qddot + sp.Matrix([sp.diff(dLdqdot[0],q).T,\n",
    "                 sp.diff(dLdqdot[1],q).T])@qdot\n",
    "\n",
    "print(f\"Shape of ddt_dLdqdot: \\n{ddt_dLdqdot.shape}\\n\")\n",
    "\n",
    "eom = ddt_dLdqdot - dLdq\n",
    "B = eom.subs({w1dot:0,w2dot:0})\n",
    "\n",
    "\"\"\"Calculating Mass, gravity and coriolis matrix\"\"\"\n",
    "M = eom.jacobian(qddot)\n",
    "\n",
    "print(f\"Shape of Mass matrix: \\n{M.shape}\\n\")\n",
    "G = B.subs({w1:0,w2:0})\n",
    "\n",
    "print(f\"Shape of Gravity matrix: \\n{G.shape}\\n\")\n",
    "C = B - G\n",
    "\n",
    "print(f\"Shape of Coriolis matrix: \\n{C.shape}\\n\")"
   ]
  },
  {
   "cell_type": "code",
   "execution_count": 16,
   "id": "ee4e4163",
   "metadata": {
    "ExecuteTime": {
     "end_time": "2021-11-27T02:43:18.801506Z",
     "start_time": "2021-11-27T02:43:13.956486Z"
    }
   },
   "outputs": [],
   "source": [
    "class double_pendulum():\n",
    "    def __init__(self,m1= 1,m2 = 1, I1 = 0.1, I2 = 0.1, c1 = 0.5, c2 = 0.5, l = 1):\n",
    "        self.m1 = m1\n",
    "        self.m2 = m2\n",
    "        self.I1 = I1\n",
    "        self.I2 = I2\n",
    "        self.c1 = c1\n",
    "        self.c2 = c2\n",
    "        self.l = l\n",
    "        self.z_desired = np.array([-1.53,1.53])\n",
    "        self.z = np.array([1.53,0,0,0]) ## [theta1,theta2,omega1,omega2]\n",
    "        self.kp = np.array([[100,0],\n",
    "                            [0,100]])\n",
    "        self.kd = 2*np.sqrt(self.kp)\n",
    "#         print(self.kd)\n",
    "        self.T = np.array([[0, 0]]).T\n",
    "        self.Z = np.array([self.z])\n",
    "        self.t_end = 3\n",
    "\n",
    "    def set_equations(self,M,C,G):\n",
    "        \n",
    "        M = M.subs({l:self.l, c1:self.c1, c2:self.c2, I1:self.I1, I2:self.I2, m1:self.m1, m2:self.m2})\n",
    "        C = C.subs({l:self.l, c1:self.c1, c2:self.c2, I1:self.I1, I2:self.I2, m1:self.m1, m2:self.m2})\n",
    "        G = G.subs({l:self.l, c1:self.c1, c2:self.c2, I1:self.I1, I2:self.I2, m1:self.m1, m2:self.m2})\n",
    "\n",
    "        \n",
    "        self.M = sp.lambdify([t1, t2],M)\n",
    "        self.C = sp.lambdify([t1, t2, w1, w2],C)\n",
    "        self.G = sp.lambdify([t1, t2],G)\n",
    "    \n",
    "    def get_T(self,z):\n",
    "        ''' Calculating Torque\n",
    "            M(-kp(theta - theta_desired) - kd*thetadot) +C + G\n",
    "            Here M,C,G are estimates.\n",
    "        '''\n",
    "        Torque = self.M(z[0],z[1])@np.array([-self.kp@(z[0:2]-self.z_desired[0:2]) -self.kd@(self.z[2:4])]).T + self.C(z[0],z[1],z[2],z[3]) + self.G(z[0],z[1])\n",
    "#         print((z))\n",
    "        return Torque \n",
    "\n",
    "    def rhs(self,t,z):\n",
    "        '''\n",
    "        Finding zdot numerically\n",
    "\n",
    "        wdot =  M_inv * (T - C - G)\n",
    "        '''\n",
    "        wdot = np.linalg.inv(self.M(z[0],z[1]))@(self.get_T(z) - self.C(z[0],z[1],z[2],z[3]) - self.G(z[0],z[1]))\n",
    "        return np.array([z[2],z[3],wdot[0][0],wdot[1][0]],dtype=object)\n",
    "\n",
    "        \n",
    "    def solve_ode(self):\n",
    "        eqn = ode(self.rhs)\n",
    "        eqn.set_initial_value(self.z,0)\n",
    "        dt = 0.01\n",
    "\n",
    "        while eqn.successful() and (eqn.t < self.t_end):\n",
    "            self.z = eqn.integrate(eqn.t+dt)\n",
    "            self.Z = np.append(self.Z,[self.z],axis=0)\n",
    "\n",
    "p1 = double_pendulum()\n",
    "\n",
    "p1.set_equations(M,C,G)\n",
    "\n",
    "p1.solve_ode()\n"
   ]
  },
  {
   "cell_type": "code",
   "execution_count": 19,
   "id": "24ba8eed",
   "metadata": {
    "ExecuteTime": {
     "end_time": "2021-11-27T02:44:12.960289Z",
     "start_time": "2021-11-27T02:44:12.642820Z"
    },
    "hide_input": true
   },
   "outputs": [
    {
     "data": {
      "image/png": "[encoded data removed]",
      "text/plain": [
       "<Figure size 720x504 with 4 Axes>"
      ]
     },
     "metadata": {
      "needs_background": "light"
     },
     "output_type": "display_data"
    }
   ],
   "source": [
    "t = np.linspace(0,p1.t_end,len(p1.Z[:,0]))\n",
    "\n",
    "fig, axs = plt.subplots(2, 2,figsize=(10,7))\n",
    "axs[0, 0].plot(t,p1.Z[:,0])\n",
    "axs[0, 0].set_title('theta1 vs time')\n",
    "axs[0, 0].set(xlabel='time', ylabel='theta1')\n",
    "\n",
    "axs[0, 1].plot(t,p1.Z[:,1], 'tab:orange')\n",
    "axs[0, 1].set_title('theta2 vs time')\n",
    "axs[0, 1].set(xlabel='time', ylabel='theta2')\n",
    "\n",
    "axs[1, 0].plot(t,p1.Z[:,2], 'tab:green')\n",
    "axs[1, 0].set_title('omega1 vs time')\n",
    "axs[1, 0].set(xlabel='time', ylabel='omega1')\n",
    "\n",
    "axs[1, 1].plot(t,p1.Z[:,3], 'tab:red')\n",
    "axs[1, 1].set_title('omega2 vs time')\n",
    "axs[1, 1].set(xlabel='time', ylabel='omega2')\n",
    "\n",
    "plt.subplots_adjust(left=0.1,\n",
    "                    bottom=0.1, \n",
    "                    right=0.9, \n",
    "                    top=1.2, \n",
    "                    wspace=0.4, \n",
    "                    hspace=0.4)\n",
    "plt.show()"
   ]
  },
  {
   "cell_type": "code",
   "execution_count": 18,
   "id": "4ac91302",
   "metadata": {
    "ExecuteTime": {
     "end_time": "2021-11-27T02:43:25.350178Z",
     "start_time": "2021-11-27T02:43:25.335627Z"
    },
    "hide_input": false
   },
   "outputs": [
    {
     "name": "stdout",
     "output_type": "stream",
     "text": [
      "Animation class\n"
     ]
    }
   ],
   "source": [
    "class save_animation(double_pendulum):\n",
    "    def __init__(self,x,y):\n",
    "        super().__init__()\n",
    "        self.X = x\n",
    "        self.Y = y\n",
    "        self.fig = plt.figure() \n",
    "        self.axis = plt.axes(autoscale_on=False,xlim = (-2, 2),\n",
    "                            ylim = (-3, 1)) \n",
    "        self.axis.set_aspect('equal')\n",
    "        self.axis.grid()\n",
    "        self.point1, = self.axis.plot(0,0, marker='o') \n",
    "        self.trace, = self.axis.plot([],[], lw= 1, ls='-') \n",
    "        self.line1, = self.axis.plot([],[], lw = 2)\n",
    "        \n",
    "    \n",
    "    def init(self): \n",
    "        self.point1.set_data([],[]) \n",
    "        self.line1.set_data([],[])\n",
    "        self.trace.set_data([],[])\n",
    "        return self.point1, self.line1, self.trace,\n",
    "\n",
    "    def end_eff(self,i):\n",
    "        P = np.array([self.l*np.sin(self.X[i]), -self.l*np.cos(self.X[i])])\n",
    "        Q = P + np.array([self.l*np.sin(self.X[i]+self.Y[i]), -self.l*np.cos(self.X[i]+self.Y[i])])\n",
    "        return P,Q\n",
    "\n",
    "    def init_q_his(self):\n",
    "        P,Q = self.end_eff(0)\n",
    "        self.q_history = np.array([Q])\n",
    "\n",
    "    def animate(self,i):\n",
    "\n",
    "        self.point1.set_data(0,0) \n",
    "\n",
    "        P,Q = self.end_eff(i)\n",
    "        self.q_history = np.append(self.q_history,[Q],axis=0)\n",
    "\n",
    "        self.line1.set_data([0,P[0],Q[0]],[0,P[1],Q[1]])\n",
    "\n",
    "        self.trace.set_data(self.q_history[:i,0],self.q_history[:i,1]) \n",
    "        return self.point1, self.line1, self.trace,\n",
    "\n",
    "    def save(self,file_name = 'results/double_pendulum_reachpoint.mp4'):\n",
    "        anim = animation.FuncAnimation(self.fig, self.animate, init_func = self.init, \n",
    "                               frames = len(self.X), interval = 10, blit = True) \n",
    "        anim.save(file_name, writer = 'ffmpeg', fps = 100\n",
    "                  )\n",
    "        \n",
    "print(\"Animation class\")"
   ]
  },
  {
   "cell_type": "code",
   "execution_count": 115,
   "id": "b33ede73",
   "metadata": {
    "ExecuteTime": {
     "end_time": "2021-11-26T15:19:41.780113Z",
     "start_time": "2021-11-26T15:19:27.547361Z"
    }
   },
   "outputs": [
    {
     "data": {
      "image/png": "[encoded data removed]",
      "text/plain": [
       "<Figure size 432x288 with 1 Axes>"
      ]
     },
     "metadata": {
      "needs_background": "light"
     },
     "output_type": "display_data"
    }
   ],
   "source": [
    "s1 = save_animation(p1.Z[:,0],p1.Z[:,1])\n",
    "s1.init_q_his()\n",
    "s1.save()"
   ]
  }
 ],
 "metadata": {
  "hide_input": false,
  "kernelspec": {
   "display_name": "Python 3 (ipykernel)",
   "language": "python",
   "name": "python3"
  },
  "language_info": {
   "codemirror_mode": {
    "name": "ipython",
    "version": 3
   },
   "file_extension": ".py",
   "mimetype": "text/x-python",
   "name": "python",
   "nbconvert_exporter": "python",
   "pygments_lexer": "ipython3",
   "version": "3.8.10"
  }
 },
 "nbformat": 4,
 "nbformat_minor": 5
}
