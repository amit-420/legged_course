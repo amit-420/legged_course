{
 "cells": [
  {
   "cell_type": "markdown",
   "metadata": {
    "colab_type": "text",
    "id": "view-in-github"
   },
   "source": [
    "<a href=\"https://colab.research.google.com/github/amit-420/legged_course/blob/main/legged_module_3_dynamic_passive_walker.ipynb\" target=\"_parent\"><img src=\"https://colab.research.google.com/assets/colab-badge.svg\" alt=\"Open In Colab\"/></a>"
   ]
  },
  {
   "cell_type": "code",
   "execution_count": 1,
   "metadata": {
    "id": "61oMNpC3aFFt"
   },
   "outputs": [],
   "source": [
    "import numpy as np\n",
    "import sympy as sp\n",
    "import matplotlib.pylab as plt\n",
    "from scipy.integrate import solve_ivp\n",
    "import matplotlib.animation as animation \n",
    "import matplotlib.pyplot as plt \n",
    "from scipy.integrate import odeint,ode"
   ]
  },
  {
   "cell_type": "code",
   "execution_count": 2,
   "metadata": {
    "colab": {
     "base_uri": "https://localhost:8080/"
    },
    "id": "Q9i1sbOz7_As",
    "outputId": "a67d2505-30bd-4d31-caaf-793ddaf8b702"
   },
   "outputs": [
    {
     "name": "stdout",
     "output_type": "stream",
     "text": [
      "Requirement already satisfied: casadi in /home/amit/.local/lib/python3.8/site-packages (3.5.5)\r\n"
     ]
    }
   ],
   "source": [
    "!pip install casadi\n",
    "import casadi as ca"
   ]
  },
  {
   "cell_type": "code",
   "execution_count": 3,
   "metadata": {
    "colab": {
     "base_uri": "https://localhost:8080/",
     "height": 58
    },
    "id": "MPCR2QwNa1Vp",
    "outputId": "cdd41e06-0bbd-4d70-8599-05b54bcd8e8b"
   },
   "outputs": [
    {
     "data": {
      "text/latex": [
       "$\\displaystyle \\left[\\begin{matrix}- \\left(- c + l\\right) \\sin{\\left(\\theta_{1} \\right)}\\\\\\left(- c + l\\right) \\cos{\\left(\\theta_{1} \\right)}\\end{matrix}\\right]$"
      ],
      "text/plain": [
       "Matrix([\n",
       "[-(-c + l)*sin(theta1)],\n",
       "[ (-c + l)*cos(theta1)]])"
      ]
     },
     "execution_count": 3,
     "metadata": {},
     "output_type": "execute_result"
    }
   ],
   "source": [
    "t1, t2, gamma, x, y, l, c, I1, I2, w1, w2, m, M = sp.symbols('theta1,theta2, gamma, x, y, l,c,I1,I2, omega1, omega2, m, M')\n",
    "\n",
    "g = 9.81\n",
    "\n",
    "q = sp.Matrix([x,y,t1,t2])\n",
    "qdot = sp.Matrix([w1,w2])\n",
    "\n",
    "\n",
    "def i_1Ti(t,x,y):\n",
    "    return sp.Matrix([[sp.cos(t), -sp.sin(t), x],\n",
    "                     [sp.sin(t), sp.cos(t),   y],\n",
    "                     [0,        0,            1]])\n",
    "\n",
    "\n",
    "Tg = i_1Ti(-gamma,x,y)\n",
    "T1 = i_1Ti((sp.pi/2) + t1,0,0)\n",
    "T2 = i_1Ti(t2 - sp.pi,l,0)\n",
    "\n",
    "\n",
    "\n",
    "''' position of leg 1 COM in ramp frame '''\n",
    "X0g1 = T1@sp.Matrix([l-c,0,1])     \n",
    "\n",
    "'''Position of hip in ramp frame '''\n",
    "X0h1 = T1@sp.Matrix([l,0,1])        \n",
    "\n",
    "''' position of leg2 COM in ramp frame '''\n",
    "X0g2 = T1@T2@sp.Matrix([c,0,1])     \n",
    "\n",
    "''' Position of end point of leg 2 in ramp frame '''\n",
    "X0c2 = T1@T2@sp.Matrix([l,0,1])     \n",
    "\n",
    "\n",
    "\n",
    "''' position in ground frame '''\n",
    "Xgg1 = Tg @ X0g1\n",
    "\n",
    "Xgh1 = Tg @ X0h1\n",
    "\n",
    "Xgg2 = Tg @ X0g2\n",
    "\n",
    "Xgc2 = Tg @ X0c2\n",
    "\n",
    "\n",
    "\n",
    "X0g1 = sp.Matrix(X0g1[0:2])\n",
    "\n",
    "X0h1 = sp.Matrix(X0h1[0:2])\n",
    "\n",
    "X0g2 = sp.Matrix(X0g2[0:2])\n",
    "\n",
    "X0c2 = sp.Matrix(X0c2[0:2])\n",
    "X0g1"
   ]
  },
  {
   "cell_type": "code",
   "execution_count": 4,
   "metadata": {
    "colab": {
     "base_uri": "https://localhost:8080/",
     "height": 58
    },
    "id": "4N2xo4uFGoxT",
    "outputId": "c690a7a9-9d3d-4066-f47d-2c6aba40c8b7"
   },
   "outputs": [
    {
     "data": {
      "text/latex": [
       "$\\displaystyle \\left[\\begin{matrix}c \\left(\\sin{\\left(\\theta_{1} \\right)} \\cos{\\left(\\theta_{2} \\right)} + \\sin{\\left(\\theta_{2} \\right)} \\cos{\\left(\\theta_{1} \\right)}\\right) - l \\sin{\\left(\\theta_{1} \\right)}\\\\c \\left(\\sin{\\left(\\theta_{1} \\right)} \\sin{\\left(\\theta_{2} \\right)} - \\cos{\\left(\\theta_{1} \\right)} \\cos{\\left(\\theta_{2} \\right)}\\right) + l \\cos{\\left(\\theta_{1} \\right)}\\end{matrix}\\right]$"
      ],
      "text/plain": [
       "Matrix([\n",
       "[c*(sin(theta1)*cos(theta2) + sin(theta2)*cos(theta1)) - l*sin(theta1)],\n",
       "[c*(sin(theta1)*sin(theta2) - cos(theta1)*cos(theta2)) + l*cos(theta1)]])"
      ]
     },
     "execution_count": 4,
     "metadata": {},
     "output_type": "execute_result"
    }
   ],
   "source": [
    "X0g2"
   ]
  },
  {
   "cell_type": "code",
   "execution_count": 5,
   "metadata": {
    "colab": {
     "base_uri": "https://localhost:8080/",
     "height": 58
    },
    "id": "eK_oyNzotG_l",
    "outputId": "0ed29eb6-82ae-4ec9-b03f-e41ec1e70283"
   },
   "outputs": [
    {
     "data": {
      "text/latex": [
       "$\\displaystyle \\left[\\begin{matrix}l \\left(\\sin{\\left(\\theta_{1} \\right)} \\cos{\\left(\\theta_{2} \\right)} + \\sin{\\left(\\theta_{2} \\right)} \\cos{\\left(\\theta_{1} \\right)}\\right) - l \\sin{\\left(\\theta_{1} \\right)}\\\\l \\left(\\sin{\\left(\\theta_{1} \\right)} \\sin{\\left(\\theta_{2} \\right)} - \\cos{\\left(\\theta_{1} \\right)} \\cos{\\left(\\theta_{2} \\right)}\\right) + l \\cos{\\left(\\theta_{1} \\right)}\\end{matrix}\\right]$"
      ],
      "text/plain": [
       "Matrix([\n",
       "[l*(sin(theta1)*cos(theta2) + sin(theta2)*cos(theta1)) - l*sin(theta1)],\n",
       "[l*(sin(theta1)*sin(theta2) - cos(theta1)*cos(theta2)) + l*cos(theta1)]])"
      ]
     },
     "execution_count": 5,
     "metadata": {},
     "output_type": "execute_result"
    }
   ],
   "source": [
    "X0c2"
   ]
  },
  {
   "cell_type": "code",
   "execution_count": 6,
   "metadata": {
    "colab": {
     "base_uri": "https://localhost:8080/",
     "height": 58
    },
    "id": "tLnXKdsSrW0_",
    "outputId": "a12778f1-2f43-4cf7-ae42-7446f7ff020f"
   },
   "outputs": [
    {
     "ename": "NameError",
     "evalue": "name 'X1' is not defined",
     "output_type": "error",
     "traceback": [
      "\u001b[0;31m---------------------------------------------------------------------------\u001b[0m",
      "\u001b[0;31mNameError\u001b[0m                                 Traceback (most recent call last)",
      "\u001b[0;32m/tmp/ipykernel_14013/3244791367.py\u001b[0m in \u001b[0;36m<module>\u001b[0;34m\u001b[0m\n\u001b[0;32m----> 1\u001b[0;31m \u001b[0mVg1\u001b[0m \u001b[0;34m=\u001b[0m \u001b[0mX1\u001b[0m\u001b[0;34m.\u001b[0m\u001b[0mjacobian\u001b[0m\u001b[0;34m(\u001b[0m\u001b[0mq\u001b[0m\u001b[0;34m)\u001b[0m\u001b[0;34m@\u001b[0m\u001b[0msp\u001b[0m\u001b[0;34m.\u001b[0m\u001b[0mMatrix\u001b[0m\u001b[0;34m(\u001b[0m\u001b[0mqdot\u001b[0m\u001b[0;34m)\u001b[0m\u001b[0;34m\u001b[0m\u001b[0;34m\u001b[0m\u001b[0m\n\u001b[0m\u001b[1;32m      2\u001b[0m \u001b[0mVg2\u001b[0m \u001b[0;34m=\u001b[0m \u001b[0mX2\u001b[0m\u001b[0;34m.\u001b[0m\u001b[0mjacobian\u001b[0m\u001b[0;34m(\u001b[0m\u001b[0mq\u001b[0m\u001b[0;34m)\u001b[0m\u001b[0;34m@\u001b[0m\u001b[0msp\u001b[0m\u001b[0;34m.\u001b[0m\u001b[0mMatrix\u001b[0m\u001b[0;34m(\u001b[0m\u001b[0mqdot\u001b[0m\u001b[0;34m)\u001b[0m\u001b[0;34m\u001b[0m\u001b[0;34m\u001b[0m\u001b[0m\n\u001b[1;32m      3\u001b[0m \u001b[0mVg1\u001b[0m\u001b[0;34m\u001b[0m\u001b[0;34m\u001b[0m\u001b[0m\n",
      "\u001b[0;31mNameError\u001b[0m: name 'X1' is not defined"
     ]
    }
   ],
   "source": [
    "Vg1 = X1.jacobian(q)@sp.Matrix(qdot)\n",
    "Vg2 = X2.jacobian(q)@sp.Matrix(qdot)\n",
    "Vg1"
   ]
  },
  {
   "cell_type": "code",
   "execution_count": null,
   "metadata": {
    "colab": {
     "base_uri": "https://localhost:8080/",
     "height": 58
    },
    "id": "jmYvBJ9PrHIm",
    "outputId": "17f0c175-3b84-4c29-a405-cbc1655c6a5b"
   },
   "outputs": [],
   "source": [
    "Vg2"
   ]
  },
  {
   "cell_type": "code",
   "execution_count": null,
   "metadata": {
    "colab": {
     "base_uri": "https://localhost:8080/",
     "height": 90
    },
    "id": "nfif_nwZDL1w",
    "outputId": "da818474-3e2f-4b4f-92dc-993aa84f836b"
   },
   "outputs": [],
   "source": [
    "T = (0.5 *m1 * ( Vg1.T @ Vg1))[0] + (0.5 *m2 * ( Vg2.T @ Vg2) )[0] + 0.5*I1*w1**2 + 0.5*I2*(w1+w2)**2\n",
    "T"
   ]
  },
  {
   "cell_type": "code",
   "execution_count": null,
   "metadata": {
    "colab": {
     "base_uri": "https://localhost:8080/",
     "height": 38
    },
    "id": "9GLzdhseGfg5",
    "outputId": "6f00976c-795e-4ceb-f90e-b4eefc7cf1ed"
   },
   "outputs": [],
   "source": [
    "V = m1*g*X1[1] + m2*g*X2[1]\n",
    "V"
   ]
  },
  {
   "cell_type": "code",
   "execution_count": null,
   "metadata": {
    "colab": {
     "base_uri": "https://localhost:8080/",
     "height": 111
    },
    "id": "xq5164fOHnTA",
    "outputId": "a496757f-e42b-488a-9cf3-246fb29640c1"
   },
   "outputs": [],
   "source": [
    "L = T - V\n",
    "L"
   ]
  },
  {
   "cell_type": "code",
   "execution_count": null,
   "metadata": {
    "colab": {
     "base_uri": "https://localhost:8080/",
     "height": 78
    },
    "id": "pX8pXqXEHtDA",
    "outputId": "bfb81ae1-9731-4242-bae3-6822f7491dbb"
   },
   "outputs": [],
   "source": [
    "dLdq = sp.diff(L,q)\n",
    "dLdq"
   ]
  },
  {
   "cell_type": "code",
   "execution_count": null,
   "metadata": {
    "colab": {
     "base_uri": "https://localhost:8080/",
     "height": 78
    },
    "id": "UuTdHWW9LNQK",
    "outputId": "0cf9955a-9f32-4ab1-d24f-d6e56273ebef"
   },
   "outputs": [],
   "source": [
    "dLdqdot = sp.diff(L,qdot)\n",
    "dLdqdot"
   ]
  },
  {
   "cell_type": "code",
   "execution_count": null,
   "metadata": {
    "colab": {
     "base_uri": "https://localhost:8080/",
     "height": 58
    },
    "id": "EqiR7lGvNJoc",
    "outputId": "1832a198-52de-46df-d623-5b27df71c611"
   },
   "outputs": [],
   "source": [
    "w1dot, w2dot = sp.symbols('omegadot1, omegadot2')\n",
    "qddot = sp.Matrix([w1dot,w2dot])\n",
    "qddot"
   ]
  },
  {
   "cell_type": "code",
   "execution_count": null,
   "metadata": {
    "colab": {
     "base_uri": "https://localhost:8080/",
     "height": 88
    },
    "id": "7FPCQ6-JLrzb",
    "outputId": "b2e9dfaf-e79c-48a9-dffd-e7b9a241c91f"
   },
   "outputs": [],
   "source": [
    "ddt_dLdqdot = sp.Matrix([sp.diff(dLdqdot[0],qdot).T,\n",
    "                 sp.diff(dLdqdot[1],qdot).T])@qddot + sp.Matrix([sp.diff(dLdqdot[0],q).T,\n",
    "                 sp.diff(dLdqdot[1],q).T])@qdot\n",
    "ddt_dLdqdot"
   ]
  },
  {
   "cell_type": "code",
   "execution_count": null,
   "metadata": {
    "colab": {
     "base_uri": "https://localhost:8080/",
     "height": 88
    },
    "id": "SaXLZJyN6dR2",
    "outputId": "bd6f9dc8-175f-48e0-910f-bcc3aeb35bf9"
   },
   "outputs": [],
   "source": [
    "eom = ddt_dLdqdot - dLdq\n",
    "eom"
   ]
  },
  {
   "cell_type": "code",
   "execution_count": null,
   "metadata": {
    "colab": {
     "base_uri": "https://localhost:8080/",
     "height": 78
    },
    "id": "c9DAnc_ZW7ud",
    "outputId": "e4b6d700-eaf5-491f-ad26-12e7a9ad19b6"
   },
   "outputs": [],
   "source": [
    "B = eom.subs({w1dot:0,w2dot:0})\n",
    "B"
   ]
  },
  {
   "cell_type": "code",
   "execution_count": null,
   "metadata": {
    "colab": {
     "base_uri": "https://localhost:8080/",
     "height": 88
    },
    "id": "rLqjnO4OQgZB",
    "outputId": "add2f8ac-d473-4d89-bf03-c4acb37b45b1"
   },
   "outputs": [],
   "source": [
    "M = eom.jacobian(qddot)\n",
    "M"
   ]
  },
  {
   "cell_type": "code",
   "execution_count": null,
   "metadata": {
    "colab": {
     "base_uri": "https://localhost:8080/",
     "height": 58
    },
    "id": "WBtq1ulmXvhh",
    "outputId": "375110cf-98c7-4eb4-dc11-735dd28583cd"
   },
   "outputs": [],
   "source": [
    "G = B.subs({w1:0,w2:0})\n",
    "G"
   ]
  },
  {
   "cell_type": "code",
   "execution_count": null,
   "metadata": {
    "colab": {
     "base_uri": "https://localhost:8080/",
     "height": 78
    },
    "id": "ImCH-vP3D-xK",
    "outputId": "95542d78-b4e2-406c-f4ff-ecaec2b892a1"
   },
   "outputs": [],
   "source": [
    "C = B - G\n",
    "C"
   ]
  },
  {
   "cell_type": "code",
   "execution_count": null,
   "metadata": {
    "id": "TmBuJ7dIaMbw"
   },
   "outputs": [],
   "source": [
    "class double_pendulum():\n",
    "    def __init__(self,m1= 1,m2 = 1, I1 = 0.1, I2 = 0.1, c1 = 0.5, c2 = 0.5, l = 1):\n",
    "        self.m1 = m1\n",
    "        self.m2 = m2\n",
    "        self.I1 = I1\n",
    "        self.I2 = I2\n",
    "        self.c1 = c1\n",
    "        self.c2 = c2\n",
    "        self.l = l\n",
    "        self.z = np.array([1.53,0,0,0]) ## [theta1,theta2,omega1,omega2]\n",
    "        self.T = np.array([[0, 0]]).T\n",
    "        self.Z = np.array([self.z])\n",
    "        self.t_end = 5\n",
    "\n",
    "    def set_equations(self,M,C,G):\n",
    "        \n",
    "        M = M.subs({l:self.l, c1:self.c1, c2:self.c2, I1:self.I1, I2:self.I2, m1:self.m1, m2:self.m2})\n",
    "        C = C.subs({l:self.l, c1:self.c1, c2:self.c2, I1:self.I1, I2:self.I2, m1:self.m1, m2:self.m2})\n",
    "        G = G.subs({l:self.l, c1:self.c1, c2:self.c2, I1:self.I1, I2:self.I2, m1:self.m1, m2:self.m2})\n",
    "        \n",
    "        \n",
    "        self.M = sp.lambdify([t1, t2],M)\n",
    "        self.C = sp.lambdify([t1, t2, w1, w2],C)\n",
    "        self.G = sp.lambdify([t1, t2],G)\n",
    "    \n",
    "    def get_T(self,z):\n",
    "        return np.array([[0,0]]).T # np.array([[0,-100*z[1]]]).T\n",
    "\n",
    "    def rhs(self,t,z):\n",
    "        '''\n",
    "        Finding zdot numerically\n",
    "\n",
    "        wdot =  M_inv * (T - C - G)\n",
    "        '''\n",
    "        wdot = np.linalg.inv(self.M(z[0],z[1]))@(self.get_T(z) - self.C(z[0],z[1],z[2],z[3]) - self.G(z[0],z[1]))\n",
    "        return np.array([z[2],z[3],wdot[0][0],wdot[1][0]],dtype=object)\n",
    "\n",
    "        \n",
    "    def solve_ode(self):\n",
    "        eqn = ode(self.rhs)\n",
    "        eqn.set_initial_value(self.z,0)\n",
    "        dt = 0.01\n",
    "\n",
    "        while eqn.successful() and (eqn.t < self.t_end):\n",
    "            self.z = eqn.integrate(eqn.t+dt)\n",
    "            self.Z = np.append(self.Z,[self.z],axis=0)\n",
    "\n",
    "p1 = double_pendulum()\n",
    "\n",
    "p1.set_equations(M,C,G)\n",
    "\n",
    "p1.solve_ode()\n",
    "\n"
   ]
  },
  {
   "cell_type": "code",
   "execution_count": null,
   "metadata": {
    "id": "7rDZfskskfLH"
   },
   "outputs": [],
   "source": [
    "class save_animation(double_pendulum):\n",
    "    def __init__(self,x,y):\n",
    "        super().__init__()\n",
    "        self.X = x\n",
    "        self.Y = y\n",
    "        self.fig = plt.figure() \n",
    "        self.axis = plt.axes(autoscale_on=False,xlim = (-2, 2),\n",
    "                            ylim = (-3, 1)) \n",
    "        self.axis.set_aspect('equal')\n",
    "        self.axis.grid()\n",
    "        self.point1, = self.axis.plot(0,0, marker='o') \n",
    "        self.trace, = self.axis.plot([],[], lw= 1, ls='-') \n",
    "        self.line1, = self.axis.plot([],[], lw = 2)\n",
    "        \n",
    "    \n",
    "    def init(self): \n",
    "        self.point1.set_data([],[]) \n",
    "        self.line1.set_data([],[])\n",
    "        self.trace.set_data([],[])\n",
    "        return self.point1, self.line1, self.trace,\n",
    "\n",
    "    def end_eff(self,i):\n",
    "        P = np.array([self.l*np.sin(self.X[i]), -self.l*np.cos(self.X[i])])\n",
    "        Q = P + np.array([self.l*np.sin(self.X[i]+self.Y[i]), -self.l*np.cos(self.X[i]+self.Y[i])])\n",
    "        return P,Q\n",
    "\n",
    "    def init_q_his(self):\n",
    "        P,Q = self.end_eff(0)\n",
    "        self.q_history = np.array([Q])\n",
    "\n",
    "    def animate(self,i):\n",
    "\n",
    "        self.point1.set_data(0,0) \n",
    "\n",
    "        P,Q = self.end_eff(i)\n",
    "        self.q_history = np.append(self.q_history,[Q],axis=0)\n",
    "\n",
    "        self.line1.set_data([0,P[0],Q[0]],[0,P[1],Q[1]])\n",
    "\n",
    "        self.trace.set_data(self.q_history[:i,0],self.q_history[:i,1]) \n",
    "        return self.point1, self.line1, self.trace,\n",
    "\n",
    "    def save(self,file_name = 'double_pendulum.mp4'):\n",
    "        anim = animation.FuncAnimation(self.fig, self.animate, init_func = self.init, \n",
    "                               frames = len(self.X), interval = 10, blit = True) \n",
    "        anim.save(file_name, writer = 'ffmpeg', fps = 100\n",
    "                  )"
   ]
  },
  {
   "cell_type": "code",
   "execution_count": null,
   "metadata": {
    "colab": {
     "base_uri": "https://localhost:8080/",
     "height": 269
    },
    "id": "hjwUSXnynFij",
    "outputId": "7d45c57a-d04a-4976-cb66-da695ca642b4"
   },
   "outputs": [],
   "source": [
    "s1 = save_animation(p1.Z[:,0],p1.Z[:,1])\n",
    "s1.init_q_his()\n",
    "s1.save()"
   ]
  }
 ],
 "metadata": {
  "colab": {
   "authorship_tag": "ABX9TyNpqZHB+vLQxmmpHCYBbQO3",
   "include_colab_link": true,
   "name": "legged_module_3_dynamic_passive_walker.ipynb",
   "provenance": []
  },
  "kernelspec": {
   "display_name": "Python 3 (ipykernel)",
   "language": "python",
   "name": "python3"
  },
  "language_info": {
   "codemirror_mode": {
    "name": "ipython",
    "version": 3
   },
   "file_extension": ".py",
   "mimetype": "text/x-python",
   "name": "python",
   "nbconvert_exporter": "python",
   "pygments_lexer": "ipython3",
   "version": "3.8.10"
  }
 },
 "nbformat": 4,
 "nbformat_minor": 1
}
