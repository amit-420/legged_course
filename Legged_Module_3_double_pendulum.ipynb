{
 "cells": [
  {
   "cell_type": "markdown",
   "metadata": {
    "colab_type": "text",
    "id": "view-in-github"
   },
   "source": [
    "<a href=\"https://colab.research.google.com/github/amit-420/legged_course/blob/main/Legged_Module_3_double_pendulum.ipynb\" target=\"_parent\"><img src=\"https://colab.research.google.com/assets/colab-badge.svg\" alt=\"Open In Colab\"/></a>"
   ]
  },
  {
   "cell_type": "code",
   "execution_count": 1,
   "metadata": {
    "ExecuteTime": {
     "end_time": "2021-11-26T13:48:31.091134Z",
     "start_time": "2021-11-26T13:48:29.739488Z"
    },
    "id": "61oMNpC3aFFt"
   },
   "outputs": [],
   "source": [
    "import numpy as np\n",
    "import sympy as sp\n",
    "import matplotlib.pylab as plt\n",
    "from scipy.integrate import solve_ivp\n",
    "import matplotlib.animation as animation \n",
    "import matplotlib.pyplot as plt \n",
    "from scipy.integrate import odeint,ode"
   ]
  },
  {
   "cell_type": "code",
   "execution_count": null,
   "metadata": {
    "scrolled": false
   },
   "outputs": [],
   "source": []
  },
  {
   "cell_type": "code",
   "execution_count": 3,
   "metadata": {
    "ExecuteTime": {
     "end_time": "2021-11-26T13:48:45.799684Z",
     "start_time": "2021-11-26T13:48:45.782457Z"
    },
    "colab": {
     "base_uri": "https://localhost:8080/",
     "height": 58
    },
    "id": "MPCR2QwNa1Vp",
    "outputId": "e3fe387d-f908-4aa1-fd0a-b112644aaec3"
   },
   "outputs": [
    {
     "data": {
      "text/latex": [
       "$\\displaystyle \\left[\\begin{matrix}c_{1} \\sin{\\left(\\theta_{1} \\right)}\\\\- c_{1} \\cos{\\left(\\theta_{1} \\right)}\\end{matrix}\\right]$"
      ],
      "text/plain": [
       "Matrix([\n",
       "[ c1*sin(theta1)],\n",
       "[-c1*cos(theta1)]])"
      ]
     },
     "execution_count": 3,
     "metadata": {},
     "output_type": "execute_result"
    }
   ],
   "source": [
    "t1, t2, l, c1, c2, I1, I2, w1, w2, m1, m2 = sp.symbols('theta1,theta2,l,c1,c2,I1,I2, omega1, omega2, m1, m2')\n",
    "\n",
    "g = 9.81\n",
    "\n",
    "q = sp.Matrix([t1,t2])\n",
    "qdot = sp.Matrix([w1,w2])\n",
    "\n",
    "def i_1Ti(t,x,y):\n",
    "    return sp.Matrix([[sp.cos(t), -sp.sin(t), x],\n",
    "                     [sp.sin(t), sp.cos(t),   y],\n",
    "                     [0,        0,            1]])\n",
    "\n",
    "T1 = i_1Ti((3*sp.pi/2)+t1,0,0)\n",
    "T2 = i_1Ti(t2,l,0)\n",
    "\n",
    "# Position of COM in base frame:\n",
    "\n",
    "X1 = T1@sp.Matrix([c1,0,1])\n",
    "X2 = T1@T2@sp.Matrix([c2,0,1])\n",
    "\n",
    "X1 = sp.Matrix(X1[0:2])\n",
    "\n",
    "X2 = sp.Matrix(X2[0:2])\n",
    "\n",
    "X1"
   ]
  },
  {
   "cell_type": "code",
   "execution_count": 4,
   "metadata": {
    "ExecuteTime": {
     "end_time": "2021-11-26T13:48:45.818922Z",
     "start_time": "2021-11-26T13:48:45.804518Z"
    },
    "colab": {
     "base_uri": "https://localhost:8080/",
     "height": 58
    },
    "id": "4N2xo4uFGoxT",
    "outputId": "3d56ea74-7e0f-4547-cd5a-a1959f0581f9"
   },
   "outputs": [
    {
     "data": {
      "text/latex": [
       "$\\displaystyle \\left[\\begin{matrix}c_{2} \\left(\\sin{\\left(\\theta_{1} \\right)} \\cos{\\left(\\theta_{2} \\right)} + \\sin{\\left(\\theta_{2} \\right)} \\cos{\\left(\\theta_{1} \\right)}\\right) + l \\sin{\\left(\\theta_{1} \\right)}\\\\c_{2} \\left(\\sin{\\left(\\theta_{1} \\right)} \\sin{\\left(\\theta_{2} \\right)} - \\cos{\\left(\\theta_{1} \\right)} \\cos{\\left(\\theta_{2} \\right)}\\right) - l \\cos{\\left(\\theta_{1} \\right)}\\end{matrix}\\right]$"
      ],
      "text/plain": [
       "Matrix([\n",
       "[c2*(sin(theta1)*cos(theta2) + sin(theta2)*cos(theta1)) + l*sin(theta1)],\n",
       "[c2*(sin(theta1)*sin(theta2) - cos(theta1)*cos(theta2)) - l*cos(theta1)]])"
      ]
     },
     "execution_count": 4,
     "metadata": {},
     "output_type": "execute_result"
    }
   ],
   "source": [
    "X2"
   ]
  },
  {
   "cell_type": "code",
   "execution_count": 5,
   "metadata": {
    "ExecuteTime": {
     "end_time": "2021-11-26T13:48:45.848382Z",
     "start_time": "2021-11-26T13:48:45.821818Z"
    },
    "colab": {
     "base_uri": "https://localhost:8080/",
     "height": 58
    },
    "id": "tLnXKdsSrW0_",
    "outputId": "acfea710-f39c-47b9-f130-be33bb979a52"
   },
   "outputs": [
    {
     "data": {
      "text/latex": [
       "$\\displaystyle \\left[\\begin{matrix}c_{1} \\omega_{1} \\cos{\\left(\\theta_{1} \\right)}\\\\c_{1} \\omega_{1} \\sin{\\left(\\theta_{1} \\right)}\\end{matrix}\\right]$"
      ],
      "text/plain": [
       "Matrix([\n",
       "[c1*omega1*cos(theta1)],\n",
       "[c1*omega1*sin(theta1)]])"
      ]
     },
     "execution_count": 5,
     "metadata": {},
     "output_type": "execute_result"
    }
   ],
   "source": [
    "Vg1 = X1.jacobian(q)@sp.Matrix(qdot)\n",
    "Vg2 = X2.jacobian(q)@sp.Matrix(qdot)\n",
    "Vg1"
   ]
  },
  {
   "cell_type": "code",
   "execution_count": 6,
   "metadata": {
    "ExecuteTime": {
     "end_time": "2021-11-26T13:48:45.862224Z",
     "start_time": "2021-11-26T13:48:45.850382Z"
    },
    "colab": {
     "base_uri": "https://localhost:8080/",
     "height": 58
    },
    "id": "jmYvBJ9PrHIm",
    "outputId": "f81acc90-41f5-4004-ba3a-49e869e5a085"
   },
   "outputs": [
    {
     "data": {
      "text/latex": [
       "$\\displaystyle \\left[\\begin{matrix}c_{2} \\omega_{2} \\left(- \\sin{\\left(\\theta_{1} \\right)} \\sin{\\left(\\theta_{2} \\right)} + \\cos{\\left(\\theta_{1} \\right)} \\cos{\\left(\\theta_{2} \\right)}\\right) + \\omega_{1} \\left(c_{2} \\left(- \\sin{\\left(\\theta_{1} \\right)} \\sin{\\left(\\theta_{2} \\right)} + \\cos{\\left(\\theta_{1} \\right)} \\cos{\\left(\\theta_{2} \\right)}\\right) + l \\cos{\\left(\\theta_{1} \\right)}\\right)\\\\c_{2} \\omega_{2} \\left(\\sin{\\left(\\theta_{1} \\right)} \\cos{\\left(\\theta_{2} \\right)} + \\sin{\\left(\\theta_{2} \\right)} \\cos{\\left(\\theta_{1} \\right)}\\right) + \\omega_{1} \\left(c_{2} \\left(\\sin{\\left(\\theta_{1} \\right)} \\cos{\\left(\\theta_{2} \\right)} + \\sin{\\left(\\theta_{2} \\right)} \\cos{\\left(\\theta_{1} \\right)}\\right) + l \\sin{\\left(\\theta_{1} \\right)}\\right)\\end{matrix}\\right]$"
      ],
      "text/plain": [
       "Matrix([\n",
       "[c2*omega2*(-sin(theta1)*sin(theta2) + cos(theta1)*cos(theta2)) + omega1*(c2*(-sin(theta1)*sin(theta2) + cos(theta1)*cos(theta2)) + l*cos(theta1))],\n",
       "[  c2*omega2*(sin(theta1)*cos(theta2) + sin(theta2)*cos(theta1)) + omega1*(c2*(sin(theta1)*cos(theta2) + sin(theta2)*cos(theta1)) + l*sin(theta1))]])"
      ]
     },
     "execution_count": 6,
     "metadata": {},
     "output_type": "execute_result"
    }
   ],
   "source": [
    "Vg2"
   ]
  },
  {
   "cell_type": "code",
   "execution_count": 7,
   "metadata": {
    "ExecuteTime": {
     "end_time": "2021-11-26T13:48:45.892189Z",
     "start_time": "2021-11-26T13:48:45.864316Z"
    },
    "colab": {
     "base_uri": "https://localhost:8080/",
     "height": 90
    },
    "id": "nfif_nwZDL1w",
    "outputId": "048971de-5d3b-49ec-84bf-4c82ebedd972"
   },
   "outputs": [
    {
     "data": {
      "text/latex": [
       "$\\displaystyle 0.5 I_{1} \\omega_{1}^{2} + 0.5 I_{2} \\left(\\omega_{1} + \\omega_{2}\\right)^{2} + 0.5 m_{1} \\left(c_{1}^{2} \\omega_{1}^{2} \\sin^{2}{\\left(\\theta_{1} \\right)} + c_{1}^{2} \\omega_{1}^{2} \\cos^{2}{\\left(\\theta_{1} \\right)}\\right) + 0.5 m_{2} \\left(\\left(c_{2} \\omega_{2} \\left(- \\sin{\\left(\\theta_{1} \\right)} \\sin{\\left(\\theta_{2} \\right)} + \\cos{\\left(\\theta_{1} \\right)} \\cos{\\left(\\theta_{2} \\right)}\\right) + \\omega_{1} \\left(c_{2} \\left(- \\sin{\\left(\\theta_{1} \\right)} \\sin{\\left(\\theta_{2} \\right)} + \\cos{\\left(\\theta_{1} \\right)} \\cos{\\left(\\theta_{2} \\right)}\\right) + l \\cos{\\left(\\theta_{1} \\right)}\\right)\\right)^{2} + \\left(c_{2} \\omega_{2} \\left(\\sin{\\left(\\theta_{1} \\right)} \\cos{\\left(\\theta_{2} \\right)} + \\sin{\\left(\\theta_{2} \\right)} \\cos{\\left(\\theta_{1} \\right)}\\right) + \\omega_{1} \\left(c_{2} \\left(\\sin{\\left(\\theta_{1} \\right)} \\cos{\\left(\\theta_{2} \\right)} + \\sin{\\left(\\theta_{2} \\right)} \\cos{\\left(\\theta_{1} \\right)}\\right) + l \\sin{\\left(\\theta_{1} \\right)}\\right)\\right)^{2}\\right)$"
      ],
      "text/plain": [
       "0.5*I1*omega1**2 + 0.5*I2*(omega1 + omega2)**2 + 0.5*m1*(c1**2*omega1**2*sin(theta1)**2 + c1**2*omega1**2*cos(theta1)**2) + 0.5*m2*((c2*omega2*(-sin(theta1)*sin(theta2) + cos(theta1)*cos(theta2)) + omega1*(c2*(-sin(theta1)*sin(theta2) + cos(theta1)*cos(theta2)) + l*cos(theta1)))**2 + (c2*omega2*(sin(theta1)*cos(theta2) + sin(theta2)*cos(theta1)) + omega1*(c2*(sin(theta1)*cos(theta2) + sin(theta2)*cos(theta1)) + l*sin(theta1)))**2)"
      ]
     },
     "execution_count": 7,
     "metadata": {},
     "output_type": "execute_result"
    }
   ],
   "source": [
    "T = (0.5 *m1 * ( Vg1.T @ Vg1))[0] + (0.5 *m2 * ( Vg2.T @ Vg2) )[0] + 0.5*I1*w1**2 + 0.5*I2*(w1+w2)**2\n",
    "T"
   ]
  },
  {
   "cell_type": "code",
   "execution_count": 8,
   "metadata": {
    "ExecuteTime": {
     "end_time": "2021-11-26T13:48:45.905197Z",
     "start_time": "2021-11-26T13:48:45.894896Z"
    },
    "colab": {
     "base_uri": "https://localhost:8080/",
     "height": 38
    },
    "id": "9GLzdhseGfg5",
    "outputId": "2852effc-6b7c-4778-dc8a-f2daae1e4670"
   },
   "outputs": [
    {
     "data": {
      "text/latex": [
       "$\\displaystyle - 9.81 c_{1} m_{1} \\cos{\\left(\\theta_{1} \\right)} + 9.81 m_{2} \\left(c_{2} \\left(\\sin{\\left(\\theta_{1} \\right)} \\sin{\\left(\\theta_{2} \\right)} - \\cos{\\left(\\theta_{1} \\right)} \\cos{\\left(\\theta_{2} \\right)}\\right) - l \\cos{\\left(\\theta_{1} \\right)}\\right)$"
      ],
      "text/plain": [
       "-9.81*c1*m1*cos(theta1) + 9.81*m2*(c2*(sin(theta1)*sin(theta2) - cos(theta1)*cos(theta2)) - l*cos(theta1))"
      ]
     },
     "execution_count": 8,
     "metadata": {},
     "output_type": "execute_result"
    }
   ],
   "source": [
    "V = m1*g*X1[1] + m2*g*X2[1]\n",
    "V"
   ]
  },
  {
   "cell_type": "code",
   "execution_count": 9,
   "metadata": {
    "ExecuteTime": {
     "end_time": "2021-11-26T13:48:45.924453Z",
     "start_time": "2021-11-26T13:48:45.906329Z"
    },
    "colab": {
     "base_uri": "https://localhost:8080/",
     "height": 111
    },
    "id": "xq5164fOHnTA",
    "outputId": "b35fc26b-da1d-4c8c-dc14-6a7350b32b23"
   },
   "outputs": [
    {
     "data": {
      "text/latex": [
       "$\\displaystyle 0.5 I_{1} \\omega_{1}^{2} + 0.5 I_{2} \\left(\\omega_{1} + \\omega_{2}\\right)^{2} + 9.81 c_{1} m_{1} \\cos{\\left(\\theta_{1} \\right)} + 0.5 m_{1} \\left(c_{1}^{2} \\omega_{1}^{2} \\sin^{2}{\\left(\\theta_{1} \\right)} + c_{1}^{2} \\omega_{1}^{2} \\cos^{2}{\\left(\\theta_{1} \\right)}\\right) - 9.81 m_{2} \\left(c_{2} \\left(\\sin{\\left(\\theta_{1} \\right)} \\sin{\\left(\\theta_{2} \\right)} - \\cos{\\left(\\theta_{1} \\right)} \\cos{\\left(\\theta_{2} \\right)}\\right) - l \\cos{\\left(\\theta_{1} \\right)}\\right) + 0.5 m_{2} \\left(\\left(c_{2} \\omega_{2} \\left(- \\sin{\\left(\\theta_{1} \\right)} \\sin{\\left(\\theta_{2} \\right)} + \\cos{\\left(\\theta_{1} \\right)} \\cos{\\left(\\theta_{2} \\right)}\\right) + \\omega_{1} \\left(c_{2} \\left(- \\sin{\\left(\\theta_{1} \\right)} \\sin{\\left(\\theta_{2} \\right)} + \\cos{\\left(\\theta_{1} \\right)} \\cos{\\left(\\theta_{2} \\right)}\\right) + l \\cos{\\left(\\theta_{1} \\right)}\\right)\\right)^{2} + \\left(c_{2} \\omega_{2} \\left(\\sin{\\left(\\theta_{1} \\right)} \\cos{\\left(\\theta_{2} \\right)} + \\sin{\\left(\\theta_{2} \\right)} \\cos{\\left(\\theta_{1} \\right)}\\right) + \\omega_{1} \\left(c_{2} \\left(\\sin{\\left(\\theta_{1} \\right)} \\cos{\\left(\\theta_{2} \\right)} + \\sin{\\left(\\theta_{2} \\right)} \\cos{\\left(\\theta_{1} \\right)}\\right) + l \\sin{\\left(\\theta_{1} \\right)}\\right)\\right)^{2}\\right)$"
      ],
      "text/plain": [
       "0.5*I1*omega1**2 + 0.5*I2*(omega1 + omega2)**2 + 9.81*c1*m1*cos(theta1) + 0.5*m1*(c1**2*omega1**2*sin(theta1)**2 + c1**2*omega1**2*cos(theta1)**2) - 9.81*m2*(c2*(sin(theta1)*sin(theta2) - cos(theta1)*cos(theta2)) - l*cos(theta1)) + 0.5*m2*((c2*omega2*(-sin(theta1)*sin(theta2) + cos(theta1)*cos(theta2)) + omega1*(c2*(-sin(theta1)*sin(theta2) + cos(theta1)*cos(theta2)) + l*cos(theta1)))**2 + (c2*omega2*(sin(theta1)*cos(theta2) + sin(theta2)*cos(theta1)) + omega1*(c2*(sin(theta1)*cos(theta2) + sin(theta2)*cos(theta1)) + l*sin(theta1)))**2)"
      ]
     },
     "execution_count": 9,
     "metadata": {},
     "output_type": "execute_result"
    }
   ],
   "source": [
    "L = T - V\n",
    "L"
   ]
  },
  {
   "cell_type": "code",
   "execution_count": 10,
   "metadata": {
    "ExecuteTime": {
     "end_time": "2021-11-26T13:48:46.018439Z",
     "start_time": "2021-11-26T13:48:45.927822Z"
    },
    "colab": {
     "base_uri": "https://localhost:8080/",
     "height": 78
    },
    "id": "pX8pXqXEHtDA",
    "outputId": "95663859-7dbc-4573-b014-ed6084c8713b"
   },
   "outputs": [
    {
     "data": {
      "text/latex": [
       "$\\displaystyle \\left[\\begin{matrix}- 9.81 c_{1} m_{1} \\sin{\\left(\\theta_{1} \\right)} - 9.81 m_{2} \\left(c_{2} \\left(\\sin{\\left(\\theta_{1} \\right)} \\cos{\\left(\\theta_{2} \\right)} + \\sin{\\left(\\theta_{2} \\right)} \\cos{\\left(\\theta_{1} \\right)}\\right) + l \\sin{\\left(\\theta_{1} \\right)}\\right) + 0.5 m_{2} \\left(\\left(c_{2} \\omega_{2} \\left(- \\sin{\\left(\\theta_{1} \\right)} \\sin{\\left(\\theta_{2} \\right)} + \\cos{\\left(\\theta_{1} \\right)} \\cos{\\left(\\theta_{2} \\right)}\\right) + \\omega_{1} \\left(c_{2} \\left(- \\sin{\\left(\\theta_{1} \\right)} \\sin{\\left(\\theta_{2} \\right)} + \\cos{\\left(\\theta_{1} \\right)} \\cos{\\left(\\theta_{2} \\right)}\\right) + l \\cos{\\left(\\theta_{1} \\right)}\\right)\\right) \\left(2 c_{2} \\omega_{2} \\left(- \\sin{\\left(\\theta_{1} \\right)} \\cos{\\left(\\theta_{2} \\right)} - \\sin{\\left(\\theta_{2} \\right)} \\cos{\\left(\\theta_{1} \\right)}\\right) + 2 \\omega_{1} \\left(c_{2} \\left(- \\sin{\\left(\\theta_{1} \\right)} \\cos{\\left(\\theta_{2} \\right)} - \\sin{\\left(\\theta_{2} \\right)} \\cos{\\left(\\theta_{1} \\right)}\\right) - l \\sin{\\left(\\theta_{1} \\right)}\\right)\\right) + \\left(2 c_{2} \\omega_{2} \\left(- \\sin{\\left(\\theta_{1} \\right)} \\sin{\\left(\\theta_{2} \\right)} + \\cos{\\left(\\theta_{1} \\right)} \\cos{\\left(\\theta_{2} \\right)}\\right) + 2 \\omega_{1} \\left(c_{2} \\left(- \\sin{\\left(\\theta_{1} \\right)} \\sin{\\left(\\theta_{2} \\right)} + \\cos{\\left(\\theta_{1} \\right)} \\cos{\\left(\\theta_{2} \\right)}\\right) + l \\cos{\\left(\\theta_{1} \\right)}\\right)\\right) \\left(c_{2} \\omega_{2} \\left(\\sin{\\left(\\theta_{1} \\right)} \\cos{\\left(\\theta_{2} \\right)} + \\sin{\\left(\\theta_{2} \\right)} \\cos{\\left(\\theta_{1} \\right)}\\right) + \\omega_{1} \\left(c_{2} \\left(\\sin{\\left(\\theta_{1} \\right)} \\cos{\\left(\\theta_{2} \\right)} + \\sin{\\left(\\theta_{2} \\right)} \\cos{\\left(\\theta_{1} \\right)}\\right) + l \\sin{\\left(\\theta_{1} \\right)}\\right)\\right)\\right)\\\\- 9.81 c_{2} m_{2} \\left(\\sin{\\left(\\theta_{1} \\right)} \\cos{\\left(\\theta_{2} \\right)} + \\sin{\\left(\\theta_{2} \\right)} \\cos{\\left(\\theta_{1} \\right)}\\right) + 0.5 m_{2} \\left(\\left(2 c_{2} \\omega_{1} \\left(- \\sin{\\left(\\theta_{1} \\right)} \\sin{\\left(\\theta_{2} \\right)} + \\cos{\\left(\\theta_{1} \\right)} \\cos{\\left(\\theta_{2} \\right)}\\right) + 2 c_{2} \\omega_{2} \\left(- \\sin{\\left(\\theta_{1} \\right)} \\sin{\\left(\\theta_{2} \\right)} + \\cos{\\left(\\theta_{1} \\right)} \\cos{\\left(\\theta_{2} \\right)}\\right)\\right) \\left(c_{2} \\omega_{2} \\left(\\sin{\\left(\\theta_{1} \\right)} \\cos{\\left(\\theta_{2} \\right)} + \\sin{\\left(\\theta_{2} \\right)} \\cos{\\left(\\theta_{1} \\right)}\\right) + \\omega_{1} \\left(c_{2} \\left(\\sin{\\left(\\theta_{1} \\right)} \\cos{\\left(\\theta_{2} \\right)} + \\sin{\\left(\\theta_{2} \\right)} \\cos{\\left(\\theta_{1} \\right)}\\right) + l \\sin{\\left(\\theta_{1} \\right)}\\right)\\right) + \\left(2 c_{2} \\omega_{1} \\left(- \\sin{\\left(\\theta_{1} \\right)} \\cos{\\left(\\theta_{2} \\right)} - \\sin{\\left(\\theta_{2} \\right)} \\cos{\\left(\\theta_{1} \\right)}\\right) + 2 c_{2} \\omega_{2} \\left(- \\sin{\\left(\\theta_{1} \\right)} \\cos{\\left(\\theta_{2} \\right)} - \\sin{\\left(\\theta_{2} \\right)} \\cos{\\left(\\theta_{1} \\right)}\\right)\\right) \\left(c_{2} \\omega_{2} \\left(- \\sin{\\left(\\theta_{1} \\right)} \\sin{\\left(\\theta_{2} \\right)} + \\cos{\\left(\\theta_{1} \\right)} \\cos{\\left(\\theta_{2} \\right)}\\right) + \\omega_{1} \\left(c_{2} \\left(- \\sin{\\left(\\theta_{1} \\right)} \\sin{\\left(\\theta_{2} \\right)} + \\cos{\\left(\\theta_{1} \\right)} \\cos{\\left(\\theta_{2} \\right)}\\right) + l \\cos{\\left(\\theta_{1} \\right)}\\right)\\right)\\right)\\end{matrix}\\right]$"
      ],
      "text/plain": [
       "Matrix([\n",
       "[-9.81*c1*m1*sin(theta1) - 9.81*m2*(c2*(sin(theta1)*cos(theta2) + sin(theta2)*cos(theta1)) + l*sin(theta1)) + 0.5*m2*((c2*omega2*(-sin(theta1)*sin(theta2) + cos(theta1)*cos(theta2)) + omega1*(c2*(-sin(theta1)*sin(theta2) + cos(theta1)*cos(theta2)) + l*cos(theta1)))*(2*c2*omega2*(-sin(theta1)*cos(theta2) - sin(theta2)*cos(theta1)) + 2*omega1*(c2*(-sin(theta1)*cos(theta2) - sin(theta2)*cos(theta1)) - l*sin(theta1))) + (2*c2*omega2*(-sin(theta1)*sin(theta2) + cos(theta1)*cos(theta2)) + 2*omega1*(c2*(-sin(theta1)*sin(theta2) + cos(theta1)*cos(theta2)) + l*cos(theta1)))*(c2*omega2*(sin(theta1)*cos(theta2) + sin(theta2)*cos(theta1)) + omega1*(c2*(sin(theta1)*cos(theta2) + sin(theta2)*cos(theta1)) + l*sin(theta1))))],\n",
       "[                                                                               -9.81*c2*m2*(sin(theta1)*cos(theta2) + sin(theta2)*cos(theta1)) + 0.5*m2*((2*c2*omega1*(-sin(theta1)*sin(theta2) + cos(theta1)*cos(theta2)) + 2*c2*omega2*(-sin(theta1)*sin(theta2) + cos(theta1)*cos(theta2)))*(c2*omega2*(sin(theta1)*cos(theta2) + sin(theta2)*cos(theta1)) + omega1*(c2*(sin(theta1)*cos(theta2) + sin(theta2)*cos(theta1)) + l*sin(theta1))) + (2*c2*omega1*(-sin(theta1)*cos(theta2) - sin(theta2)*cos(theta1)) + 2*c2*omega2*(-sin(theta1)*cos(theta2) - sin(theta2)*cos(theta1)))*(c2*omega2*(-sin(theta1)*sin(theta2) + cos(theta1)*cos(theta2)) + omega1*(c2*(-sin(theta1)*sin(theta2) + cos(theta1)*cos(theta2)) + l*cos(theta1))))]])"
      ]
     },
     "execution_count": 10,
     "metadata": {},
     "output_type": "execute_result"
    }
   ],
   "source": [
    "dLdq = sp.diff(L,q)\n",
    "dLdq"
   ]
  },
  {
   "cell_type": "code",
   "execution_count": 11,
   "metadata": {
    "ExecuteTime": {
     "end_time": "2021-11-26T13:48:46.084392Z",
     "start_time": "2021-11-26T13:48:46.021619Z"
    },
    "colab": {
     "base_uri": "https://localhost:8080/",
     "height": 78
    },
    "id": "UuTdHWW9LNQK",
    "outputId": "3a6e7d35-5f98-4d68-eac4-6ccda1caf4d6"
   },
   "outputs": [
    {
     "data": {
      "text/latex": [
       "$\\displaystyle \\left[\\begin{matrix}1.0 I_{1} \\omega_{1} + 0.5 I_{2} \\left(2 \\omega_{1} + 2 \\omega_{2}\\right) + 0.5 m_{1} \\left(2 c_{1}^{2} \\omega_{1} \\sin^{2}{\\left(\\theta_{1} \\right)} + 2 c_{1}^{2} \\omega_{1} \\cos^{2}{\\left(\\theta_{1} \\right)}\\right) + 0.5 m_{2} \\left(\\left(2 c_{2} \\left(- \\sin{\\left(\\theta_{1} \\right)} \\sin{\\left(\\theta_{2} \\right)} + \\cos{\\left(\\theta_{1} \\right)} \\cos{\\left(\\theta_{2} \\right)}\\right) + 2 l \\cos{\\left(\\theta_{1} \\right)}\\right) \\left(c_{2} \\omega_{2} \\left(- \\sin{\\left(\\theta_{1} \\right)} \\sin{\\left(\\theta_{2} \\right)} + \\cos{\\left(\\theta_{1} \\right)} \\cos{\\left(\\theta_{2} \\right)}\\right) + \\omega_{1} \\left(c_{2} \\left(- \\sin{\\left(\\theta_{1} \\right)} \\sin{\\left(\\theta_{2} \\right)} + \\cos{\\left(\\theta_{1} \\right)} \\cos{\\left(\\theta_{2} \\right)}\\right) + l \\cos{\\left(\\theta_{1} \\right)}\\right)\\right) + \\left(2 c_{2} \\left(\\sin{\\left(\\theta_{1} \\right)} \\cos{\\left(\\theta_{2} \\right)} + \\sin{\\left(\\theta_{2} \\right)} \\cos{\\left(\\theta_{1} \\right)}\\right) + 2 l \\sin{\\left(\\theta_{1} \\right)}\\right) \\left(c_{2} \\omega_{2} \\left(\\sin{\\left(\\theta_{1} \\right)} \\cos{\\left(\\theta_{2} \\right)} + \\sin{\\left(\\theta_{2} \\right)} \\cos{\\left(\\theta_{1} \\right)}\\right) + \\omega_{1} \\left(c_{2} \\left(\\sin{\\left(\\theta_{1} \\right)} \\cos{\\left(\\theta_{2} \\right)} + \\sin{\\left(\\theta_{2} \\right)} \\cos{\\left(\\theta_{1} \\right)}\\right) + l \\sin{\\left(\\theta_{1} \\right)}\\right)\\right)\\right)\\\\0.5 I_{2} \\left(2 \\omega_{1} + 2 \\omega_{2}\\right) + 0.5 m_{2} \\left(2 c_{2} \\left(- \\sin{\\left(\\theta_{1} \\right)} \\sin{\\left(\\theta_{2} \\right)} + \\cos{\\left(\\theta_{1} \\right)} \\cos{\\left(\\theta_{2} \\right)}\\right) \\left(c_{2} \\omega_{2} \\left(- \\sin{\\left(\\theta_{1} \\right)} \\sin{\\left(\\theta_{2} \\right)} + \\cos{\\left(\\theta_{1} \\right)} \\cos{\\left(\\theta_{2} \\right)}\\right) + \\omega_{1} \\left(c_{2} \\left(- \\sin{\\left(\\theta_{1} \\right)} \\sin{\\left(\\theta_{2} \\right)} + \\cos{\\left(\\theta_{1} \\right)} \\cos{\\left(\\theta_{2} \\right)}\\right) + l \\cos{\\left(\\theta_{1} \\right)}\\right)\\right) + 2 c_{2} \\left(\\sin{\\left(\\theta_{1} \\right)} \\cos{\\left(\\theta_{2} \\right)} + \\sin{\\left(\\theta_{2} \\right)} \\cos{\\left(\\theta_{1} \\right)}\\right) \\left(c_{2} \\omega_{2} \\left(\\sin{\\left(\\theta_{1} \\right)} \\cos{\\left(\\theta_{2} \\right)} + \\sin{\\left(\\theta_{2} \\right)} \\cos{\\left(\\theta_{1} \\right)}\\right) + \\omega_{1} \\left(c_{2} \\left(\\sin{\\left(\\theta_{1} \\right)} \\cos{\\left(\\theta_{2} \\right)} + \\sin{\\left(\\theta_{2} \\right)} \\cos{\\left(\\theta_{1} \\right)}\\right) + l \\sin{\\left(\\theta_{1} \\right)}\\right)\\right)\\right)\\end{matrix}\\right]$"
      ],
      "text/plain": [
       "Matrix([\n",
       "[1.0*I1*omega1 + 0.5*I2*(2*omega1 + 2*omega2) + 0.5*m1*(2*c1**2*omega1*sin(theta1)**2 + 2*c1**2*omega1*cos(theta1)**2) + 0.5*m2*((2*c2*(-sin(theta1)*sin(theta2) + cos(theta1)*cos(theta2)) + 2*l*cos(theta1))*(c2*omega2*(-sin(theta1)*sin(theta2) + cos(theta1)*cos(theta2)) + omega1*(c2*(-sin(theta1)*sin(theta2) + cos(theta1)*cos(theta2)) + l*cos(theta1))) + (2*c2*(sin(theta1)*cos(theta2) + sin(theta2)*cos(theta1)) + 2*l*sin(theta1))*(c2*omega2*(sin(theta1)*cos(theta2) + sin(theta2)*cos(theta1)) + omega1*(c2*(sin(theta1)*cos(theta2) + sin(theta2)*cos(theta1)) + l*sin(theta1))))],\n",
       "[                                                                                                                                 0.5*I2*(2*omega1 + 2*omega2) + 0.5*m2*(2*c2*(-sin(theta1)*sin(theta2) + cos(theta1)*cos(theta2))*(c2*omega2*(-sin(theta1)*sin(theta2) + cos(theta1)*cos(theta2)) + omega1*(c2*(-sin(theta1)*sin(theta2) + cos(theta1)*cos(theta2)) + l*cos(theta1))) + 2*c2*(sin(theta1)*cos(theta2) + sin(theta2)*cos(theta1))*(c2*omega2*(sin(theta1)*cos(theta2) + sin(theta2)*cos(theta1)) + omega1*(c2*(sin(theta1)*cos(theta2) + sin(theta2)*cos(theta1)) + l*sin(theta1))))]])"
      ]
     },
     "execution_count": 11,
     "metadata": {},
     "output_type": "execute_result"
    }
   ],
   "source": [
    "dLdqdot = sp.diff(L,qdot)\n",
    "dLdqdot"
   ]
  },
  {
   "cell_type": "code",
   "execution_count": 12,
   "metadata": {
    "ExecuteTime": {
     "end_time": "2021-11-26T13:48:46.092881Z",
     "start_time": "2021-11-26T13:48:46.086069Z"
    },
    "colab": {
     "base_uri": "https://localhost:8080/",
     "height": 58
    },
    "id": "EqiR7lGvNJoc",
    "outputId": "c7b98490-3dcc-403c-d3bd-287e2a43b7bf"
   },
   "outputs": [
    {
     "data": {
      "text/latex": [
       "$\\displaystyle \\left[\\begin{matrix}\\dot{\\omega}_{1}\\\\\\dot{\\omega}_{2}\\end{matrix}\\right]$"
      ],
      "text/plain": [
       "Matrix([\n",
       "[omegadot1],\n",
       "[omegadot2]])"
      ]
     },
     "execution_count": 12,
     "metadata": {},
     "output_type": "execute_result"
    }
   ],
   "source": [
    "w1dot, w2dot = sp.symbols('omegadot1, omegadot2')\n",
    "qddot = sp.Matrix([w1dot,w2dot])\n",
    "qddot"
   ]
  },
  {
   "cell_type": "code",
   "execution_count": 13,
   "metadata": {
    "ExecuteTime": {
     "end_time": "2021-11-26T13:48:46.211186Z",
     "start_time": "2021-11-26T13:48:46.096483Z"
    },
    "colab": {
     "base_uri": "https://localhost:8080/",
     "height": 88
    },
    "id": "7FPCQ6-JLrzb",
    "outputId": "5d98b7cd-97cd-482f-dd80-2def756d46f7"
   },
   "outputs": [
    {
     "data": {
      "text/plain": [
       "(2, 1)"
      ]
     },
     "execution_count": 13,
     "metadata": {},
     "output_type": "execute_result"
    }
   ],
   "source": [
    "ddt_dLdqdot = sp.Matrix([sp.diff(dLdqdot[0],qdot).T,\n",
    "                 sp.diff(dLdqdot[1],qdot).T])@qddot + sp.Matrix([sp.diff(dLdqdot[0],q).T,\n",
    "                 sp.diff(dLdqdot[1],q).T])@qdot\n",
    "ddt_dLdqdot.shape"
   ]
  },
  {
   "cell_type": "code",
   "execution_count": 27,
   "metadata": {
    "ExecuteTime": {
     "end_time": "2021-11-26T13:49:29.814864Z",
     "start_time": "2021-11-26T13:49:29.808406Z"
    },
    "colab": {
     "base_uri": "https://localhost:8080/",
     "height": 88
    },
    "id": "SaXLZJyN6dR2",
    "outputId": "2ff85d64-a8a0-41bc-ff90-0ad8804aa30b"
   },
   "outputs": [
    {
     "data": {
      "text/plain": [
       "(2, 1)"
      ]
     },
     "execution_count": 27,
     "metadata": {},
     "output_type": "execute_result"
    }
   ],
   "source": [
    "eom = ddt_dLdqdot - dLdq\n",
    "eom.shape"
   ]
  },
  {
   "cell_type": "code",
   "execution_count": 26,
   "metadata": {
    "ExecuteTime": {
     "end_time": "2021-11-26T13:49:23.060678Z",
     "start_time": "2021-11-26T13:49:22.997191Z"
    },
    "colab": {
     "base_uri": "https://localhost:8080/",
     "height": 78
    },
    "id": "c9DAnc_ZW7ud",
    "outputId": "f3f7a0a7-97fd-4e86-f230-e288f1539890"
   },
   "outputs": [
    {
     "data": {
      "text/plain": [
       "(2, 1)"
      ]
     },
     "execution_count": 26,
     "metadata": {},
     "output_type": "execute_result"
    }
   ],
   "source": [
    "B = eom.subs({w1dot:0,w2dot:0})\n",
    "B.shape"
   ]
  },
  {
   "cell_type": "code",
   "execution_count": 24,
   "metadata": {
    "ExecuteTime": {
     "end_time": "2021-11-26T13:49:12.231013Z",
     "start_time": "2021-11-26T13:49:12.220632Z"
    },
    "colab": {
     "base_uri": "https://localhost:8080/",
     "height": 88
    },
    "id": "rLqjnO4OQgZB",
    "outputId": "79c768be-f9a1-4364-e495-a5035e833faf"
   },
   "outputs": [
    {
     "data": {
      "text/plain": [
       "(2, 2)"
      ]
     },
     "execution_count": 24,
     "metadata": {},
     "output_type": "execute_result"
    }
   ],
   "source": [
    "M = eom.jacobian(qddot)\n",
    "M.shape"
   ]
  },
  {
   "cell_type": "code",
   "execution_count": 25,
   "metadata": {
    "ExecuteTime": {
     "end_time": "2021-11-26T13:49:16.556921Z",
     "start_time": "2021-11-26T13:49:16.537119Z"
    },
    "colab": {
     "base_uri": "https://localhost:8080/",
     "height": 58
    },
    "id": "WBtq1ulmXvhh",
    "outputId": "2ffb82b3-3a28-48e8-f2f7-bf56c63052c1"
   },
   "outputs": [
    {
     "data": {
      "text/plain": [
       "(2, 1)"
      ]
     },
     "execution_count": 25,
     "metadata": {},
     "output_type": "execute_result"
    }
   ],
   "source": [
    "G = B.subs({w1:0,w2:0})\n",
    "G.shape"
   ]
  },
  {
   "cell_type": "code",
   "execution_count": 23,
   "metadata": {
    "ExecuteTime": {
     "end_time": "2021-11-26T13:49:05.293449Z",
     "start_time": "2021-11-26T13:49:05.286449Z"
    },
    "colab": {
     "base_uri": "https://localhost:8080/",
     "height": 78
    },
    "id": "ImCH-vP3D-xK",
    "outputId": "7ed112b1-e9e7-4a57-891d-dade3054c5ce",
    "scrolled": true
   },
   "outputs": [
    {
     "data": {
      "text/plain": [
       "(2, 1)"
      ]
     },
     "execution_count": 23,
     "metadata": {},
     "output_type": "execute_result"
    }
   ],
   "source": [
    "C = B - G\n",
    "C.shape"
   ]
  },
  {
   "cell_type": "code",
   "execution_count": 19,
   "metadata": {
    "ExecuteTime": {
     "end_time": "2021-11-26T13:48:47.548694Z",
     "start_time": "2021-11-26T13:48:46.773417Z"
    },
    "id": "TmBuJ7dIaMbw"
   },
   "outputs": [],
   "source": [
    "class double_pendulum():\n",
    "    def __init__(self,m1= 1,m2 = 1, I1 = 0.1, I2 = 0.1, c1 = 0.5, c2 = 0.5, l = 1):\n",
    "        self.m1 = m1\n",
    "        self.m2 = m2\n",
    "        self.I1 = I1\n",
    "        self.I2 = I2\n",
    "        self.c1 = c1\n",
    "        self.c2 = c2\n",
    "        self.l = l\n",
    "        self.z = np.array([1.53,0,0,0]) ## [theta1,theta2,omega1,omega2]\n",
    "        self.T = np.array([[0, 0]]).T\n",
    "        self.Z = np.array([self.z])\n",
    "        self.t_end = 5\n",
    "\n",
    "    def set_equations(self,M,C,G):\n",
    "        \n",
    "        M = M.subs({l:self.l, c1:self.c1, c2:self.c2, I1:self.I1, I2:self.I2, m1:self.m1, m2:self.m2})\n",
    "        C = C.subs({l:self.l, c1:self.c1, c2:self.c2, I1:self.I1, I2:self.I2, m1:self.m1, m2:self.m2})\n",
    "        G = G.subs({l:self.l, c1:self.c1, c2:self.c2, I1:self.I1, I2:self.I2, m1:self.m1, m2:self.m2})\n",
    "\n",
    "        \n",
    "        self.M = sp.lambdify([t1, t2],M)\n",
    "        self.C = sp.lambdify([t1, t2, w1, w2],C)\n",
    "        self.G = sp.lambdify([t1, t2],G)\n",
    "    \n",
    "    def get_T(self,z):\n",
    "        return np.array([[0,0]]).T # np.array([[0,-100*z[1]]]).T\n",
    "\n",
    "    def rhs(self,t,z):\n",
    "        '''\n",
    "        Finding zdot numerically\n",
    "\n",
    "        wdot =  M_inv * (T - C - G)\n",
    "        '''\n",
    "        wdot = np.linalg.inv(self.M(z[0],z[1]))@(self.get_T(z) - self.C(z[0],z[1],z[2],z[3]) - self.G(z[0],z[1]))\n",
    "        return np.array([z[2],z[3],wdot[0][0],wdot[1][0]],dtype=object)\n",
    "\n",
    "        \n",
    "    def solve_ode(self):\n",
    "        eqn = ode(self.rhs)\n",
    "        eqn.set_initial_value(self.z,0)\n",
    "        dt = 0.01\n",
    "\n",
    "        while eqn.successful() and (eqn.t < self.t_end):\n",
    "            self.z = eqn.integrate(eqn.t+dt)\n",
    "            self.Z = np.append(self.Z,[self.z],axis=0)\n",
    "\n",
    "p1 = double_pendulum()\n",
    "\n",
    "p1.set_equations(M,C,G)\n",
    "\n",
    "p1.solve_ode()\n",
    "\n"
   ]
  },
  {
   "cell_type": "code",
   "execution_count": 30,
   "metadata": {
    "ExecuteTime": {
     "end_time": "2021-11-26T14:06:48.269968Z",
     "start_time": "2021-11-26T14:06:48.254432Z"
    },
    "id": "7rDZfskskfLH"
   },
   "outputs": [],
   "source": [
    "class save_animation(double_pendulum):\n",
    "    def __init__(self,x,y):\n",
    "        super().__init__()\n",
    "        self.X = x\n",
    "        self.Y = y\n",
    "        self.fig = plt.figure() \n",
    "        self.axis = plt.axes(autoscale_on=False,xlim = (-2, 2),\n",
    "                            ylim = (-3, 1)) \n",
    "        self.axis.set_aspect('equal')\n",
    "        self.axis.grid()\n",
    "        self.point1, = self.axis.plot(0,0, marker='o') \n",
    "        self.trace, = self.axis.plot([],[], lw= 1, ls='-') \n",
    "        self.line1, = self.axis.plot([],[], lw = 2)\n",
    "        \n",
    "    \n",
    "    def init(self): \n",
    "        self.point1.set_data([],[]) \n",
    "        self.line1.set_data([],[])\n",
    "        self.trace.set_data([],[])\n",
    "        return self.point1, self.line1, self.trace,\n",
    "\n",
    "    def end_eff(self,i):\n",
    "        P = np.array([self.l*np.sin(self.X[i]), -self.l*np.cos(self.X[i])])\n",
    "        Q = P + np.array([self.l*np.sin(self.X[i]+self.Y[i]), -self.l*np.cos(self.X[i]+self.Y[i])])\n",
    "        return P,Q\n",
    "\n",
    "    def init_q_his(self):\n",
    "        P,Q = self.end_eff(0)\n",
    "        self.q_history = np.array([Q])\n",
    "\n",
    "    def animate(self,i):\n",
    "\n",
    "        self.point1.set_data(0,0) \n",
    "\n",
    "        P,Q = self.end_eff(i)\n",
    "        self.q_history = np.append(self.q_history,[Q],axis=0)\n",
    "\n",
    "        self.line1.set_data([0,P[0],Q[0]],[0,P[1],Q[1]])\n",
    "\n",
    "        self.trace.set_data(self.q_history[:i,0],self.q_history[:i,1]) \n",
    "        return self.point1, self.line1, self.trace,\n",
    "\n",
    "    def save(self,file_name = 'results/double_pendulum_new_save.mp4'):\n",
    "        anim = animation.FuncAnimation(self.fig, self.animate, init_func = self.init, \n",
    "                               frames = len(self.X), interval = 10, blit = True) \n",
    "        anim.save(file_name, writer = 'ffmpeg', fps = 100\n",
    "                  )"
   ]
  },
  {
   "cell_type": "code",
   "execution_count": 31,
   "metadata": {
    "ExecuteTime": {
     "end_time": "2021-11-26T14:07:03.983047Z",
     "start_time": "2021-11-26T14:06:50.473683Z"
    },
    "colab": {
     "base_uri": "https://localhost:8080/",
     "height": 269
    },
    "id": "hjwUSXnynFij",
    "outputId": "7ae14b4e-39bf-432a-c0c2-c9e529c09dc1"
   },
   "outputs": [
    {
     "data": {
      "image/png": "[encoded data removed]",
      "text/plain": [
       "<Figure size 432x288 with 1 Axes>"
      ]
     },
     "metadata": {
      "needs_background": "light"
     },
     "output_type": "display_data"
    }
   ],
   "source": [
    "s1 = save_animation(p1.Z[:,0],p1.Z[:,1])\n",
    "s1.init_q_his()\n",
    "s1.save()"
   ]
  }
 ],
 "metadata": {
  "colab": {
   "authorship_tag": "ABX9TyPsL41b7jCnOYY2astrUh54",
   "collapsed_sections": [],
   "include_colab_link": true,
   "name": "Legged_Module_3_double_pendulum.ipynb",
   "provenance": []
  },
  "hide_input": false,
  "kernelspec": {
   "display_name": "Python 3 (ipykernel)",
   "language": "python",
   "name": "python3"
  },
  "language_info": {
   "codemirror_mode": {
    "name": "ipython",
    "version": 3
   },
   "file_extension": ".py",
   "mimetype": "text/x-python",
   "name": "python",
   "nbconvert_exporter": "python",
   "pygments_lexer": "ipython3",
   "version": "3.8.10"
  }
 },
 "nbformat": 4,
 "nbformat_minor": 1
}
