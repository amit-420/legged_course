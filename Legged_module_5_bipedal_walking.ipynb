{
 "cells": [
  {
   "cell_type": "code",
   "execution_count": 1,
   "id": "8077fc3a",
   "metadata": {
    "ExecuteTime": {
     "end_time": "2023-01-21T16:41:24.559737Z",
     "start_time": "2023-01-21T16:41:23.535168Z"
    }
   },
   "outputs": [],
   "source": [
    "import numpy as np\n",
    "import sympy as sp\n",
    "import matplotlib.animation as animation \n",
    "import matplotlib.pyplot as plt \n",
    "from scipy.integrate import odeint,ode\n",
    "from scipy.optimize import fsolve"
   ]
  },
  {
   "cell_type": "code",
   "execution_count": 2,
   "id": "f7b435f4",
   "metadata": {
    "ExecuteTime": {
     "end_time": "2023-01-21T16:41:24.571196Z",
     "start_time": "2023-01-21T16:41:24.561221Z"
    },
    "code_folding": [
     18
    ],
    "hide_input": false
   },
   "outputs": [],
   "source": [
    "l0, l1, l2, w, = sp.symbols('l0,l1,l2,w')\n",
    "\n",
    "Ibx,Iby,Ibz = sp.symbols('I_bx,I_by,I_bz')\n",
    "Itx,Ity,Itz = sp.symbols('I_tx,I_ty,I_tz')\n",
    "Icx,Icy,Icz = sp.symbols('I_cx,I_cy,I_cz')\n",
    "mb,mt,mc = sp.symbols('m_b,m_t,m_c')\n",
    "\n",
    "P = sp.symbols('P')\n",
    "g = 9.81\n",
    "\"\"\"Left leg variables\"\"\"\n",
    "plh, tlh, psilh, tlk, plhd, tlhd, psilhd, tlkd = sp.symbols('phi_lh,theta_lh,psi_lh,theta_lk,phidot_lh,thetadot_lh,psidot_lh,thetadot_lk')\n",
    "plhddot, tlhddot, psilhddot, tlkddot = sp.symbols('phiddot_lh,thetaddot_lh,psiddot_lh,thetaddot_lk')\n",
    "\n",
    "\"\"\"Right leg varibales\"\"\"\n",
    "prh, trh, psirh, trk, prhd, trhd, psirhd, trkd = sp.symbols('phi_rh,theta_rh,psi_rh,theta_rk,phidot_rh,thetadot_rh,psidot_rh,thetadot_rk')\n",
    "prhddot, trhddot, psirhddot, trkddot = sp.symbols('phiddot_rh,thetaddot_rh,psiddot_rh,thetaddot_rk')\n",
    "\n",
    "\"\"\"Torso variables\"\"\"\n",
    "p, t, psi, x,y,z, pd, td, psid, xd,yd,zd = sp.symbols('phi,theta,psi,x,y,z,phidot,thetadot,psidot,xdot,ydot,zdot')\n",
    "pddot, tddot, psiddot, xddot,yddot,zddot = sp.symbols('phiddot,thetaddot,psiddot,xddot,yddot,zddot')\n",
    "\n",
    "q = sp.Matrix([p, t, psi, x,y,z,plh, tlh, psilh, tlk,prh, trh, psirh, trk])\n",
    "qdot = sp.Matrix([pd, td, psid, xd,yd,zd , plhd, tlhd, psilhd, tlkd, prhd, trhd, psirhd, trkd])\n",
    "qddot = sp.Matrix([pddot, tddot, psiddot, xddot,yddot,zddot,plhddot, tlhddot, psilhddot, tlkddot,prhddot, trhddot, psirhddot, trkddot])\n",
    "\n",
    "def i_1Ti(phi,phid,u,r):\n",
    "    \"\"\"\n",
    "        @phi: Angle of rotation.\n",
    "        @u : Unit base along which rotation is happening.\n",
    "        @r : Position vector of joint in world frame.\n",
    "    \"\"\"\n",
    "    \n",
    "    ux,uy,uz = u\n",
    "    R = sp.eye(3,3)\n",
    "    cth = sp.cos(phi)\n",
    "    sth = sp.sin(phi)\n",
    "    vth = 1 - cth\n",
    "    R[0,0] = (ux**2)*vth + cth\n",
    "    R[0,1] = ux*uy*vth-(uz*sth)\n",
    "    R[0,2] = ux*uz*vth+(uy*sth)\n",
    "    R[1,0] = ux*uy*vth + (uz*sth)\n",
    "    R[1,1] = ((uy**2)*vth) + cth\n",
    "    R[1,2] = uy*uz*vth - (ux*sth)\n",
    "    R[2,0] = ux*uz*vth - (uy*sth)\n",
    "    R[2,1] = uy*uz*vth + (ux*sth)\n",
    "    R[2,2] = ((uz**2)*vth) + cth\n",
    "    I = sp.eye(3,3)\n",
    "    \n",
    "    R1 = R.col_insert(3,(I-R)@r.T)\n",
    "    tmp = sp.Matrix([0,0,0,1]).T\n",
    "    \n",
    "    T = R1.col_join(tmp)\n",
    "    omega = phid*sp.Matrix(u)\n",
    "    return T, R, omega"
   ]
  },
  {
   "cell_type": "code",
   "execution_count": 3,
   "id": "52225569",
   "metadata": {
    "ExecuteTime": {
     "end_time": "2023-01-21T16:41:24.628488Z",
     "start_time": "2023-01-21T16:41:24.571899Z"
    },
    "hide_input": false
   },
   "outputs": [
    {
     "name": "stdout",
     "output_type": "stream",
     "text": [
      "\"\"\"For Right Leg \"\"\"\n"
     ]
    },
    {
     "data": {
      "text/plain": [
       "(4, 4)"
      ]
     },
     "execution_count": 3,
     "metadata": {},
     "output_type": "execute_result"
    }
   ],
   "source": [
    "\"\"\"For Right Leg \"\"\"\n",
    "print('\"\"\"For Right Leg \"\"\"')\n",
    "T12r,R12r,omega12r = i_1Ti(psirh,psirhd,np.array([0,0,-1]),sp.Matrix([[0,-w,0]]))\n",
    "T23r,R23r,omega23r = i_1Ti(prh,prhd,np.array([-1,0,0]),sp.Matrix([[0,-w,0]]))\n",
    "T34r,R34r,omega34r = i_1Ti(trh,trhd,np.array([0,-1,0]),sp.Matrix([[0,-w,0]]))\n",
    "T45r,R45r,omega45r = i_1Ti(trk,trkd,np.array([0,-1,0]),sp.Matrix([[0,-w,-l1]]))\n",
    "\n",
    "T14r = T12r@T23r@T34r\n",
    "T15r = T12r@T23r@T34r@T45r\n",
    "T12r.shape"
   ]
  },
  {
   "cell_type": "code",
   "execution_count": 4,
   "id": "1b49df5f",
   "metadata": {
    "ExecuteTime": {
     "end_time": "2023-01-21T16:41:24.653307Z",
     "start_time": "2023-01-21T16:41:24.629549Z"
    },
    "hide_input": false
   },
   "outputs": [
    {
     "name": "stdout",
     "output_type": "stream",
     "text": [
      "\"\"\"For Left Leg\"\"\"\n"
     ]
    },
    {
     "data": {
      "text/plain": [
       "(4, 4)"
      ]
     },
     "execution_count": 4,
     "metadata": {},
     "output_type": "execute_result"
    }
   ],
   "source": [
    "\"\"\"For Left Leg\"\"\"\n",
    "print('\"\"\"For Left Leg\"\"\"')\n",
    "T12l,R12l,omega12l = i_1Ti(psilh,psilhd,np.array([0,0,1]),sp.Matrix([[0,w,0]]))\n",
    "T23l,R23l,omega23l = i_1Ti(plh,plhd,np.array([1,0,0]),sp.Matrix([[0,w,0]]))\n",
    "T34l,R34l,omega34l = i_1Ti(tlh,tlhd,np.array([0,-1,0]),sp.Matrix([[0,w,0]]))\n",
    "T45l,R45l,omega45l = i_1Ti(tlk,tlkd,np.array([0,-1,0]),sp.Matrix([[0,w,-l1]]))\n",
    "\n",
    "T14l = T12l@T23l@T34l\n",
    "T15l = T12l@T23l@T34l@T45l\n",
    "T15l.shape"
   ]
  },
  {
   "cell_type": "code",
   "execution_count": 5,
   "id": "d6472abb",
   "metadata": {
    "ExecuteTime": {
     "end_time": "2023-01-21T16:41:24.670239Z",
     "start_time": "2023-01-21T16:41:24.654045Z"
    },
    "hide_input": true
   },
   "outputs": [
    {
     "data": {
      "text/plain": [
       "(4, 4)"
      ]
     },
     "execution_count": 5,
     "metadata": {},
     "output_type": "execute_result"
    }
   ],
   "source": [
    "\"\"\" For Torso\"\"\"\n",
    "\n",
    "'''World Frame'''\n",
    "T01 = sp.Matrix([[1, 0, 0, x],\n",
    "                 [0, 1, 0, y],\n",
    "                 [0, 0, 1, z], \n",
    "                 [0, 0, 0, 1]])\n",
    "R01 = sp.Matrix([[1,0,0],[0,1,0],[0,0,1]])\n",
    "T12,R12,omega12 = i_1Ti(p,pd,np.array([1,0,0]),sp.Matrix([[0,0,0]]))\n",
    "T23,R23,omega23 = i_1Ti(t,td,np.array([0,1,0]),sp.Matrix([[0,0,0]]))\n",
    "T34,R34,omega34 = i_1Ti(psi,psid,np.array([0,0,1]),sp.Matrix([[0,0,0]]))\n",
    "\n",
    "T04 = T01@T12@T23@T34\n",
    "T04.shape"
   ]
  },
  {
   "cell_type": "code",
   "execution_count": 6,
   "id": "92c1245e",
   "metadata": {
    "ExecuteTime": {
     "end_time": "2023-01-21T16:41:24.680035Z",
     "start_time": "2023-01-21T16:41:24.671389Z"
    },
    "hide_input": false
   },
   "outputs": [
    {
     "data": {
      "text/plain": [
       "(3, 1)"
      ]
     },
     "execution_count": 6,
     "metadata": {},
     "output_type": "execute_result"
    }
   ],
   "source": [
    "\"\"\"Position vectors for Torso\"\"\"\n",
    "P_h = T04@sp.Matrix([0,0,l0,1])\n",
    "P_h = sp.Matrix(P_h[:3])\n",
    "P_h.shape"
   ]
  },
  {
   "cell_type": "code",
   "execution_count": 7,
   "id": "c34bb179",
   "metadata": {
    "ExecuteTime": {
     "end_time": "2023-01-21T16:41:24.720737Z",
     "start_time": "2023-01-21T16:41:24.680896Z"
    },
    "hide_input": false
   },
   "outputs": [
    {
     "data": {
      "text/plain": [
       "(4, 1)"
      ]
     },
     "execution_count": 7,
     "metadata": {},
     "output_type": "execute_result"
    }
   ],
   "source": [
    "\"\"\"Position Vectors for Left Leg\"\"\"\n",
    "P_lh = T04@T14l@sp.Matrix([0,w,0,1])\n",
    "P_lk = T04@T15l@sp.Matrix([0,w,-l1,1])\n",
    "P_la = T04@T15l@sp.Matrix([0,w,-(l1+l2),1])\n",
    "P_la.shape"
   ]
  },
  {
   "cell_type": "code",
   "execution_count": 8,
   "id": "4e2fd949",
   "metadata": {
    "ExecuteTime": {
     "end_time": "2023-01-21T16:41:24.762942Z",
     "start_time": "2023-01-21T16:41:24.722174Z"
    },
    "hide_input": true
   },
   "outputs": [
    {
     "data": {
      "text/plain": [
       "(4, 1)"
      ]
     },
     "execution_count": 8,
     "metadata": {},
     "output_type": "execute_result"
    }
   ],
   "source": [
    "\"\"\"Position Vectors for Right Leg\"\"\"\n",
    "P_rh = T04@T14r@sp.Matrix([0,-w,0,1])\n",
    "P_rk = T04@T15r@sp.Matrix([0,-w,-l1,1])\n",
    "P_ra = T04@T15r@sp.Matrix([0,-w,-(l1+l2),1])\n",
    "P_ra.shape"
   ]
  },
  {
   "cell_type": "code",
   "execution_count": 9,
   "id": "d3249331",
   "metadata": {
    "ExecuteTime": {
     "end_time": "2023-01-21T16:41:24.777140Z",
     "start_time": "2023-01-21T16:41:24.764090Z"
    },
    "hide_input": true
   },
   "outputs": [
    {
     "name": "stdout",
     "output_type": "stream",
     "text": [
      "\"\"\"Position of COM\"\"\"\n"
     ]
    },
    {
     "data": {
      "text/plain": [
       "(4, 1)"
      ]
     },
     "execution_count": 9,
     "metadata": {},
     "output_type": "execute_result"
    }
   ],
   "source": [
    "\"\"\"Position of COM\"\"\"\n",
    "print('\"\"\"Position of COM\"\"\"')\n",
    "com_b = T04@sp.Matrix([0,0,0.5*l0,1])\n",
    "com_lt = T04@T14l@sp.Matrix([0,w,-0.5*l1,1])\n",
    "com_lc = T04@T15l@sp.Matrix([0,w,-(l1+0.5*l2),1])\n",
    "com_rt = T04@T14r@sp.Matrix([0,-w,-0.5*l1,1])\n",
    "com_rc = T04@T15r@sp.Matrix([0,-w,-(l1+0.5*l2),1])\n",
    "com_b.shape"
   ]
  },
  {
   "cell_type": "code",
   "execution_count": 10,
   "id": "75aaf431",
   "metadata": {
    "ExecuteTime": {
     "end_time": "2023-01-21T16:41:24.807256Z",
     "start_time": "2023-01-21T16:41:24.779089Z"
    },
    "hide_input": false
   },
   "outputs": [
    {
     "name": "stdout",
     "output_type": "stream",
     "text": [
      "\"\"\"Angular velocity\"\"\"\n"
     ]
    }
   ],
   "source": [
    "\"\"\"Angular velocity in body frame\"\"\"\n",
    "\n",
    "omegaB_2 = omega12\n",
    "omegaB_3 = omega23 + R23.T@omegaB_2\n",
    "omegaB_4 = omega34 + R34.T@omegaB_3\n",
    "\n",
    "\"\"\"Angular velocity for left leg\"\"\"\n",
    "\n",
    "omegaB_1l = omega12l + R12l.T@omegaB_4\n",
    "omegaB_2l = omega23l + R23l.T@omegaB_1l\n",
    "omegaB_3l = omega34l + R34l.T@omegaB_2l\n",
    "omegaB_4l = omega45l + R45l.T@omegaB_3l\n",
    "\n",
    "\"\"\"Angular velocity for right leg\"\"\"\n",
    "omegaB_1r = omega12r + R12r.T@omegaB_4\n",
    "omegaB_2r = omega23r + R23r.T@omegaB_1r\n",
    "omegaB_3r = omega34r + R34r.T@omegaB_2r\n",
    "omegaB_4r = omega45r + R45r.T@omegaB_3r\n",
    "print('\"\"\"Angular velocity\"\"\"')"
   ]
  },
  {
   "cell_type": "code",
   "execution_count": 11,
   "id": "3226c3e1",
   "metadata": {
    "ExecuteTime": {
     "end_time": "2023-01-21T16:41:25.638782Z",
     "start_time": "2023-01-21T16:41:24.808179Z"
    },
    "hide_input": false
   },
   "outputs": [
    {
     "name": "stdout",
     "output_type": "stream",
     "text": [
      "\"\"\"linear velocity\"\"\"\n"
     ]
    }
   ],
   "source": [
    "qdot_diag = sp.diag(pd, td, psid, xd,yd,zd , plhd, tlhd, psilhd, tlkd, prhd, trhd, psirhd, trkd)\n",
    "qddot_diag = sp.diag(pddot, tddot, psiddot, xddot,yddot,zddot,plhddot, tlhddot, psilhddot, tlkddot,prhddot, trhddot, psirhddot, trkddot)\n",
    "v_b = com_b.jacobian(q)@qdot\n",
    "v_lt = com_lt.jacobian(q)@qdot\n",
    "v_lc = com_lc.jacobian(q)@qdot\n",
    "v_rt = com_rt.jacobian(q)@qdot\n",
    "v_rc = com_rc.jacobian(q)@qdot\n",
    "print('\"\"\"linear velocity\"\"\"')"
   ]
  },
  {
   "cell_type": "code",
   "execution_count": 12,
   "id": "a57aac32",
   "metadata": {
    "ExecuteTime": {
     "end_time": "2023-01-21T16:41:25.693900Z",
     "start_time": "2023-01-21T16:41:25.639727Z"
    }
   },
   "outputs": [
    {
     "data": {
      "text/plain": [
       "(4, 1)"
      ]
     },
     "execution_count": 12,
     "metadata": {},
     "output_type": "execute_result"
    }
   ],
   "source": [
    "v_lh = P_lh.jacobian(q)@qdot\n",
    "v_rh = P_rh.jacobian(q)@qdot\n",
    "v_rh.shape"
   ]
  },
  {
   "cell_type": "code",
   "execution_count": 13,
   "id": "dde23e92",
   "metadata": {
    "ExecuteTime": {
     "end_time": "2023-01-21T16:41:25.738855Z",
     "start_time": "2023-01-21T16:41:25.694651Z"
    },
    "hide_input": false,
    "scrolled": true
   },
   "outputs": [
    {
     "data": {
      "text/plain": [
       "(1, 1)"
      ]
     },
     "execution_count": 13,
     "metadata": {},
     "output_type": "execute_result"
    }
   ],
   "source": [
    "Ib = sp.diag(Ibx, Iby, Ibz)\n",
    "It = sp.diag(Itx, Ity, Itz)\n",
    "Ic = sp.diag(Icx, Icy, Icz)\n",
    "\n",
    "\n",
    "T = 0.5*(mb*(v_b.T@v_b) +mt*(v_rt.T@v_rt) + mc*(v_rc.T@v_rc) + mt*(v_lt.T@v_lt)+ mc*(v_lc.T@v_lc) \\\n",
    "                  +(omegaB_4.T@Ib@omegaB_4) + (omegaB_3l.T@It@omegaB_3l) \\\n",
    "                   +(omegaB_4l.T@Ic@omegaB_4l) + (omegaB_4r.T@Ic@omegaB_4r))\n",
    "\n",
    "V = sp.Matrix([mb*g*com_b[2] +mt*g*com_rt[2]+ mt*g*com_lt[3]+ mc*g*com_lc[2] + mc*g*com_rc[3]])\n",
    "\n",
    "L = T - V\n",
    "L.shape"
   ]
  },
  {
   "cell_type": "code",
   "execution_count": 14,
   "id": "79be83c7",
   "metadata": {
    "ExecuteTime": {
     "end_time": "2023-01-21T16:41:27.284289Z",
     "start_time": "2023-01-21T16:41:25.739736Z"
    },
    "hide_input": false
   },
   "outputs": [
    {
     "data": {
      "text/plain": [
       "(1, 14)"
      ]
     },
     "execution_count": 14,
     "metadata": {},
     "output_type": "execute_result"
    }
   ],
   "source": [
    "dLdqdot = L.jacobian(qdot)\n",
    "(dLdqdot).shape"
   ]
  },
  {
   "cell_type": "code",
   "execution_count": 15,
   "id": "9fe57000",
   "metadata": {
    "ExecuteTime": {
     "end_time": "2023-01-21T16:42:10.149196Z",
     "start_time": "2023-01-21T16:41:27.285187Z"
    },
    "hide_input": false
   },
   "outputs": [
    {
     "data": {
      "text/plain": [
       "(1, 14)"
      ]
     },
     "execution_count": 15,
     "metadata": {},
     "output_type": "execute_result"
    }
   ],
   "source": [
    "dt_dLdqdot = sp.Matrix.diagonal(dLdqdot.jacobian(q))@qdot_diag + sp.Matrix.diagonal(dLdqdot.jacobian(qdot))@qddot_diag\n",
    "\n",
    "dt_dLdqdot.shape"
   ]
  },
  {
   "cell_type": "code",
   "execution_count": 16,
   "id": "aab8fd5d",
   "metadata": {
    "ExecuteTime": {
     "end_time": "2023-01-21T16:42:16.414150Z",
     "start_time": "2023-01-21T16:42:10.150124Z"
    },
    "hide_input": false
   },
   "outputs": [
    {
     "data": {
      "text/plain": [
       "(1, 14)"
      ]
     },
     "execution_count": 16,
     "metadata": {},
     "output_type": "execute_result"
    }
   ],
   "source": [
    "dLdq = L.jacobian(q)\n",
    "# dLdq.shape\n",
    "\n",
    "EOM = dt_dLdqdot - dLdq\n",
    "EOM.shape"
   ]
  },
  {
   "cell_type": "code",
   "execution_count": 17,
   "id": "f13dc43e",
   "metadata": {
    "ExecuteTime": {
     "end_time": "2023-01-21T16:42:20.712995Z",
     "start_time": "2023-01-21T16:42:16.414866Z"
    },
    "hide_input": false
   },
   "outputs": [
    {
     "data": {
      "text/plain": [
       "(14, 14)"
      ]
     },
     "execution_count": 17,
     "metadata": {},
     "output_type": "execute_result"
    }
   ],
   "source": [
    "M = EOM.jacobian(qddot)\n",
    "M.shape"
   ]
  },
  {
   "cell_type": "code",
   "execution_count": 18,
   "id": "e2ff0f65",
   "metadata": {
    "ExecuteTime": {
     "end_time": "2023-01-21T16:45:00.168906Z",
     "start_time": "2023-01-21T16:42:20.713815Z"
    },
    "hide_input": true
   },
   "outputs": [
    {
     "data": {
      "text/plain": [
       "(1, 14)"
      ]
     },
     "execution_count": 18,
     "metadata": {},
     "output_type": "execute_result"
    }
   ],
   "source": [
    "B = EOM.subs({pddot:0, tddot:0, psiddot:0, xddot:0,yddot:0,zddot:0 , plhddot:0, tlhddot:0, psilhddot:0, tlkddot:0, prhddot:0, trhddot:0, psirhddot:0, trkddot:0})\n",
    "B.shape"
   ]
  },
  {
   "cell_type": "code",
   "execution_count": 19,
   "id": "f5e5c47c",
   "metadata": {
    "ExecuteTime": {
     "end_time": "2023-01-21T16:45:02.678153Z",
     "start_time": "2023-01-21T16:45:00.169982Z"
    },
    "code_folding": []
   },
   "outputs": [
    {
     "data": {
      "text/plain": [
       "(3, 14)"
      ]
     },
     "execution_count": 19,
     "metadata": {},
     "output_type": "execute_result"
    }
   ],
   "source": [
    "P_ra1 = sp.Matrix(P_ra[:3])\n",
    "P_la1 = sp.Matrix(P_la[:3])\n",
    "J_r = P_ra1.jacobian(q)\n",
    "J_l = P_la1.jacobian(q)\n",
    "\n",
    "Jdot_l = (sp.Matrix([J_l.row(0)]).jacobian(q)@qdot).T\n",
    "Jdot_r = (sp.Matrix([J_r.row(0)]).jacobian(q)@qdot).T\n",
    "\n",
    "for i in range(1,3):\n",
    "    Jdot_l = Jdot_l.row_insert(i,(sp.Matrix([J_l.row(i)]).jacobian(q)@qdot).T)\n",
    "    Jdot_r = Jdot_r.row_insert(i,(sp.Matrix([J_r.row(i)]).jacobian(q)@qdot).T)\n",
    "     \n",
    "Jdot_l.shape"
   ]
  },
  {
   "cell_type": "code",
   "execution_count": 20,
   "id": "0da90495",
   "metadata": {
    "ExecuteTime": {
     "end_time": "2023-01-21T16:48:00.791747Z",
     "start_time": "2023-01-21T16:45:02.678954Z"
    },
    "code_folding": [
     1,
     25
    ],
    "hide_input": false
   },
   "outputs": [],
   "source": [
    "class parameters:\n",
    "    def __init__(self):\n",
    "        self.l0, self.l1,self.l2, self.w = 1, 0.5, 0.5, 0.1\n",
    "        self.mb, self.mt,self.mc = 70,10,5\n",
    "        self.Ibx,self.Iby,self.Ibz = 5,3,2\n",
    "        self.Itx, self.Ity, self.Itz = 1,0.3,2\n",
    "        self.Icx,self.Icy,self.Icz = 0.5,0.15,1\n",
    "        \"\"\" torso params\"\"\"\n",
    "        self.p, self.t, self.psi = 0,0,0\n",
    "        self.pd, self.td, self.psid = 0,0,0\n",
    "        self.x,self.y,self.z = 0,0,0\n",
    "        self.xd,self.yd,self.zd = 0,0,0\n",
    "        \"\"\"left leg params\"\"\"\n",
    "        self.plh, self.tlh, self.psilh, self.tlk = 0,0,0,-1\n",
    "        self.plhd, self.tlhd, self.psilhd, self.tlkd = 0,0,0,0\n",
    "        \"\"\"right leg params\"\"\"\n",
    "        self.prh, self.trh, self.psirh, self.trk = 0,0,0,-1\n",
    "        self.prhd, self.trhd, self.psirhd, self.trkd = 0, 0, 0, 0 \n",
    "        \n",
    "        self.M = self.mb+2*self.mt+2*self.mc\n",
    "        self.L = self.l1+self.l2\n",
    "    \n",
    "    def set_equations(self,M,B,J_r,J_l,Jdot_r,Jdot_l,P_h,P_rh,P_rk, P_ra, P_lh, P_lk, P_la,v_lh,v_rh):\n",
    "        \"\"\"converting sympy variables to numpy functions for better computation.\"\"\"\n",
    "        \n",
    "        M = M.subs({l0:self.l0, l1:self.l1,l2:self.l2, w:self.w,\\\n",
    "                    mb:self.mb, mt:self.mt,mc:self.mc,\\\n",
    "                    Ibx:self.Ibx,Iby:self.Iby,Ibz:self.Ibz,\\\n",
    "                    Itx:self.Itx,Ity:self.Ity,Itz:self.Itz,\\\n",
    "                    Icx:self.Icx,Icy:self.Icy,Icz:self.Icz})\n",
    "        \n",
    "        B = B.subs({l0:self.l0, l1:self.l1,l2:self.l2, w:self.w,\\\n",
    "                    mb:self.mb, mt:self.mt,mc:self.mc,\\\n",
    "                    Ibx:self.Ibx,Iby:self.Iby,Ibz:self.Ibz,\\\n",
    "                    Itx:self.Itx,Ity:self.Ity,Itz:self.Itz,\\\n",
    "                    Icx:self.Icx,Icy:self.Icy,Icz:self.Icz})\n",
    "        \n",
    "        J_r = J_r.subs({l1:self.l1,l2:self.l2, w:self.w})\n",
    "        J_l = J_l.subs({l1:self.l1,l2:self.l2, w:self.w})\n",
    "        \n",
    "        Jdot_r = Jdot_r.subs({l1:self.l1,l2:self.l2, w:self.w})\n",
    "        Jdot_l = Jdot_l.subs({l1:self.l1,l2:self.l2, w:self.w})\n",
    "        \n",
    "        P_h = P_h.subs({l0: self.l0})\n",
    "        \n",
    "        P_lh = P_lh.subs({w: self.w, l1: self.l1, l2: self.l2})\n",
    "        P_lk = P_lk.subs({w: self.w, l1: self.l1, l2: self.l2})\n",
    "        P_la = P_la.subs({w: self.w, l1: self.l1, l2: self.l2})\n",
    "\n",
    "        \n",
    "        P_rh = P_rh.subs({w: self.w, l1: self.l1, l2: self.l2})\n",
    "        P_rk = P_rk.subs({w: self.w, l1: self.l1, l2: self.l2})\n",
    "        P_ra = P_ra.subs({w: self.w, l1: self.l1, l2: self.l2})\n",
    "        \n",
    "        v_lh = v_lh.subs({w: self.w, l1: self.l1, l2: self.l2})\n",
    "        v_rh = v_rh.subs({w: self.w, l1: self.l1, l2: self.l2})\n",
    "        \n",
    " \n",
    "        self.M_num = sp.lambdify([p, t, psi,plh, tlh, psilh, tlk,\\\n",
    "                             prh, trh, psirh, trk],M)\n",
    "        \n",
    "        self.B_num = sp.lambdify([p, t, psi,plh, tlh, psilh, tlk,                           \n",
    "                                  prh, trh, psirh, trk,\n",
    "                                  pd,td,psid,\n",
    "                                  xd,yd,zd,\n",
    "                                  plhd, tlhd, psilhd, tlkd,                           \n",
    "                                  prhd, trhd, psirhd, trkd], B)\n",
    "        \n",
    "        self.J_r_num = sp.lambdify([p, t, psi,prh, trh, psirh, trk], J_r)\n",
    "        self.J_l_num = sp.lambdify([p, t, psi,plh, tlh, psilh, tlk], J_l)\n",
    "        \n",
    "        self.Jdot_r_num = sp.lambdify([p, t, psi, prh, trh, psirh, trk, pd, td, psid, prhd, trhd, psirhd, trkd],Jdot_r)\n",
    "        \n",
    "        self.Jdot_l_num = sp.lambdify([p, t, psi, plh, tlh, psilh, tlk, pd, td, psid, plhd, tlhd, psilhd, tlkd],Jdot_l)\n",
    "        \n",
    "        self.P_h_num = sp.lambdify([x,y,z,p,t,psid],P_h)\n",
    "        self.P_rh_num = sp.lambdify([x,y,z,p,t,psi, prh, trh, psirh, trk],P_rh)\n",
    "        self.P_rk_num = sp.lambdify([x,y,z,p,t,psi, prh, trh, psirh, trk],P_rk)\n",
    "        self.P_ra_num = sp.lambdify([x,y,z,p,t,psi, prh, trh, psirh, trk],P_ra)\n",
    "        \n",
    "        self.P_lh_num = sp.lambdify([x,y,z,p,t,psi,plh,tlh, psilh, tlk],P_lh)\n",
    "        self.P_lk_num = sp.lambdify([x,y,z,p,t,psi,plh,tlh, psilh, tlk],P_lk) \n",
    "        self.P_la_num = sp.lambdify([x,y,z,p,t,psi,plh,tlh, psilh, tlk],P_la)\n",
    "        \n",
    "        self.v_lh_num = sp.lambdify([p, t, psi, plh, tlh, psilh, tlk,pd,td,psid,xd,yd,zd,plhd,tlhd,psilhd],v_lh)\n",
    "        self.v_rh_num = sp.lambdify([p, t, psi, prh, trh, psirh, trk,pd,td,psid,xd,yd,zd,prhd,trhd,psirhd],v_rh)\n",
    "#         print(self.P_h_num(0.3,0.2,0.2,0.3, 0.2, 0.2)) \n",
    "        \n",
    "p1 = parameters()\n",
    "p1.set_equations(M,B,J_r,J_l,Jdot_r,Jdot_l,P_h,P_rh,P_rk, P_ra, P_lh, P_lk, P_la,v_lh,v_rh)"
   ]
  },
  {
   "cell_type": "code",
   "execution_count": 21,
   "id": "4a0aa7aa",
   "metadata": {
    "ExecuteTime": {
     "end_time": "2023-01-21T16:48:00.796773Z",
     "start_time": "2023-01-21T16:48:00.793093Z"
    }
   },
   "outputs": [
    {
     "data": {
      "text/plain": [
       "array([[9.33009835],\n",
       "       [6.39996029],\n",
       "       [3.78012159],\n",
       "       [0.        ]])"
      ]
     },
     "execution_count": 21,
     "metadata": {},
     "output_type": "execute_result"
    }
   ],
   "source": [
    "p1.v_rh_num(10,4,6,10,7,6,7,3,2,10,10,6,4,6,8,1)\n",
    "# p1.P_h_num(0,0,0,0,0,0)"
   ]
  },
  {
   "cell_type": "code",
   "execution_count": 28,
   "id": "712badec",
   "metadata": {
    "ExecuteTime": {
     "end_time": "2023-01-21T16:48:20.464378Z",
     "start_time": "2023-01-21T16:48:20.450853Z"
    },
    "hide_input": false
   },
   "outputs": [
    {
     "name": "stdout",
     "output_type": "stream",
     "text": [
      "traj gen\n"
     ]
    }
   ],
   "source": [
    "class traj_gen:\n",
    "    def __init__(self,t0,tf,q0,qf,q0dot,qfdot,q0ddot,qfddot):\n",
    "        self.t0 = t0\n",
    "        self.tf = tf\n",
    "        self.q0 = q0\n",
    "        self.qf = qf \n",
    "        self.q0dot = q0dot\n",
    "        self.qfdot = qfdot\n",
    "        self.q0ddot = q0ddot\n",
    "        self.qfddot = qfddot\n",
    "    \n",
    "    def set_param(self,q0_):\n",
    "        self.q0 = q0_\n",
    "        \n",
    "    def getb(self):\n",
    "        t0,tf = self.t0,self.tf\n",
    "        A = np.array([[1,t0,t0**2,t0**3,t0**4,t0**5],\n",
    "                       [1,tf,tf**2,tf**3,tf**4,tf**5],\n",
    "                       [0,1,2*t0,3*t0**2,4*t0**3,5*t0**4],\n",
    "                       [0,1,2*tf,3*tf**2,4*tf**3,5*tf**4],\n",
    "                       [0,0,2,6*t0,12*t0**2,20*t0**3],\n",
    "                       [0,0,2,6*tf,12*tf**2,20*tf**3]])\n",
    "        C = np.vstack((self.q0,self.qf,self.q0dot,self.qfdot,self.q0ddot,self.qfddot))\n",
    "        B = np.linalg.inv(A)@C\n",
    "        \n",
    "        return B\n",
    "    \n",
    "    def get_q(self,t):\n",
    "        T1 = np.array([[1,t,t**2,t**3,t**4,t**5]])\n",
    "        T2 = np.array([[0,1,2*t,3*t**2,4*t**3,5*t**4]])\n",
    "        T3 = np.array([[0,0,2,6*t,12*t**2,20*t**3]])\n",
    "        B = np.squeeze(self.getb())\n",
    "        q = B.T@T1.T\n",
    "        qdot = B.T@T2.T\n",
    "        qddot = B.T@T3.T\n",
    "        return q, qdot, qddot\n",
    "    \n",
    "\n",
    "    \n",
    "# ankle_motion = deg2rad([-7.5 10 10 5 0 -10 -7.5])\n",
    "# knee_motion = deg2rad([10, -5, 2.5, -10, -10, 15, 10])\n",
    "# hip_motion = deg2rad([-10, -7.5, -15, 10, 15, 10,-10])\n",
    "\n",
    "knee_angle = -1\n",
    "step_angle = 0.345\n",
    "\"\"\"Intitial and final conditions for left swing leg\"\"\"\n",
    "q0 = np.array([0,0,0,  0,         0,0, knee_angle,           0])\n",
    "qf = np.array([0,0,0,  0,step_angle,0,          0,           0])\n",
    "q0dot = np.array([0,0,0,0,0,0,0,0])\n",
    "qfdot = np.array([0,0,0,0,0,0,0,0])\n",
    "q0ddot = np.array([0,0,0,0,0,0,0,0])\n",
    "qfddot = np.array([0,0,0,0,0,0,0,0])\n",
    "c1  = traj_gen(0,0.2,q0,qf,q0dot,qfdot,q0ddot,qfddot)\n",
    "\"\"\"initial and final conditions for right swing leg\"\"\"\n",
    "q01 = np.array([0,0,0,  0,         0,         0, 0,           0])\n",
    "qf1 = np.array([0,0,0,  0,         0,step_angle, 0,  knee_angle])\n",
    "\n",
    "c2 = traj_gen(0.0,0.2,q01,qf1,q0dot,qfdot,q0ddot,qfddot)\n",
    "# c1.getb()[0]\n",
    "# c1.get_q(0.013352200294876845)\n",
    "print(\"traj gen\")"
   ]
  },
  {
   "cell_type": "code",
   "execution_count": 56,
   "id": "55e94d38",
   "metadata": {
    "ExecuteTime": {
     "end_time": "2023-01-21T16:59:40.645567Z",
     "start_time": "2023-01-21T16:59:40.610720Z"
    },
    "code_folding": [
     35,
     51,
     138,
     152,
     163,
     209,
     236,
     240
    ],
    "hide_input": false
   },
   "outputs": [
    {
     "name": "stdout",
     "output_type": "stream",
     "text": [
      "initial param: [[ 0.          0.          0.          0.          0.          0.\n",
      "   0.          0.          0.         -1.         -0.02924777 -0.00155104\n",
      "   0.05469009  0.          0.          1.          0.          1.2\n",
      "   0.          0.          0.          0.          0.          0.\n",
      "   0.05457789 -1.02946078  0.55930681  0.        ]]\n",
      "initial param: [[ 0.          0.          0.          0.         -0.1         0.\n",
      "   0.          0.          0.         -1.         -0.02924777 -0.00155104\n",
      "   0.05469009  0.          0.          1.          0.          1.2\n",
      "   0.          0.          0.          0.          0.          0.\n",
      "   0.05457789 -1.02946078  0.55930681  0.        ]]\n"
     ]
    },
    {
     "name": "stderr",
     "output_type": "stream",
     "text": [
      "/tmp/ipykernel_8066/2654161756.py:37: DeprecationWarning: setting an array element with a sequence. This was supported in some cases where the elements are arrays with a single element. For example `np.array([1, np.array([2])], dtype=int)`. In the future this will raise the same ValueError as `np.array([1, [2]], dtype=int)`.\n",
      "  self.Z0 = np.array([self.p, self.t, self.psi,\\\n"
     ]
    }
   ],
   "source": [
    "class Humanoid(parameters):\n",
    "    def __init__(self):\n",
    "        super().__init__()\n",
    "\n",
    "        self.tlh = 0.0\n",
    "        self.trh = 0.0\n",
    "    \n",
    "        self.tlk = -1\n",
    "        self.trk = 0.0\n",
    "        \n",
    "        self.xd = 1.2\n",
    "    \n",
    "        self.td = 1\n",
    "        \n",
    "        self.prh =  -0.029247773468329\n",
    "        self.prhd = 0.054577886084082\n",
    "        \n",
    "        self.trh = -0.001551040824746\n",
    "        self.trhd = -1.029460778006675\n",
    "        \n",
    "        self.psirh = 0.054690088280553\n",
    "        self.psirhd = 0.559306810759302\n",
    "        \n",
    "        self.define_Z0()\n",
    "        \n",
    "        self.leg = \"left\"\n",
    "        \n",
    "        self.t_start = 0.0\n",
    "        self.t_end = 0.2\n",
    "    \n",
    "        self.impulse = 0.18*self.M*np.sqrt(9.18*self.L)\n",
    "        \n",
    "        self.err = np.array([[0,0,0,0,0,0,0,0]])\n",
    "        self.q_data = np.array([[0,0,0,0,0,0,0,0]])\n",
    "    \n",
    "    def define_Z0(self):\n",
    "        self.Z0 = np.array([self.p, self.t, self.psi,\\\n",
    "                            self.x, self.y, self.z,\\\n",
    "                            self.plh, self.tlh, self.psilh, self.tlk,\\\n",
    "                            self.prh, self.trh, self.psirh, self.trk,\\\n",
    "                            self.pd, self.td, self.psid,\\\n",
    "                            self.xd, self.yd, self.zd,\\\n",
    "                            self.plhd, self.tlhd, self.psilhd, self.tlkd,\\\n",
    "                            self.prhd, self.trhd, self.psirhd, self.trkd\\\n",
    "                           ],dtype='float')\n",
    "        \n",
    "        \n",
    "        self.Z = np.array([self.Z0])\n",
    "        \n",
    "        print(\"initial param:\",self.Z)\n",
    "        \n",
    "    def set_equations(self,M_num,B_num,J_l_num,J_r_num,Jdot_l_num,Jdot_r_num,P_lh, P_rh, P_lk, P_rk, P_la,P_ra,v_lh,v_rh):\n",
    "        self.M_num = M_num\n",
    "        self.B_num = B_num\n",
    "        \n",
    "        self.J_l_num = J_l_num\n",
    "        self.J_r_num = J_r_num\n",
    "        self.Jdot_l_num = Jdot_l_num\n",
    "        self.Jdot_r_num = Jdot_r_num\n",
    "        \n",
    "        self.P_lh = P_lh\n",
    "        self.P_rh = P_rh\n",
    "        self.P_lk = P_lk\n",
    "        self.P_rk = P_rk\n",
    "        self.P_la = P_la\n",
    "        self.P_ra = P_ra\n",
    "        \n",
    "        self.v_lh = v_lh\n",
    "        self.v_rh = v_rh\n",
    "        \n",
    "        if self.leg == \"left\":\n",
    "            P = self.P_rh(self.x,self.y,self.z,self.p,self.t,self.psi,self.prh,self.trh, self.psirh, self.trk)\n",
    "            Vh = self.v_rh(self.p, self.t, self.psi, self.prh, self.trh, self.psirh, self.trk, self.pd, self.td,self.psid,self.xd,self.yd,self.zd,self.prhd,self.trhd,self.psirhd)\n",
    "        else:\n",
    "            P = self.P_lh(self.x,self.y,self.z,self.p,self.t,self.psi,self.plh,self.tlh, self.psilh, self.tlk)\n",
    "            Vh = self.v_lh(self.p, self.t, self.psi, self.plh, self.tlh, self.psilh, self.tlk, self.pd, self.td,self.psid,self.xd,self.yd,self.zd,self.plhd,self.tlhd,self.psilhd)\n",
    "        \n",
    "        self.x = P[0]\n",
    "        self.y = P[1]\n",
    "        self.z = P[2]\n",
    "        \n",
    "        self.xd,self.yd, self.zd = Vh[0], Vh[1], Vh[2]\n",
    "        \n",
    "        self.define_Z0()\n",
    "        \n",
    "    def get_T(self,t,leg, A_, b_):\n",
    "        \n",
    "        \"\"\"Gives BT part of the equation / calculates torque required at each working joint.\"\"\"\n",
    "        \"\"\"A_,b_ are Estimated parameters of the system \"\"\"\n",
    "        B1 = np.zeros((6,8))\n",
    "        B2 = np.eye((8))\n",
    "        B3 = np.zeros((3,8))\n",
    "        B = np.concatenate((B1,B2,B3))\n",
    "        \n",
    "        \n",
    "        S_R = np.array([[1, 0, 0, 0, 0, 0, 0, 0, 0, 0, 0, 0, 0, 0, 0, 0, 0],\n",
    "                        [0, 1, 0, 0, 0, 0, 0, 0, 0, 0, 0, 0, 0, 0, 0, 0, 0],\n",
    "                        [0, 0, 1, 0, 0, 0, 0, 0, 0, 0, 0, 0, 0, 0, 0, 0, 0],\n",
    "                        [0, 0, 0, 0, 0, 0, 0, 0, 0, 1, 0, 0, 0, 0, 0, 0, 0],\n",
    "                        [0, 0, 0, 0, 0, 0, 0, 0, 0, 0, 1, 0, 0, 0, 0, 0, 0],\n",
    "                        [0, 0, 0, 0, 0, 0, 0, 0, 0, 0, 0, 1, 0, 0, 0, 0, 0],\n",
    "                        [0, 0, 0, 0, 0, 0, 0, 0, 0, 0, 0, 0, 1, 0, 0, 0, 0],\n",
    "                        [0, 0, 0, 0, 0, 0, 0, 0, 0, 0, 0, 0, 0, 1, 0, 0, 0]])\n",
    "        \n",
    "        S_L = np.array([[1, 0, 0, 0, 0, 0, 0, 0, 0, 0, 0, 0, 0, 0, 0, 0, 0],\n",
    "                        [0, 1, 0, 0, 0, 0, 0, 0, 0, 0, 0, 0, 0, 0, 0, 0, 0],\n",
    "                        [0, 0, 1, 0, 0, 0, 0, 0, 0, 0, 0, 0, 0, 0, 0, 0, 0],\n",
    "                        [0, 0, 0, 0, 0, 0, 1, 0, 0, 0, 0, 0, 0, 0, 0, 0, 0],\n",
    "                        [0, 0, 0, 0, 0, 0, 0, 1, 0, 0, 0, 0, 0, 0, 0, 0, 0],\n",
    "                        [0, 0, 0, 0, 0, 0, 0, 0, 1, 0, 0, 0, 0, 0, 0, 0, 0],\n",
    "                        [0, 0, 0, 0, 0, 0, 0, 0, 0, 1, 0, 0, 0, 0, 0, 0, 0],\n",
    "                        [0, 0, 0, 0, 0, 0, 0, 0, 0, 0, 0, 0, 0, 1, 0, 0, 0]])\n",
    "        \n",
    "        if t <= 0.2:\n",
    "            if leg == \"left\":\n",
    "                S = S_L\n",
    "                self.q_des, self.qdot_des, self.qddot_des = c1.get_q(t)\n",
    "            else:\n",
    "                S = S_R\n",
    "                self.q_des, self.qdot_des, self.qddot_des = c2.get_q(t)\n",
    "        else:\n",
    "            if leg == \"left\":\n",
    "                S = S_L\n",
    "            else:\n",
    "                S = S_R\n",
    "        \n",
    "        \n",
    "        Kd = np.eye((8))*10\n",
    "        Kp = np.eye((8))*100\n",
    "        \n",
    "        v = self.qddot_des + Kd@(self.qdot_des.T - self.qdot).T + Kp@(self.q_des.T -self.q).T \n",
    "        \n",
    "        self.err = np.append(self.err, ((self.q_des.T - self.q)),axis=0)\n",
    "        self.q_data = np.append(self.q_data, ([self.q]),axis=0)\n",
    "        T = np.linalg.pinv(S@np.linalg.inv(A_)@B)@(v - S@np.linalg.inv(A_)@b_)\n",
    "        \n",
    "        return B[:14]@T \n",
    "        \n",
    "    def collision(self):\n",
    "        \"\"\"z coordinate of left ankle and right ankle should be equal for collision and switching of legs\"\"\"\n",
    "        \n",
    "        p,t,psi,x,y,z,plh, tlh, psilh, tlk,prh, trh, psirh, trk = self.z[:14]\n",
    "        if self.start:\n",
    "            return True\n",
    "        else:\n",
    "            \n",
    "            if (np.abs(self.P_la(x,y,z,p,t,psi,plh,tlh, psilh, tlk)[2] - self.P_ra(x,y,z,p,t,psi,prh, trh, psirh, trk)[2]) > 1e-12):\n",
    "                return True\n",
    "            else:\n",
    "                print(\"Collision occured\")\n",
    "                return False\n",
    "    \n",
    "    def find_temp(self,z):\n",
    "        self.M_temp = self.M_num(z[0],z[1],z[2],z[6],z[7],z[8],z[9],z[10],z[11],z[12],z[13])\n",
    "        self.B_temp = self.B_num(z[0],z[1],z[2],z[6],z[7],z[8],z[9],z[10],z[11],z[12],z[13],z[14],z[15],z[16],z[17],z[18],z[19],z[20],z[21],z[22],z[23],z[24],z[25],z[26],z[27])\n",
    "        \n",
    "        self.Jdot_r_temp = self.Jdot_r_num(z[0],z[1],z[2],z[10],z[11],z[12],z[13],z[14],z[15],z[16],z[24],z[25],z[26],z[27])\n",
    "        self.Jdot_l_temp = self.Jdot_l_num(z[0],z[1],z[2], z[6], z[7], z[8], z[9],z[14],z[15],z[16],z[20],z[21],z[22],z[23])\n",
    "        \n",
    "        self.J_l_temp = self.J_l_num(z[0],z[1],z[2],z[6],  z[7], z[8], z[9])\n",
    "        self.J_r_temp = self.J_r_num(z[0],z[1],z[2],z[10],z[11],z[12],z[13])\n",
    "    \n",
    "    \n",
    "    def rhs(self,t,z,leg):\n",
    "        \n",
    "        \"\"\"Actuataion is provided to the joints of the leg in air.\"\"\"\n",
    "        if leg == \"right\":\n",
    "            self.q = np.concatenate((z[:3],[z[9]],z[10:14]))\n",
    "#             self.q = np.concatenate((z[:3],z[6:10],[z[13]]))\n",
    "            self.qdot_xyz = z[14:28]\n",
    "#             self.qdot = np.concatenate((z[14:17],z[20:24],[z[27]]))\n",
    "            self.qdot = np.concatenate((z[14:17],[z[23]],z[24:28]))\n",
    "            \n",
    "            A = np.vstack((np.hstack((self.M_temp,-self.J_l_temp.T)),\\\n",
    "                          np.hstack((self.J_l_temp, np.zeros((3,3))))))\n",
    "            \n",
    "            b_ = np.hstack((-self.B_temp,\\\n",
    "                          np.expand_dims(-self.Jdot_l_temp@self.qdot_xyz, axis=0))).T\n",
    "            \n",
    "            N = np.hstack((self.get_T(t,leg,A,b_).T - self.B_temp,\n",
    "                         np.expand_dims(-self.Jdot_l_temp@self.qdot_xyz,axis=0))).T\n",
    "            \n",
    "        elif leg == \"left\":\n",
    "            \n",
    "#             self.q = np.concatenate((z[:3],[z[9]],z[10:14]))\n",
    "            self.q = np.concatenate((z[:3],z[6:10],[z[13]]))\n",
    "            self.qdot_xyz = z[14:28]\n",
    "#             self.qdot = np.concatenate((z[14:17],[z[23]],z[24:28]))\n",
    "            self.qdot = np.concatenate((z[14:17],z[20:24],[z[27]]))\n",
    "            \n",
    "            A = np.vstack((np.hstack((self.M_temp,-self.J_r_temp.T)),\\\n",
    "                          np.hstack((self.J_r_temp, np.zeros((3,3))))))\n",
    "            \n",
    "            b_ = np.hstack((- self.B_temp,\\\n",
    "                          np.expand_dims(-self.Jdot_r_temp@self.qdot_xyz,axis=0))).T\n",
    "            \n",
    "            N = np.hstack((self.get_T(t,leg,A,b_).T - self.B_temp,\\\n",
    "                          np.expand_dims(-self.Jdot_r_temp@self.qdot_xyz,axis=0))).T\n",
    "        else:\n",
    "            print(\"ERROR: stance leg not set.\")\n",
    "            \n",
    "        zdot = np.linalg.inv(A)@N\n",
    "        \n",
    "        \"\"\" Forces in x, y, z direction on the stance foot ( foot touching the ground )\"\"\"\n",
    "        \n",
    "        self.P_stance = zdot[-3:]\n",
    "        \n",
    "        return np.concatenate((np.expand_dims(z[14:],axis=0).T,zdot[:14]))\n",
    "    \n",
    "    def one_step(self,z):\n",
    "        self.z = z\n",
    "        eqn = ode(self.rhs)\n",
    "        eqn.set_initial_value(self.z,self.t_start).set_f_params(self.leg)\n",
    "        dt = 0.01\n",
    "        #define trajectory points here depending upon leg\n",
    "        self.find_temp(self.z)\n",
    "        self.start = True # to be removed when using start_walker function\n",
    "        p,t,psi,x,y,z,plh, tlh, psilh, tlk,prh, trh, psirh, trk = self.z[:14]\n",
    "        if self.leg == \"left\":\n",
    "            c1.set_param(np.array([p,t,psi,plh,tlh,psilh,tlk,trk]))\n",
    "        else:\n",
    "            c2.set_param(np.array([p,t,psi,tlk,prh,trh,psirh,trk]))\n",
    "            \n",
    "        \"\"\"Mid stance to foot strike\"\"\"\n",
    "        while eqn.successful() and self.collision() and (self.t_end - eqn.t) > 0:\n",
    "            self.z = eqn.integrate(eqn.t+dt)\n",
    "            self.find_temp(self.z)\n",
    "#             print(self.z)\n",
    "#             print(\"t:\",eqn.t)\n",
    "            self.Z = np.append(self.Z,[self.z],axis=0)\n",
    "            self.start = False\n",
    "        \n",
    "        \"\"\"Foot strike\"\"\"\n",
    "        self.z = self.foot_strike(self.leg,self.z)\n",
    "    \n",
    "        \"\"\" Changing the swing leg\"\"\"\n",
    "        if self.leg == \"left\":\n",
    "            self.leg = \"right\"\n",
    "            self.start = True\n",
    "            print(\"Swing leg changed to: \", self.leg)\n",
    "        else:\n",
    "            self.leg = \"left\"\n",
    "            self.start = True\n",
    "            print(\"Swing leg changed to: \", self.leg)\n",
    "        \n",
    "        return self.z\n",
    "    \n",
    "    def foot_impulse(self,leg):\n",
    "        \"\"\"Returns impulse vector Ix, Iy, Iz produced due to foot strike\"\"\"\n",
    "        p,t,psi,x,y,z,plh, tlh, psilh, tlk,prh, trh, psirh, trk = self.z[:14]\n",
    "        if leg == \"left\":\n",
    "            F_impact = self.impulse*(self.P_lk(x,y,z,p,t,psi,plh, tlh, psilh, tlk)  - self.P_la(x,y,z,p,t,psi,plh, tlh, psilh, tlk))/self.l2\n",
    "            return F_impact[:3]\n",
    "        \n",
    "        elif leg == \"right\":\n",
    "            F_impact = self.impulse*(self.P_rk(x,y,z,p,t,psi,prh, trh, psirh, trk)  - self.P_ra(x,y,z,p,t,psi,prh, trh, psirh, trk))/self.l2\n",
    "            return F_impact[:3]\n",
    "        \n",
    "        \n",
    "    def foot_strike(self,leg,z):\n",
    "        if leg == \"left\":\n",
    "            J_sw = self.J_l_temp\n",
    "            J_st = self.J_r_temp\n",
    "        elif leg == \"right\":\n",
    "            J_sw = self.J_r_temp\n",
    "            J_st = self.J_l_temp\n",
    "            \n",
    "        qdot = z[14:]\n",
    "        A = np.vstack((np.hstack((self.M_temp, -J_sw.T)), \n",
    "                       np.hstack((J_sw,np.zeros((3,3))))))\n",
    "        \n",
    "        F_impact = np.squeeze(self.foot_impulse(leg))\n",
    "\n",
    "        N = np.hstack((J_st.T@F_impact + self.M_temp@qdot, np.zeros(3)))\n",
    "        \n",
    "        After_collision = np.linalg.inv(A)@N\n",
    "\n",
    "        return np.concatenate((z[:14],After_collision[:14]))\n",
    "    \n",
    "    def start_walker(self,steps,z):\n",
    "        i = 0 \n",
    "        self.z = z\n",
    "        self.start = True\n",
    "        while (steps > i):\n",
    "            self.z = self.one_step(self.z)\n",
    "            i += 1\n",
    "        return self.z\n",
    "    \n",
    "h1 = Humanoid()\n",
    "h1.set_equations(p1.M_num,p1.B_num,p1.J_l_num,p1.J_r_num,p1.Jdot_l_num,p1.Jdot_r_num,p1.P_lh_num, p1.P_rh_num, p1.P_lk_num, p1.P_rk_num, p1.P_la_num,p1.P_ra_num,p1.v_lh_num,p1.v_rh_num)"
   ]
  },
  {
   "cell_type": "code",
   "execution_count": 57,
   "id": "aefaeb19",
   "metadata": {
    "ExecuteTime": {
     "end_time": "2023-01-21T16:59:52.349442Z",
     "start_time": "2023-01-21T16:59:44.956873Z"
    },
    "hide_input": false
   },
   "outputs": [
    {
     "name": "stdout",
     "output_type": "stream",
     "text": [
      "Swing leg changed to:  right\n",
      "Swing leg changed to:  left\n"
     ]
    },
    {
     "data": {
      "text/plain": [
       "array([ 9.15572255e-02,  7.33168063e-02, -6.65347468e-02,  5.64892536e-01,\n",
       "       -1.02352154e-01, -6.73180015e-02, -4.26034232e-02,  7.17411246e-02,\n",
       "        8.99621489e-02, -2.65546167e-03, -1.78490251e-01, -1.87804004e-01,\n",
       "       -9.45229014e-02, -2.63495888e+00,  4.33475794e-01, -3.11255228e-01,\n",
       "       -7.99692061e-01,  1.51015922e+00, -9.57952595e-02, -2.35697549e-01,\n",
       "        2.22599168e+00,  1.85860414e+00,  1.34477151e+00,  1.46380639e+01,\n",
       "        1.10915051e+00, -2.83880555e+00,  6.03143689e-02,  2.95573889e+00])"
      ]
     },
     "execution_count": 57,
     "metadata": {},
     "output_type": "execute_result"
    }
   ],
   "source": [
    "h1.start_walker(2,h1.Z0)"
   ]
  },
  {
   "cell_type": "code",
   "execution_count": 45,
   "id": "66c3dbe8",
   "metadata": {
    "ExecuteTime": {
     "end_time": "2023-01-21T16:54:42.361632Z",
     "start_time": "2023-01-21T16:54:42.358668Z"
    }
   },
   "outputs": [
    {
     "data": {
      "text/plain": [
       "(41, 14)"
      ]
     },
     "execution_count": 45,
     "metadata": {},
     "output_type": "execute_result"
    }
   ],
   "source": [
    "h1.Z[:,:14].shape"
   ]
  },
  {
   "cell_type": "code",
   "execution_count": 40,
   "id": "ce159719",
   "metadata": {
    "ExecuteTime": {
     "end_time": "2023-01-21T16:51:57.382183Z",
     "start_time": "2023-01-21T16:51:57.367363Z"
    },
    "code_folding": [
     2,
     30,
     48
    ]
   },
   "outputs": [],
   "source": [
    "from mpl_toolkits import mplot3d\n",
    "\n",
    "class Animate():\n",
    "    def __init__(self,q):\n",
    "        self.fig = plt.figure()\n",
    "        self.axis = plt.axes(projection='3d', xlim = (0,2), ylim=(-1,1), zlim = (-1, 1)) \n",
    "#         self.axis.view_init(elev=0.0, azim=90)\n",
    "        self.axis.set_xlabel('x')\n",
    "        self.axis.set_ylabel('y')\n",
    "        self.axis.set_zlabel('z')\n",
    "        self.joint_data = q\n",
    "        self.head1, = self.axis.plot([],[],[], marker='o') \n",
    "        self.stem1, = self.axis.plot([],[],[], lw = 2)\n",
    "        \n",
    "        self.kneer, = self.axis.plot([],[],[], marker='o')\n",
    "        self.kneel, = self.axis.plot([],[],[], marker='o')\n",
    "\n",
    "        self.body, = self.axis.plot([],[],[], lw = 2)\n",
    "    \n",
    "    def set_equations(self,P_h, P_rh, P_rk, P_ra, P_lh, P_lk, P_la):\n",
    "        self.P_h = P_h\n",
    "        \n",
    "        self.P_rh = P_rh\n",
    "        self.P_rk = P_rk\n",
    "        self.P_ra = P_ra\n",
    "        \n",
    "        self.P_lh = P_lh\n",
    "        self.P_lk = P_lk\n",
    "        self.P_la = P_la\n",
    "    \n",
    "    def initiate(self):\n",
    "        self.head1.set_data([],[])\n",
    "        self.head1.set_3d_properties([])\n",
    "        \n",
    "        self.stem1.set_data([],[])\n",
    "        self.stem1.set_3d_properties([])\n",
    "        \n",
    "        self.kneer.set_data([],[])\n",
    "        self.kneer.set_3d_properties([])\n",
    "        \n",
    "        self.kneel.set_data([],[])\n",
    "        self.kneel.set_3d_properties([])\n",
    "        \n",
    "        self.body.set_data([],[])\n",
    "        self.body.set_3d_properties([])\n",
    "        \n",
    "        return self.head1,self.stem1,self.kneel,self.kneer,self.body,\n",
    "    \n",
    "    def animate(self,i):\n",
    "        p,t,psi,x,y,z,plh, tlh, psilh, tlk,prh, trh, psirh, trk = self.joint_data[i]\n",
    "        \n",
    "        self.head_pos = self.P_h(x,y,z,p,t,psid)\n",
    "        \n",
    "        self.head1.set_data(self.head_pos[0],self.head_pos[1])\n",
    "        self.head1.set_3d_properties(self.head_pos[2])\n",
    "        \n",
    "        self.stem1.set_data([x, self.head_pos[0]],[y, self.head_pos[1]])\n",
    "        self.stem1.set_3d_properties([z, self.head_pos[2]])\n",
    "        \n",
    "        self.rhip_pos = self.P_rh(x,y,z,p,t,psi,prh,trh, psirh, trk)\n",
    "        self.rknee_pos = self.P_rk(x,y,z,p,t,psi,prh, trh, psirh, trk)\n",
    "        self.rankle_pos = self.P_ra(x,y,z,p,t,psi,prh, trh, psirh, trk)\n",
    "        \n",
    "#         print(self.rhip_pos, self.rknee_pos, self.rankle_pos)\n",
    "        \n",
    "        self.lhip_pos = self.P_lh(x,y,z,p,t,psi,plh, tlh, psilh, tlk)\n",
    "        self.lknee_pos = self.P_lk(x,y,z,p,t,psi,plh, tlh, psilh, tlk) \n",
    "        self.lankle_pos = self.P_la(x,y,z,p,t,psi,plh, tlh, psilh, tlk)\n",
    "#         print(\"head ankle:\",self.head_pos)\n",
    "#         print(\"x y z:\", x,y,z)\n",
    "        \n",
    "        self.kneel.set_data(self.lknee_pos[0],self.lknee_pos[1])\n",
    "        self.kneel.set_3d_properties(self.lknee_pos[2])\n",
    "        \n",
    "        self.kneer.set_data(self.rknee_pos[0],self.rknee_pos[1])\n",
    "        self.kneer.set_3d_properties(self.rknee_pos[2])\n",
    "        \n",
    "        self.body.set_data([self.rankle_pos[0],self.rknee_pos[0],self.rhip_pos[0],x,self.lhip_pos[0],self.lknee_pos[0],self.lankle_pos[0]],\n",
    "                          [self.rankle_pos[1],self.rknee_pos[1],self.rhip_pos[1],y,self.lhip_pos[1],self.lknee_pos[1],self.lankle_pos[1]])\n",
    "        \n",
    "        self.body.set_3d_properties([self.rankle_pos[2],self.rknee_pos[2],self.rhip_pos[2],z,self.lhip_pos[2],self.lknee_pos[2],self.lankle_pos[2]])\n",
    "        \n",
    "        return self.head1, self.stem1, self.body, self.kneel, self.kneer,\n",
    "    \n",
    "    def save_video(self,file_name = \"3d_bipedal_walk.mp4\"):\n",
    "        anim = animation.FuncAnimation(self.fig, self.animate, init_func = self.initiate, \n",
    "                               frames = len(self.joint_data)-1, interval = 10000, blit = True) \n",
    "        anim.save(file_name, writer = 'ffmpeg', fps = 10)\n",
    "    "
   ]
  },
  {
   "cell_type": "code",
   "execution_count": 58,
   "id": "0da2e854",
   "metadata": {
    "ExecuteTime": {
     "end_time": "2023-01-21T16:59:53.821241Z",
     "start_time": "2023-01-21T16:59:52.350640Z"
    }
   },
   "outputs": [
    {
     "name": "stderr",
     "output_type": "stream",
     "text": [
      "<__array_function__ internals>:5: VisibleDeprecationWarning: Creating an ndarray from ragged nested sequences (which is a list-or-tuple of lists-or-tuples-or ndarrays with different lengths or shapes) is deprecated. If you meant to do this, you must specify 'dtype=object' when creating the ndarray.\n",
      "/usr/lib/python3/dist-packages/mpl_toolkits/mplot3d/proj3d.py:189: VisibleDeprecationWarning: Creating an ndarray from ragged nested sequences (which is a list-or-tuple of lists-or-tuples-or ndarrays with different lengths or shapes) is deprecated. If you meant to do this, you must specify 'dtype=object' when creating the ndarray.\n",
      "  return np.array([xs, ys, zs, np.ones_like(xs)])\n"
     ]
    },
    {
     "data": {
      "image/png": "[encoded data removed]",
      "text/plain": [
       "<Figure size 432x288 with 1 Axes>"
      ]
     },
     "metadata": {
      "needs_background": "light"
     },
     "output_type": "display_data"
    }
   ],
   "source": [
    "anim1 = Animate(h1.Z[:,:14])\n",
    "anim1.set_equations(p1.P_h_num,p1.P_rh_num,p1.P_rk_num, p1.P_ra_num, p1.P_lh_num, p1.P_lk_num, p1.P_la_num)\n",
    "anim1.save_video()"
   ]
  }
 ],
 "metadata": {
  "hide_input": false,
  "kernelspec": {
   "display_name": "Python 3 (ipykernel)",
   "language": "python",
   "name": "python3"
  },
  "language_info": {
   "codemirror_mode": {
    "name": "ipython",
    "version": 3
   },
   "file_extension": ".py",
   "mimetype": "text/x-python",
   "name": "python",
   "nbconvert_exporter": "python",
   "pygments_lexer": "ipython3",
   "version": "3.8.10"
  }
 },
 "nbformat": 4,
 "nbformat_minor": 5
}
