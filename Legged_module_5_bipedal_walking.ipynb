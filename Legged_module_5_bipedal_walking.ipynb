{
 "cells": [
  {
   "cell_type": "code",
   "execution_count": 1,
   "id": "8077fc3a",
   "metadata": {
    "ExecuteTime": {
     "end_time": "2022-11-19T04:43:12.268424Z",
     "start_time": "2022-11-19T04:43:11.190882Z"
    }
   },
   "outputs": [],
   "source": [
    "import numpy as np\n",
    "import sympy as sp\n",
    "import matplotlib.animation as animation \n",
    "import matplotlib.pyplot as plt \n",
    "from scipy.integrate import odeint,ode\n",
    "from scipy.optimize import fsolve"
   ]
  },
  {
   "cell_type": "code",
   "execution_count": 2,
   "id": "f7b435f4",
   "metadata": {
    "ExecuteTime": {
     "end_time": "2022-11-19T04:43:12.284252Z",
     "start_time": "2022-11-19T04:43:12.269815Z"
    },
    "code_folding": [
     18
    ],
    "hide_input": false
   },
   "outputs": [],
   "source": [
    "l0, l1, l2, w, = sp.symbols('l0,l1,l2,w')\n",
    "\n",
    "Ibx,Iby,Ibz = sp.symbols('I_bx,I_by,I_bz')\n",
    "Itx,Ity,Itz = sp.symbols('I_tx,I_ty,I_tz')\n",
    "Icx,Icy,Icz = sp.symbols('I_cx,I_cy,I_cz')\n",
    "mb,mt,mc = sp.symbols('m_b,m_t,m_c')\n",
    "\n",
    "g,P = sp.symbols('g,P')\n",
    "\n",
    "\"\"\"Left leg variables\"\"\"\n",
    "plh, tlh, psilh, tlk, plhd, tlhd, psilhd, tlkd = sp.symbols('phi_lh,theta_lh,psi_lh,theta_lk,phidot_lh,thetadot_lh,psidot_lh,thetadot_lk')\n",
    "plhddot, tlhddot, psilhddot, tlkddot = sp.symbols('phiddot_lh,thetaddot_lh,psiddot_lh,thetaddot_lk')\n",
    "\n",
    "\"\"\"Right leg varibales\"\"\"\n",
    "prh, trh, psirh, trk, prhd, trhd, psirhd, trkd = sp.symbols('phi_rh,theta_rh,psi_rh,theta_rk,phidot_rh,thetadot_rh,psidot_rh,thetadot_rk')\n",
    "prhddot, trhddot, psirhddot, trkddot = sp.symbols('phiddot_rh,thetaddot_rh,psiddot_rh,thetaddot_rk')\n",
    "\n",
    "\"\"\"Torso variables\"\"\"\n",
    "p, t, psi, x,y,z, pd, td, psid, xd,yd,zd = sp.symbols('phi,theta,psi,x,y,z,phidot,thetadot,psidot,xdot,ydot,zdot')\n",
    "pddot, tddot, psiddot, xddot,yddot,zddot = sp.symbols('phiddot,thetaddot,psiddot,xddot,yddot,zddot')\n",
    "\n",
    "q = sp.Matrix([p, t, psi, x,y,z,plh, tlh, psilh, tlk,prh, trh, psirh, trk])\n",
    "qdot = sp.Matrix([pd, td, psid, xd,yd,zd , plhd, tlhd, psilhd, tlkd, prhd, trhd, psirhd, trkd])\n",
    "qddot = sp.Matrix([pddot, tddot, psiddot, xddot,yddot,zddot,plhddot, tlhddot, psilhddot, tlkddot,prhddot, trhddot, psirhddot, trkddot])\n",
    "\n",
    "def i_1Ti(phi,phid,u,r):\n",
    "    \"\"\"\n",
    "        @phi: Angle of rotation.\n",
    "        @u : Unit base along which rotation is happening.\n",
    "        @r : Position vector of joint in world frame.\n",
    "    \"\"\"\n",
    "    \n",
    "    ux,uy,uz = u\n",
    "    R = sp.eye(3,3)\n",
    "    cth = sp.cos(phi)\n",
    "    sth = sp.sin(phi)\n",
    "    vth = 1 - cth\n",
    "    R[0,0] = ux**2*vth + cth\n",
    "    R[0,1] = ux*uy*vth-uz*sth\n",
    "    R[0,2] = ux*uz*vth+uy*sth\n",
    "    R[1,0] = ux*uy*vth + uz*sth\n",
    "    R[1,1] = uy**2*vth + cth\n",
    "    R[1,2] = uy*uz*vth - ux*sth\n",
    "    R[2,0] = ux*uz*vth - uy*sth\n",
    "    R[2,1] = uy*uz*vth + ux*sth\n",
    "    R[2,2] = uz**2*vth + cth\n",
    "    I = sp.eye(3,3)\n",
    "    \n",
    "    R1 = R.col_insert(3,(I-R)@r.T)\n",
    "    tmp = sp.Matrix([0,0,0,1]).T\n",
    "    \n",
    "    T = R1.col_join(tmp)\n",
    "    omega = phid*sp.Matrix(u)\n",
    "    return T, R, omega"
   ]
  },
  {
   "cell_type": "code",
   "execution_count": 3,
   "id": "52225569",
   "metadata": {
    "ExecuteTime": {
     "end_time": "2022-11-19T04:43:12.346589Z",
     "start_time": "2022-11-19T04:43:12.284984Z"
    },
    "hide_input": false
   },
   "outputs": [
    {
     "name": "stdout",
     "output_type": "stream",
     "text": [
      "\"\"\"For Right Leg \"\"\"\n"
     ]
    },
    {
     "data": {
      "text/plain": [
       "(4, 4)"
      ]
     },
     "execution_count": 3,
     "metadata": {},
     "output_type": "execute_result"
    }
   ],
   "source": [
    "\"\"\"For Right Leg \"\"\"\n",
    "print('\"\"\"For Right Leg \"\"\"')\n",
    "T12r,R12r,omega12r = i_1Ti(psirh,psirhd,np.array([0,0,-1]),sp.Matrix([[0,-w,0]]))\n",
    "T23r,R23r,omega23r = i_1Ti(prh,prhd,np.array([-1,0,0]),sp.Matrix([[0,-w,0]]))\n",
    "T34r,R34r,omega34r = i_1Ti(trh,trhd,np.array([0,-1,0]),sp.Matrix([[0,-w,0]]))\n",
    "T45r,R45r,omega45r = i_1Ti(trk,trkd,np.array([0,-1,0]),sp.Matrix([[0,-w,-l1]]))\n",
    "\n",
    "T14r = T12r@T23r@T34r\n",
    "T15r = T12r@T23r@T34r@T45r\n",
    "T15r.shape"
   ]
  },
  {
   "cell_type": "code",
   "execution_count": 4,
   "id": "1b49df5f",
   "metadata": {
    "ExecuteTime": {
     "end_time": "2022-11-19T04:43:12.383360Z",
     "start_time": "2022-11-19T04:43:12.348060Z"
    },
    "hide_input": false
   },
   "outputs": [
    {
     "name": "stdout",
     "output_type": "stream",
     "text": [
      "\"\"\"For Left Leg\"\"\"\n"
     ]
    },
    {
     "data": {
      "text/plain": [
       "(4, 4)"
      ]
     },
     "execution_count": 4,
     "metadata": {},
     "output_type": "execute_result"
    }
   ],
   "source": [
    "\"\"\"For Left Leg\"\"\"\n",
    "print('\"\"\"For Left Leg\"\"\"')\n",
    "T12l,R12l,omega12l = i_1Ti(psilh,psilhd,np.array([0,0,1]),sp.Matrix([[0,w,0]]))\n",
    "T23l,R23l,omega23l = i_1Ti(plh,plhd,np.array([1,0,0]),sp.Matrix([[0,w,0]]))\n",
    "T34l,R34l,omega34l = i_1Ti(tlh,tlhd,np.array([0,-1,0]),sp.Matrix([[0,w,0]]))\n",
    "T45l,R45l,omega45l = i_1Ti(tlk,tlkd,np.array([0,-1,0]),sp.Matrix([[0,w,-l1]]))\n",
    "\n",
    "T14l = T12l@T23l@T34l\n",
    "T15l = T12l@T23l@T34l@T45l\n",
    "T15l.shape"
   ]
  },
  {
   "cell_type": "code",
   "execution_count": 5,
   "id": "d6472abb",
   "metadata": {
    "ExecuteTime": {
     "end_time": "2022-11-19T04:43:12.406824Z",
     "start_time": "2022-11-19T04:43:12.385307Z"
    },
    "hide_input": true
   },
   "outputs": [
    {
     "data": {
      "text/plain": [
       "(4, 4)"
      ]
     },
     "execution_count": 5,
     "metadata": {},
     "output_type": "execute_result"
    }
   ],
   "source": [
    "\"\"\" For Torso\"\"\"\n",
    "\n",
    "'''World Frame'''\n",
    "T01 = sp.Matrix([[1, 0, 0, x],\n",
    "                 [0, 8, 0, y],\n",
    "                 [0, 0, 1, z], \n",
    "                 [0, 0, 0, 1]])\n",
    "R01 = sp.Matrix([[1,0,0],[0,1,0],[0,0,1]])\n",
    "T12,R12,omega12 = i_1Ti(p,pd,np.array([1,0,0]),sp.Matrix([[0,0,0]]))\n",
    "T23,R23,omega23 = i_1Ti(t,td,np.array([0,1,0]),sp.Matrix([[0,0,0]]))\n",
    "T34,R34,omega34 = i_1Ti(psi,psid,np.array([0,0,1]),sp.Matrix([[0,0,0]]))\n",
    "\n",
    "T04 = T01@T12@T23@T34\n",
    "T04.shape"
   ]
  },
  {
   "cell_type": "code",
   "execution_count": 6,
   "id": "92c1245e",
   "metadata": {
    "ExecuteTime": {
     "end_time": "2022-11-19T04:43:12.419260Z",
     "start_time": "2022-11-19T04:43:12.408092Z"
    },
    "hide_input": false
   },
   "outputs": [
    {
     "data": {
      "text/plain": [
       "(3, 1)"
      ]
     },
     "execution_count": 6,
     "metadata": {},
     "output_type": "execute_result"
    }
   ],
   "source": [
    "\"\"\"Position vectors for Torso\"\"\"\n",
    "P_h = T04@sp.Matrix([0,0,l0,1])\n",
    "P_h = sp.Matrix(P_h[:3])\n",
    "P_h.shape"
   ]
  },
  {
   "cell_type": "code",
   "execution_count": 7,
   "id": "c34bb179",
   "metadata": {
    "ExecuteTime": {
     "end_time": "2022-11-19T04:43:12.465370Z",
     "start_time": "2022-11-19T04:43:12.420606Z"
    },
    "hide_input": false
   },
   "outputs": [
    {
     "data": {
      "text/plain": [
       "(4, 1)"
      ]
     },
     "execution_count": 7,
     "metadata": {},
     "output_type": "execute_result"
    }
   ],
   "source": [
    "\"\"\"Position Vectors for Left Leg\"\"\"\n",
    "P_lh = T04@T14l@sp.Matrix([0,w,0,1])\n",
    "P_lk = T04@T15l@sp.Matrix([0,w,-l1,1])\n",
    "P_la = T04@T15l@sp.Matrix([0,w,-(l1+l2),1])\n",
    "P_la.shape"
   ]
  },
  {
   "cell_type": "code",
   "execution_count": 8,
   "id": "4e2fd949",
   "metadata": {
    "ExecuteTime": {
     "end_time": "2022-11-19T04:43:12.502119Z",
     "start_time": "2022-11-19T04:43:12.466048Z"
    },
    "hide_input": true
   },
   "outputs": [
    {
     "data": {
      "text/plain": [
       "(4, 1)"
      ]
     },
     "execution_count": 8,
     "metadata": {},
     "output_type": "execute_result"
    }
   ],
   "source": [
    "\"\"\"Position Vectors for Right Leg\"\"\"\n",
    "P_rh = T04@T14r@sp.Matrix([0,-w,0,1])\n",
    "P_rk = T04@T15r@sp.Matrix([0,-w,-l1,1])\n",
    "P_ra = T04@T15r@sp.Matrix([0,-w,-(l1+l2),1])\n",
    "P_ra.shape"
   ]
  },
  {
   "cell_type": "code",
   "execution_count": 9,
   "id": "d3249331",
   "metadata": {
    "ExecuteTime": {
     "end_time": "2022-11-19T04:43:12.511950Z",
     "start_time": "2022-11-19T04:43:12.502857Z"
    },
    "hide_input": true
   },
   "outputs": [
    {
     "name": "stdout",
     "output_type": "stream",
     "text": [
      "\"\"\"Position of COM\"\"\"\n"
     ]
    },
    {
     "data": {
      "text/plain": [
       "(4, 1)"
      ]
     },
     "execution_count": 9,
     "metadata": {},
     "output_type": "execute_result"
    }
   ],
   "source": [
    "\"\"\"Position of COM\"\"\"\n",
    "print('\"\"\"Position of COM\"\"\"')\n",
    "com_b = T04@sp.Matrix([0,0,0.5*l0,1])\n",
    "com_lt = T04@T14l@sp.Matrix([0,w,-0.5*l1,1])\n",
    "com_lc = T04@T14l@sp.Matrix([0,w,-(l1+0.5*l2),1])\n",
    "com_rt = T04@T14r@sp.Matrix([0,-w,-0.5*l1,1])\n",
    "com_rc = T04@T14r@sp.Matrix([0,-w,-(l1+0.5*l2),1])\n",
    "com_b.shape"
   ]
  },
  {
   "cell_type": "code",
   "execution_count": 10,
   "id": "75aaf431",
   "metadata": {
    "ExecuteTime": {
     "end_time": "2022-11-19T04:43:12.540524Z",
     "start_time": "2022-11-19T04:43:12.513502Z"
    },
    "hide_input": false
   },
   "outputs": [
    {
     "name": "stdout",
     "output_type": "stream",
     "text": [
      "\"\"\"Angular velocity\"\"\"\n"
     ]
    }
   ],
   "source": [
    "\"\"\"Angular velocity in body frame\"\"\"\n",
    "\n",
    "omegaB_2 = omega12\n",
    "omegaB_3 = omega23 + R23.T@omegaB_2\n",
    "omegaB_4 = omega34 + R34.T@omegaB_3\n",
    "\n",
    "\"\"\"Angular velocity for left leg\"\"\"\n",
    "\n",
    "omegaB_1l = omega12l + R12l.T@omegaB_4\n",
    "omegaB_2l = omega23l + R23l.T@omegaB_1l\n",
    "omegaB_3l = omega34l + R34l.T@omegaB_2l\n",
    "omegaB_4l = omega45l + R45l.T@omegaB_3l\n",
    "\n",
    "\"\"\"Angular velocity for right leg\"\"\"\n",
    "omegaB_1r = omega12r + R12r.T@omegaB_4\n",
    "omegaB_2r = omega23r + R23r.T@omegaB_1r\n",
    "omegaB_3r = omega34r + R34r.T@omegaB_2r\n",
    "omegaB_4r = omega45r + R45r.T@omegaB_3r\n",
    "print('\"\"\"Angular velocity\"\"\"')"
   ]
  },
  {
   "cell_type": "code",
   "execution_count": 11,
   "id": "3226c3e1",
   "metadata": {
    "ExecuteTime": {
     "end_time": "2022-11-19T04:43:13.047564Z",
     "start_time": "2022-11-19T04:43:12.541676Z"
    },
    "hide_input": false
   },
   "outputs": [
    {
     "name": "stdout",
     "output_type": "stream",
     "text": [
      "\"\"\"linear velocity\"\"\"\n"
     ]
    }
   ],
   "source": [
    "qdot_diag = sp.diag(pd, td, psid, xd,yd,zd , plhd, tlhd, psilhd, tlkd, prhd, trhd, psirhd, trkd)\n",
    "qddot_diag = sp.diag(pddot, tddot, psiddot, xddot,yddot,zddot,plhddot, tlhddot, psilhddot, tlkddot,prhddot, trhddot, psirhddot, trkddot)\n",
    "v_b = com_b.jacobian(q)@qdot\n",
    "v_lt = com_lt.jacobian(q)@qdot\n",
    "v_lc = com_lc.jacobian(q)@qdot\n",
    "v_rt = com_rt.jacobian(q)@qdot\n",
    "v_rc = com_rc.jacobian(q)@qdot\n",
    "print('\"\"\"linear velocity\"\"\"')"
   ]
  },
  {
   "cell_type": "code",
   "execution_count": 12,
   "id": "dde23e92",
   "metadata": {
    "ExecuteTime": {
     "end_time": "2022-11-19T04:43:13.088992Z",
     "start_time": "2022-11-19T04:43:13.048538Z"
    },
    "hide_input": false,
    "scrolled": true
   },
   "outputs": [
    {
     "data": {
      "text/plain": [
       "(1, 1)"
      ]
     },
     "execution_count": 12,
     "metadata": {},
     "output_type": "execute_result"
    }
   ],
   "source": [
    "Ib = sp.diag(Ibx, Iby, Ibz)\n",
    "It = sp.diag(Itx, Ity, Itz)\n",
    "Ic = sp.diag(Icx, Icy, Icz)\n",
    "\n",
    "\n",
    "T = 0.5*(mb*(v_b.T@v_b) +mt*(v_rt.T@v_rt) + mc*(v_rc.T@v_rc) + mt*(v_lt.T@v_lt)+ mc*(v_lc.T@v_lc) \\\n",
    "                  +(omegaB_4.T@Ib@omegaB_4) + (omegaB_3l.T@It@omegaB_3l) \\\n",
    "                   +(omegaB_4l.T@Ic@omegaB_4l) + (omegaB_4r.T@Ic@omegaB_4r))\n",
    "\n",
    "V = sp.Matrix([mb*g*com_b[2] +mt*g*com_rt[2]+ mt*g*com_lt[3]+ mc*g*com_lc[2] + mc*g*com_rc[3]])\n",
    "\n",
    "L = T - V\n",
    "L.shape"
   ]
  },
  {
   "cell_type": "code",
   "execution_count": 13,
   "id": "79be83c7",
   "metadata": {
    "ExecuteTime": {
     "end_time": "2022-11-19T04:43:14.253545Z",
     "start_time": "2022-11-19T04:43:13.090420Z"
    },
    "hide_input": false
   },
   "outputs": [
    {
     "data": {
      "text/plain": [
       "(1, 14)"
      ]
     },
     "execution_count": 13,
     "metadata": {},
     "output_type": "execute_result"
    }
   ],
   "source": [
    "dLdqdot = L.jacobian(qdot)\n",
    "(dLdqdot).shape"
   ]
  },
  {
   "cell_type": "code",
   "execution_count": 14,
   "id": "9fe57000",
   "metadata": {
    "ExecuteTime": {
     "end_time": "2022-11-19T04:43:30.546881Z",
     "start_time": "2022-11-19T04:43:14.254273Z"
    },
    "hide_input": false
   },
   "outputs": [
    {
     "data": {
      "text/plain": [
       "(1, 14)"
      ]
     },
     "execution_count": 14,
     "metadata": {},
     "output_type": "execute_result"
    }
   ],
   "source": [
    "dt_dLdqdot = sp.Matrix.diagonal(dLdqdot.jacobian(q))@qdot_diag + sp.Matrix.diagonal(dLdqdot.jacobian(qdot))@qddot_diag\n",
    "\n",
    "dt_dLdqdot.shape"
   ]
  },
  {
   "cell_type": "code",
   "execution_count": 15,
   "id": "aab8fd5d",
   "metadata": {
    "ExecuteTime": {
     "end_time": "2022-11-19T04:43:33.671154Z",
     "start_time": "2022-11-19T04:43:30.547669Z"
    },
    "hide_input": false
   },
   "outputs": [
    {
     "data": {
      "text/plain": [
       "(1, 14)"
      ]
     },
     "execution_count": 15,
     "metadata": {},
     "output_type": "execute_result"
    }
   ],
   "source": [
    "dLdq = L.jacobian(q)\n",
    "# dLdq.shape\n",
    "\n",
    "EOM = dt_dLdqdot - dLdq\n",
    "EOM.shape"
   ]
  },
  {
   "cell_type": "code",
   "execution_count": 16,
   "id": "f13dc43e",
   "metadata": {
    "ExecuteTime": {
     "end_time": "2022-11-19T04:43:36.064358Z",
     "start_time": "2022-11-19T04:43:33.671948Z"
    },
    "hide_input": false
   },
   "outputs": [
    {
     "data": {
      "text/plain": [
       "(14, 14)"
      ]
     },
     "execution_count": 16,
     "metadata": {},
     "output_type": "execute_result"
    }
   ],
   "source": [
    "M = EOM.jacobian(qddot)\n",
    "M.shape"
   ]
  },
  {
   "cell_type": "code",
   "execution_count": 17,
   "id": "e2ff0f65",
   "metadata": {
    "ExecuteTime": {
     "end_time": "2022-11-19T04:44:54.078702Z",
     "start_time": "2022-11-19T04:43:36.065385Z"
    },
    "hide_input": true
   },
   "outputs": [
    {
     "data": {
      "text/plain": [
       "(1, 14)"
      ]
     },
     "execution_count": 17,
     "metadata": {},
     "output_type": "execute_result"
    }
   ],
   "source": [
    "B = EOM.subs({pddot:0, tddot:0, psiddot:0, xddot:0,yddot:0,zddot:0 , plhddot:0, tlhddot:0, psilhddot:0, tlkddot:0, prhddot:0, trhddot:0, psirhddot:0, trkddot:0})\n",
    "B.shape"
   ]
  },
  {
   "cell_type": "code",
   "execution_count": 18,
   "id": "712badec",
   "metadata": {
    "ExecuteTime": {
     "end_time": "2022-11-19T04:44:54.097944Z",
     "start_time": "2022-11-19T04:44:54.079502Z"
    },
    "hide_input": false
   },
   "outputs": [
    {
     "data": {
      "text/plain": [
       "(array([[0.     ],\n",
       "        [0.     ],\n",
       "        [0.25596],\n",
       "        [0.     ],\n",
       "        [0.     ],\n",
       "        [0.     ]]),\n",
       " array([[0.   ],\n",
       "        [0.   ],\n",
       "        [0.324],\n",
       "        [0.   ],\n",
       "        [0.   ],\n",
       "        [0.   ]]),\n",
       " array([[ 0.  ],\n",
       "        [ 0.  ],\n",
       "        [-0.27],\n",
       "        [ 0.  ],\n",
       "        [ 0.  ],\n",
       "        [ 0.  ]]))"
      ]
     },
     "execution_count": 18,
     "metadata": {},
     "output_type": "execute_result"
    }
   ],
   "source": [
    "class traj_gen:\n",
    "    def __init__(self,t0,tf,q0,qf,q0dot,qfdot,q0ddot,qfddot):\n",
    "        self.t0 = t0\n",
    "        self.tf = tf\n",
    "        self.q0 = q0\n",
    "        self.qf = qf \n",
    "        self.q0dot = q0dot\n",
    "        self.qfdot = qfdot\n",
    "        self.q0ddot = q0ddot\n",
    "        self.qfddot = qfddot\n",
    "        \n",
    "    def getb(self):\n",
    "        t0,tf = self.t0,self.tf\n",
    "        A = np.array([[1,t0,t0**2,t0**3,t0**4,t0**5],\n",
    "                       [1,tf,tf**2,tf**3,tf**4,tf**5],\n",
    "                       [0,1,2*t0,3*t0**2,4*t0**3,5*t0**4],\n",
    "                       [0,1,2*tf,3*tf**2,4*tf**3,5*tf**4],\n",
    "                       [0,0,2,6*t0,12*t0**2,20*t0**3],\n",
    "                       [0,0,2,6*tf,12*tf**2,20*tf**3]])\n",
    "        C = np.array([[self.q0,self.qf,self.q0dot,self.qfdot,self.q0ddot,self.qfddot]]).T\n",
    "        B = np.linalg.inv(A)@C\n",
    "        return B\n",
    "    \n",
    "    def get_q(self,t):\n",
    "        T1 = np.array([[1,t,t**2,t**3,t**4,t**5]])\n",
    "        T2 = np.array([[0,1,2*t,3*t**2,4*t**3,5*t**4]])\n",
    "        T3 = np.array([[0,0,2,6*t,12*t**2,20*t**3]])\n",
    "        B = np.squeeze(self.getb())\n",
    "        q = B@T1.T\n",
    "        qdot = B@T2.T\n",
    "        qddot = B@T3.T\n",
    "        return q, qdot, qddot\n",
    "\n",
    "    \n",
    "# ankle_motion = deg2rad([-7.5 10 10 5 0 -10 -7.5])\n",
    "# knee_motion = deg2rad([10, -5, 2.5, -10, -10, 15, 10])\n",
    "# hip_motion = deg2rad([-10, -7.5, -15, 10, 15, 10,-10])\n",
    "\n",
    "q0 = np.array([0,0,0,0,0,0])\n",
    "qf = np.array([0,0,0.375,0,0,0])\n",
    "q0dot = np.array([0,0,0,0,0,0])\n",
    "qfdot = np.array([0,0,0,0,0,0])\n",
    "q0ddot = np.array([0,0,0,0,0,0])\n",
    "qfddot = np.array([0,0,0,0,0,0])\n",
    "c1  = traj_gen(0,2,q0,qf,q0dot,qfdot,q0ddot,qfddot)\n",
    "c1.getb()[0]\n",
    "c1.get_q(1.2)"
   ]
  },
  {
   "cell_type": "code",
   "execution_count": 19,
   "id": "f5e5c47c",
   "metadata": {
    "ExecuteTime": {
     "end_time": "2022-11-19T04:44:57.095486Z",
     "start_time": "2022-11-19T04:44:54.099123Z"
    }
   },
   "outputs": [
    {
     "data": {
      "text/plain": [
       "(3, 14)"
      ]
     },
     "execution_count": 19,
     "metadata": {},
     "output_type": "execute_result"
    }
   ],
   "source": [
    "P_ra1 = sp.Matrix(P_ra[:3])\n",
    "P_la1 = sp.Matrix(P_la[:3])\n",
    "J_r = P_ra1.jacobian(q)\n",
    "J_l = P_la1.jacobian(q)\n",
    "\n",
    "Jdot_l = (sp.Matrix([J_l.row(0)]).jacobian(q)@qdot).T\n",
    "Jdot_r = (sp.Matrix([J_r.row(0)]).jacobian(q)@qdot).T\n",
    "\n",
    "for i in range(1,3):\n",
    "    Jdot_l = Jdot_l.row_insert(i,(sp.Matrix([J_l.row(i)]).jacobian(q)@qdot).T)\n",
    "    Jdot_r = Jdot_r.row_insert(i,(sp.Matrix([J_r.row(i)]).jacobian(q)@qdot).T)\n",
    "     \n",
    "Jdot_l.shape"
   ]
  },
  {
   "cell_type": "code",
   "execution_count": 35,
   "id": "55e94d38",
   "metadata": {
    "ExecuteTime": {
     "end_time": "2022-11-19T08:41:22.107675Z",
     "start_time": "2022-11-19T08:39:49.033021Z"
    },
    "code_folding": [
     27,
     35,
     114,
     146,
     162,
     172
    ]
   },
   "outputs": [
    {
     "name": "stdout",
     "output_type": "stream",
     "text": [
      "[[ 0.00000000e+00  3.34472651e-01 -4.11097269e-01  0.00000000e+00\n",
      "   0.00000000e+00  0.00000000e+00 -1.78085369e-03 -5.50128839e-02\n",
      "  -4.18885636e-01 -1.09758282e-02  0.00000000e+00  0.00000000e+00\n",
      "   0.00000000e+00  0.00000000e+00]\n",
      " [-5.57703944e+00 -1.11479322e+00 -2.09603239e+00  0.00000000e+00\n",
      "   0.00000000e+00  0.00000000e+00 -5.61452072e+00  1.39316135e+00\n",
      "  -1.87212224e+00  3.17672869e-01  0.00000000e+00  0.00000000e+00\n",
      "   0.00000000e+00  0.00000000e+00]\n",
      " [ 5.12955667e-01  2.58569578e-01  1.28582899e-01  0.00000000e+00\n",
      "   0.00000000e+00  0.00000000e+00  5.42406197e-01  5.92898540e-02\n",
      "   1.24197121e-01  2.95786672e-02  0.00000000e+00  0.00000000e+00\n",
      "   0.00000000e+00  0.00000000e+00]]\n",
      "(6, 1)\n"
     ]
    },
    {
     "name": "stderr",
     "output_type": "stream",
     "text": [
      "/tmp/ipykernel_5298/1395188140.py:130: VisibleDeprecationWarning: Creating an ndarray from ragged nested sequences (which is a list-or-tuple of lists-or-tuples-or ndarrays with different lengths or shapes) is deprecated. If you meant to do this, you must specify 'dtype=object' when creating the ndarray.\n",
      "  A = np.array([[M,        -self.J_l_temp.T],\n"
     ]
    },
    {
     "ename": "ShapeError",
     "evalue": "Matrix size mismatch: (14, 1) + (6, 1)",
     "output_type": "error",
     "traceback": [
      "\u001b[0;31m---------------------------------------------------------------------------\u001b[0m",
      "\u001b[0;31mShapeError\u001b[0m                                Traceback (most recent call last)",
      "\u001b[0;32m/tmp/ipykernel_5298/1395188140.py\u001b[0m in \u001b[0;36m<module>\u001b[0;34m\u001b[0m\n\u001b[1;32m    186\u001b[0m \u001b[0;31m# h1.get_T()\u001b[0m\u001b[0;34m\u001b[0m\u001b[0;34m\u001b[0m\u001b[0;34m\u001b[0m\u001b[0m\n\u001b[1;32m    187\u001b[0m \u001b[0mh1\u001b[0m\u001b[0;34m.\u001b[0m\u001b[0mset_equations\u001b[0m\u001b[0;34m(\u001b[0m\u001b[0mM\u001b[0m\u001b[0;34m,\u001b[0m\u001b[0mB\u001b[0m\u001b[0;34m,\u001b[0m\u001b[0mJ_r\u001b[0m\u001b[0;34m,\u001b[0m\u001b[0mJ_l\u001b[0m\u001b[0;34m,\u001b[0m\u001b[0mJdot_r\u001b[0m\u001b[0;34m,\u001b[0m\u001b[0mJdot_l\u001b[0m\u001b[0;34m)\u001b[0m\u001b[0;34m\u001b[0m\u001b[0;34m\u001b[0m\u001b[0m\n\u001b[0;32m--> 188\u001b[0;31m \u001b[0mh1\u001b[0m\u001b[0;34m.\u001b[0m\u001b[0mrhs\u001b[0m\u001b[0;34m(\u001b[0m\u001b[0;36m0\u001b[0m\u001b[0;34m,\u001b[0m\u001b[0mh1\u001b[0m\u001b[0;34m.\u001b[0m\u001b[0mZ0\u001b[0m\u001b[0;34m,\u001b[0m\u001b[0mleg\u001b[0m\u001b[0;34m=\u001b[0m\u001b[0;34m\"left\"\u001b[0m\u001b[0;34m)\u001b[0m\u001b[0;34m\u001b[0m\u001b[0;34m\u001b[0m\u001b[0m\n\u001b[0m",
      "\u001b[0;32m/tmp/ipykernel_5298/1395188140.py\u001b[0m in \u001b[0;36mrhs\u001b[0;34m(self, t, z, leg)\u001b[0m\n\u001b[1;32m    131\u001b[0m                           \u001b[0;34m[\u001b[0m\u001b[0mself\u001b[0m\u001b[0;34m.\u001b[0m\u001b[0mJ_l_temp\u001b[0m\u001b[0;34m,\u001b[0m \u001b[0mnp\u001b[0m\u001b[0;34m.\u001b[0m\u001b[0mzeros\u001b[0m\u001b[0;34m(\u001b[0m\u001b[0;36m3\u001b[0m\u001b[0;34m)\u001b[0m\u001b[0;34m]\u001b[0m\u001b[0;34m\u001b[0m\u001b[0;34m\u001b[0m\u001b[0m\n\u001b[1;32m    132\u001b[0m                          ])\n\u001b[0;32m--> 133\u001b[0;31m             N = np.array([[self.get_T(t,leg,self.M_temp,self.B_temp) - self.B_temp],\n\u001b[0m\u001b[1;32m    134\u001b[0m                          [-self.Jdot_l_temp@qdot]])\n\u001b[1;32m    135\u001b[0m \u001b[0;34m\u001b[0m\u001b[0m\n",
      "\u001b[0;32m/tmp/ipykernel_5298/1395188140.py\u001b[0m in \u001b[0;36mget_T\u001b[0;34m(self, t, leg, A_, b_)\u001b[0m\n\u001b[1;32m    109\u001b[0m \u001b[0;34m\u001b[0m\u001b[0m\n\u001b[1;32m    110\u001b[0m         \u001b[0mprint\u001b[0m\u001b[0;34m(\u001b[0m\u001b[0mqddot_des\u001b[0m\u001b[0;34m.\u001b[0m\u001b[0mshape\u001b[0m\u001b[0;34m)\u001b[0m\u001b[0;34m\u001b[0m\u001b[0;34m\u001b[0m\u001b[0m\n\u001b[0;32m--> 111\u001b[0;31m         \u001b[0mprint\u001b[0m\u001b[0;34m(\u001b[0m\u001b[0;34m(\u001b[0m\u001b[0mqdot_des\u001b[0m \u001b[0;34m-\u001b[0m \u001b[0mqdot\u001b[0m\u001b[0;34m)\u001b[0m\u001b[0;34m.\u001b[0m\u001b[0mshape\u001b[0m\u001b[0;34m)\u001b[0m\u001b[0;34m\u001b[0m\u001b[0;34m\u001b[0m\u001b[0m\n\u001b[0m\u001b[1;32m    112\u001b[0m         \u001b[0mv\u001b[0m \u001b[0;34m=\u001b[0m \u001b[0mqddot_des\u001b[0m \u001b[0;34m+\u001b[0m \u001b[0mKd\u001b[0m\u001b[0;34m@\u001b[0m\u001b[0;34m(\u001b[0m\u001b[0mqdot_des\u001b[0m \u001b[0;34m-\u001b[0m \u001b[0mqdot\u001b[0m\u001b[0;34m)\u001b[0m \u001b[0;34m+\u001b[0m \u001b[0mKp\u001b[0m\u001b[0;34m@\u001b[0m\u001b[0;34m(\u001b[0m\u001b[0mq_des\u001b[0m \u001b[0;34m-\u001b[0m \u001b[0mq\u001b[0m\u001b[0;34m)\u001b[0m\u001b[0;34m\u001b[0m\u001b[0;34m\u001b[0m\u001b[0m\n\u001b[1;32m    113\u001b[0m \u001b[0;34m\u001b[0m\u001b[0m\n",
      "\u001b[0;32m~/.local/lib/python3.8/site-packages/sympy/core/decorators.py\u001b[0m in \u001b[0;36mbinary_op_wrapper\u001b[0;34m(self, other)\u001b[0m\n\u001b[1;32m    134\u001b[0m                     \u001b[0;32mif\u001b[0m \u001b[0mf\u001b[0m \u001b[0;32mis\u001b[0m \u001b[0;32mnot\u001b[0m \u001b[0;32mNone\u001b[0m\u001b[0;34m:\u001b[0m\u001b[0;34m\u001b[0m\u001b[0;34m\u001b[0m\u001b[0m\n\u001b[1;32m    135\u001b[0m                         \u001b[0;32mreturn\u001b[0m \u001b[0mf\u001b[0m\u001b[0;34m(\u001b[0m\u001b[0mself\u001b[0m\u001b[0;34m)\u001b[0m\u001b[0;34m\u001b[0m\u001b[0;34m\u001b[0m\u001b[0m\n\u001b[0;32m--> 136\u001b[0;31m             \u001b[0;32mreturn\u001b[0m \u001b[0mfunc\u001b[0m\u001b[0;34m(\u001b[0m\u001b[0mself\u001b[0m\u001b[0;34m,\u001b[0m \u001b[0mother\u001b[0m\u001b[0;34m)\u001b[0m\u001b[0;34m\u001b[0m\u001b[0;34m\u001b[0m\u001b[0m\n\u001b[0m\u001b[1;32m    137\u001b[0m         \u001b[0;32mreturn\u001b[0m \u001b[0mbinary_op_wrapper\u001b[0m\u001b[0;34m\u001b[0m\u001b[0;34m\u001b[0m\u001b[0m\n\u001b[1;32m    138\u001b[0m     \u001b[0;32mreturn\u001b[0m \u001b[0mpriority_decorator\u001b[0m\u001b[0;34m\u001b[0m\u001b[0;34m\u001b[0m\u001b[0m\n",
      "\u001b[0;32m~/.local/lib/python3.8/site-packages/sympy/matrices/common.py\u001b[0m in \u001b[0;36m__rsub__\u001b[0;34m(self, a)\u001b[0m\n\u001b[1;32m   2992\u001b[0m     \u001b[0;34m@\u001b[0m\u001b[0mcall_highest_priority\u001b[0m\u001b[0;34m(\u001b[0m\u001b[0;34m'__sub__'\u001b[0m\u001b[0;34m)\u001b[0m\u001b[0;34m\u001b[0m\u001b[0;34m\u001b[0m\u001b[0m\n\u001b[1;32m   2993\u001b[0m     \u001b[0;32mdef\u001b[0m \u001b[0m__rsub__\u001b[0m\u001b[0;34m(\u001b[0m\u001b[0mself\u001b[0m\u001b[0;34m,\u001b[0m \u001b[0ma\u001b[0m\u001b[0;34m)\u001b[0m\u001b[0;34m:\u001b[0m\u001b[0;34m\u001b[0m\u001b[0;34m\u001b[0m\u001b[0m\n\u001b[0;32m-> 2994\u001b[0;31m         \u001b[0;32mreturn\u001b[0m \u001b[0;34m(\u001b[0m\u001b[0;34m-\u001b[0m\u001b[0mself\u001b[0m\u001b[0;34m)\u001b[0m \u001b[0;34m+\u001b[0m \u001b[0ma\u001b[0m\u001b[0;34m\u001b[0m\u001b[0;34m\u001b[0m\u001b[0m\n\u001b[0m\u001b[1;32m   2995\u001b[0m \u001b[0;34m\u001b[0m\u001b[0m\n\u001b[1;32m   2996\u001b[0m     \u001b[0;34m@\u001b[0m\u001b[0mcall_highest_priority\u001b[0m\u001b[0;34m(\u001b[0m\u001b[0;34m'__rsub__'\u001b[0m\u001b[0;34m)\u001b[0m\u001b[0;34m\u001b[0m\u001b[0;34m\u001b[0m\u001b[0m\n",
      "\u001b[0;32m~/.local/lib/python3.8/site-packages/sympy/core/decorators.py\u001b[0m in \u001b[0;36mbinary_op_wrapper\u001b[0;34m(self, other)\u001b[0m\n\u001b[1;32m    134\u001b[0m                     \u001b[0;32mif\u001b[0m \u001b[0mf\u001b[0m \u001b[0;32mis\u001b[0m \u001b[0;32mnot\u001b[0m \u001b[0;32mNone\u001b[0m\u001b[0;34m:\u001b[0m\u001b[0;34m\u001b[0m\u001b[0;34m\u001b[0m\u001b[0m\n\u001b[1;32m    135\u001b[0m                         \u001b[0;32mreturn\u001b[0m \u001b[0mf\u001b[0m\u001b[0;34m(\u001b[0m\u001b[0mself\u001b[0m\u001b[0;34m)\u001b[0m\u001b[0;34m\u001b[0m\u001b[0;34m\u001b[0m\u001b[0m\n\u001b[0;32m--> 136\u001b[0;31m             \u001b[0;32mreturn\u001b[0m \u001b[0mfunc\u001b[0m\u001b[0;34m(\u001b[0m\u001b[0mself\u001b[0m\u001b[0;34m,\u001b[0m \u001b[0mother\u001b[0m\u001b[0;34m)\u001b[0m\u001b[0;34m\u001b[0m\u001b[0;34m\u001b[0m\u001b[0m\n\u001b[0m\u001b[1;32m    137\u001b[0m         \u001b[0;32mreturn\u001b[0m \u001b[0mbinary_op_wrapper\u001b[0m\u001b[0;34m\u001b[0m\u001b[0;34m\u001b[0m\u001b[0m\n\u001b[1;32m    138\u001b[0m     \u001b[0;32mreturn\u001b[0m \u001b[0mpriority_decorator\u001b[0m\u001b[0;34m\u001b[0m\u001b[0;34m\u001b[0m\u001b[0m\n",
      "\u001b[0;32m~/.local/lib/python3.8/site-packages/sympy/matrices/common.py\u001b[0m in \u001b[0;36m__add__\u001b[0;34m(self, other)\u001b[0m\n\u001b[1;32m   2701\u001b[0m         \u001b[0;32mif\u001b[0m \u001b[0mhasattr\u001b[0m\u001b[0;34m(\u001b[0m\u001b[0mother\u001b[0m\u001b[0;34m,\u001b[0m \u001b[0;34m'shape'\u001b[0m\u001b[0;34m)\u001b[0m\u001b[0;34m:\u001b[0m\u001b[0;34m\u001b[0m\u001b[0;34m\u001b[0m\u001b[0m\n\u001b[1;32m   2702\u001b[0m             \u001b[0;32mif\u001b[0m \u001b[0mself\u001b[0m\u001b[0;34m.\u001b[0m\u001b[0mshape\u001b[0m \u001b[0;34m!=\u001b[0m \u001b[0mother\u001b[0m\u001b[0;34m.\u001b[0m\u001b[0mshape\u001b[0m\u001b[0;34m:\u001b[0m\u001b[0;34m\u001b[0m\u001b[0;34m\u001b[0m\u001b[0m\n\u001b[0;32m-> 2703\u001b[0;31m                 raise ShapeError(\"Matrix size mismatch: %s + %s\" % (\n\u001b[0m\u001b[1;32m   2704\u001b[0m                     self.shape, other.shape))\n\u001b[1;32m   2705\u001b[0m \u001b[0;34m\u001b[0m\u001b[0m\n",
      "\u001b[0;31mShapeError\u001b[0m: Matrix size mismatch: (14, 1) + (6, 1)"
     ]
    }
   ],
   "source": [
    "class parameters:\n",
    "    def __init__(self):\n",
    "        self.l0, self.l1,self.l2, self.w = 1, 0.5, 0.5, 0.1\n",
    "        self.mb, self.mt,self.mc = 70,10,5\n",
    "        self.Ibx,self.Iby,self.Ibz = 5,3,2\n",
    "        self.Itx, self.Ity, self.Itz = 1,0.3,2\n",
    "        self.Icx,self.Icy,self.Icz = 0.5,0.15,1\n",
    "        \"\"\" torso params\"\"\"\n",
    "        self.p, self.t, self.psi = 0,0,0\n",
    "        self.pd, self.td, self.psid = 0,0.5,0\n",
    "        self.x,self.y,self.z = 0,0,0\n",
    "        self.xd,self.yd,self.zd = 0,0,0\n",
    "        \"\"\"left leg params\"\"\"\n",
    "        self.plh, self.tlh, self.psilh, self.tlk = 0,0,0,0\n",
    "        self.plhd, self.tlhd, self.psilhd, self.tlkd = 0,0,0,0\n",
    "        \"\"\"right leg params\"\"\"\n",
    "        self.prh, self.trh, self.psirh, self.trk = 0,0,0,0\n",
    "        self.prhd, self.trhd, self.psirhd, self.trkd = 0, 0, 0, 0 \n",
    "        \n",
    "        \n",
    "        \n",
    "p1 = parameters()\n",
    "\n",
    "\n",
    "class Humanoid(parameters):\n",
    "    def __init__(self):\n",
    "        super().__init__()\n",
    "        self.Z0 = np.array([self.p, self.t, self.psi,\\\n",
    "                            self.pd, self.td, self.psid,\\\n",
    "                            self.plh, self.tlh, self.psilh, self.tlk,\\\n",
    "                            self.plhd, self.tlhd, self.psilhd, self.tlkd,\\\n",
    "                            self.prh, self.trh, self.psirh, self.trk,\\\n",
    "                            self.prhd, self.trhd, self.psirhd, self.trkd\\\n",
    "                           ])\n",
    "        \n",
    "    def set_equations(self,M,B,J_r,J_l,Jdot_r,Jdot_l):\n",
    "        M = M.subs({l0:self.l0, l1:self.l1,l2:self.l2, w:self.w,\\\n",
    "                    mb:self.mb, mt:self.mt,mc:self.mc,\\\n",
    "                    Ibx:self.Ibx,Iby:self.Iby,Ibz:self.Ibz,\\\n",
    "                    Itx:self.Itx,Ity:self.Ity,Itz:self.Itz,\\\n",
    "                    Icx:self.Icx,Icy:self.Icy,Icz:self.Icz})\n",
    "        \n",
    "        B = B.subs({l0:self.l0, l1:self.l1,l2:self.l2, w:self.w,\\\n",
    "                    mb:self.mb, mt:self.mt,mc:self.mc,\\\n",
    "                    Ibx:self.Ibx,Iby:self.Iby,Ibz:self.Ibz,\\\n",
    "                    Itx:self.Itx,Ity:self.Ity,Itz:self.Itz,\\\n",
    "                    Icx:self.Icx,Icy:self.Icy,Icz:self.Icz})\n",
    "        \n",
    "        J_r = J_r.subs({l1:self.l1,l2:self.l2, w:self.w})\n",
    "        J_l = J_l.subs({l1:self.l1,l2:self.l2, w:self.w})\n",
    "        \n",
    "        Jdot_r = Jdot_r.subs({l1:self.l1,l2:self.l2, w:self.w})\n",
    "        Jdot_l = Jdot_l.subs({l1:self.l1,l2:self.l2, w:self.w})\n",
    "        \n",
    "#         print(Jdot_r)\n",
    "        \n",
    "        \n",
    "        self.M_num = sp.lambdify([p, t, psi,plh, tlh, psilh, tlk,\\\n",
    "                             prh, trh, psirh, trk],M)\n",
    "        \n",
    "        self.B_num = sp.lambdify([p, t, psi,plh, tlh, psilh, tlk,                           \n",
    "                                  prh, trh, psirh, trk,\n",
    "                                  pd,td,psid,plhd, tlhd, psilhd, tlkd,                           \n",
    "                                  prhd, trhd, psirhd, trkd], B)\n",
    "        \n",
    "        self.J_r_num = sp.lambdify([p, t, psi,prh, trh, psirh, trk], J_r)\n",
    "        self.J_l_num = sp.lambdify([p, t, psi,plh, tlh, psilh, tlk], J_l)\n",
    "        \n",
    "        self.Jdot_r_num = sp.lambdify([p, t, psi,  pd, td, psid,  prh, trh, psirh, trk,  prhd, trhd, psirhd, trkd],Jdot_r)\n",
    "        \n",
    "        self.Jdot_l_num = sp.lambdify([p, t, psi,  pd, td, psid,  plh, tlh, psilh, tlk,  plhd,tlhd, psilhd, tlkd],Jdot_l)\n",
    "        \n",
    "        print(self.Jdot_l_num(0.3,0.2,0.2, 0.3,0.2,0.2, 0.5,0.1,0.15,0.15, 0.5,0.1,0.15,0.15)) \n",
    "        \n",
    "    def get_T(self,t,leg, A_, b_):\n",
    "        \n",
    "        \"\"\"Gives BT part of the equation\"\"\"\n",
    "        \"\"\"A_,b_ are Estimated parameters of the system\"\"\"\n",
    "        B1 = np.zeros((6,8))\n",
    "        B2 = np.eye((8))\n",
    "        B3 = np.zeros((3,8))\n",
    "        B = np.concatenate((B1,B2,B3))\n",
    "        \n",
    "        S_L = np.array([[0, 0, 0, 1, 0, 0, 0, 0, 0, 0, 0, 0, 0, 0, 0, 0, 0],\n",
    "                        [0, 0, 0, 0, 1, 0, 0, 0, 0, 0, 0, 0, 0, 0, 0, 0, 0],\n",
    "                        [0, 0, 0, 0, 0, 1, 0, 0, 0, 0, 0, 0, 0, 0, 0, 0, 0],\n",
    "                        [0, 0, 0, 0, 0, 0, 0, 0, 0, 0, 1, 0, 0, 0, 0, 0, 0],\n",
    "                        [0, 0, 0, 0, 0, 0, 0, 0, 0, 0, 0, 1, 0, 0, 0, 0, 0],\n",
    "                        [0, 0, 0, 0, 0, 0, 0, 0, 0, 0, 0, 0, 1, 0, 0, 0, 0],\n",
    "                        [0, 0, 0, 0, 0, 0, 0, 0, 0, 1, 0, 0, 0, 0, 0, 0, 0],\n",
    "                        [0, 0, 0, 0, 0, 0, 0, 0, 0, 0, 0, 0, 0, 1, 0, 0, 0]])\n",
    "        \n",
    "        S_R = np.array([[0, 0, 0, 1, 0, 0, 0, 0, 0, 0, 0, 0, 0, 0, 0, 0, 0],\n",
    "                        [0, 0, 0, 0, 1, 0, 0, 0, 0, 0, 0, 0, 0, 0, 0, 0, 0],\n",
    "                        [0, 0, 0, 0, 0, 1, 0, 0, 0, 0, 0, 0, 0, 0, 0, 0, 0],\n",
    "                        [0, 0, 0, 0, 0, 0, 1, 0, 0, 0, 0, 0, 0, 0, 0, 0, 0],\n",
    "                        [0, 0, 0, 0, 0, 0, 0, 1, 0, 0, 0, 0, 0, 0, 0, 0, 0],\n",
    "                        [0, 0, 0, 0, 0, 0, 0, 0, 1, 0, 0, 0, 0, 0, 0, 0, 0],\n",
    "                        [0, 0, 0, 0, 0, 0, 0, 0, 0, 1, 0, 0, 0, 0, 0, 0, 0],\n",
    "                        [0, 0, 0, 0, 0, 0, 0, 0, 0, 0, 0, 0, 0, 1, 0, 0, 0]])\n",
    "        \n",
    "        S = S_L if leg == \"left\" else S_R\n",
    "            \n",
    "        qddot_des, qdot_des, q_des = c1.get_q(t)\n",
    "        \n",
    "        \"\"\"TODO: add trajectory start and end points\"\"\"\n",
    "        Kd = np.eye((8))\n",
    "        Kp = np.eye((8))\n",
    "        \n",
    "        print(qddot_des.shape)\n",
    "        print((qdot_des - qdot).shape)\n",
    "        v = qddot_des + Kd@(qdot_des - qdot) + Kp@(q_des - q) \n",
    "\n",
    "        T = B@np.linalg.inv(S@np.linalg.inv(A_)@b_)@(v - S@np.linalg.inv(A_)@b_)\n",
    "            \n",
    "        return T\n",
    "        \n",
    "        \n",
    "    def rhs(self,t,z,leg):\n",
    "        self.M_temp = self.M_num(z[0],z[1],z[2],z[3],z[4],z[5],z[6],z[7],z[8],z[9],z[10])\n",
    "        self.B_temp = self.B_num(z[0],z[1],z[2],z[3],z[4],z[5],z[6],z[7],z[8],z[9],z[10],z[11],z[12],z[13],z[14],z[15],z[16],z[17],z[18],z[19],z[20],z[21])\n",
    "        \n",
    "        \n",
    "        self.Jdot_r_temp = self.Jdot_r_num(z[0],z[1],z[2],z[3],z[4],z[5],z[14],z[15],z[16],z[17],z[18],z[19],z[20],z[21])\n",
    "        self.Jdot_l_temp = self.Jdot_l_num(z[0],z[1],z[2],z[3],z[4],z[5],z[6],z[7],z[8],z[9],z[10],z[11],z[12],z[13])\n",
    "        self.J_l_temp = self.J_l_num(z[0],z[1],z[2],z[6],z[7],z[8],z[9])\n",
    "        self.J_r_temp = self.J_r_num(z[0],z[1],z[2],z[14],z[15],z[16],z[17])\n",
    "        \n",
    "        if leg == \"left\":\n",
    "            A = np.array([[M,        -self.J_l_temp.T],\n",
    "                          [self.J_l_temp, np.zeros(3)]\n",
    "                         ])\n",
    "            N = np.array([[self.get_T(t,leg,self.M_temp,self.B_temp) - self.B_temp],\n",
    "                         [-self.Jdot_l_temp@qdot]])\n",
    "            \n",
    "        elif leg == \"right\":\n",
    "            A = np.array([[M,        -self.J_r_temp.T],\n",
    "                          [self.J_r_temp, np.zeros(3)]\n",
    "                         ])\n",
    "            N = np.array([[self.get_T(t,leg,self.M_temp,self.B_temp) - self.B_temp],\n",
    "                          [-self.Jdot_r_temp@qdot]])\n",
    "        else:\n",
    "            print(\"ERROR: stance leg not set.\")\n",
    "            \n",
    "        zdot = np.linalg.inv(A)@N\n",
    "        print(zdot)\n",
    "        \n",
    "        return zdot\n",
    "    \n",
    "    \n",
    "    def one_step(self,z):\n",
    "        self.z = z\n",
    "        eqn = ode(self.rhs)\n",
    "        eqn.set_initial_value(self.z,0).set_f_params(leg)\n",
    "        dt = 0.01\n",
    "#         x_start = self.Z[-1][4] + self.l*np.sin(self.z[0])\n",
    "#         #y_start = self.l*np.sin(theta1)\n",
    "        while eqn.successful() and self.collision() and (self.t_end - eqn.t) > 0:\n",
    "            self.z = eqn.integrate(eqn.t+dt)\n",
    "            z_temp = np.concatenate(([self.z],[[x_start - self.l*np.sin(self.z[0]), self.l*np.cos(self.z[0])]]),axis=None)\n",
    "            self.Z = np.append(self.Z,[z_temp],axis=0)\n",
    "        \n",
    "        self.z = self.foot_strike()\n",
    "        return self.z\n",
    "        \n",
    "        \n",
    "    def foot_strike(self):\n",
    "        \n",
    "        A = np.array([[M, -J_sw],[J_sw,np.zeros(3)]])\n",
    "        \n",
    "        N = np.array([[J_st.T@P, M@z],np.zeros(14)])\n",
    "        \n",
    "        After_collision = np.linalg.inv(A)@N\n",
    "        \n",
    "        return After_collision\n",
    "    \n",
    "    def start_walker(self,steps,z):\n",
    "        i = 0 \n",
    "        self.z = z0\n",
    "        while (steps > i):\n",
    "            self.z = self.one_step(self.z)\n",
    "            i += 1\n",
    "        return self.z\n",
    "    \n",
    "h1 = Humanoid()\n",
    "# h1.get_T()\n",
    "h1.set_equations(M,B,J_r,J_l,Jdot_r,Jdot_l)\n",
    "h1.rhs(0,h1.Z0,leg=\"left\")"
   ]
  },
  {
   "cell_type": "code",
   "execution_count": 21,
   "id": "ce159719",
   "metadata": {
    "ExecuteTime": {
     "end_time": "2022-11-19T04:45:01.939971Z",
     "start_time": "2022-11-19T04:45:01.930743Z"
    }
   },
   "outputs": [],
   "source": [
    "class Animate():\n",
    "    def __init__(self,q):\n",
    "        self.axis = plt.axes(autoscale_on=False,xlim = (-0.5, 2),ylim = (-0.1, 2),zlim = ( -0.1,2)) \n",
    "        self.joint_data = q\n",
    "        self.head1, = self.axis.plot(0,0,0, marker='o') \n",
    "        self.stem1, = self.axis.plot([],[],[], lw = 2)\n",
    "        \n",
    "        self.kneer, = self.axis.plot(0,0,0, marker='o')\n",
    "        self.kneel, = self.axis.plot(0,0,0, marker='o')\n",
    "\n",
    "        self.body, = self.axis.plot([],[],[], lw = 2)\n",
    "    \n",
    "    def initiate(self):\n",
    "        self.head1.set_data([],[],[]) \n",
    "        self.stem1.set_data([],[],[])\n",
    "        \n",
    "        self.kneer.set_data([],[],[])\n",
    "        self.kneel.set_data([],[],[])\n",
    "        \n",
    "        self.body.set_data([],[],[])\n",
    "        \n",
    "        return self.head1,self.stem1,self.kneel,self.kneer,self.body\n",
    "    \n",
    "    def animate(self,i):\n",
    "        x,y,z,p,t,psi,plh, tlh, psilh, tlk,prh, trh, psirh, trk = self.joint_data[i]\n",
    "        \n",
    "        self.head_pos = P_h.subs(x,y,z,p,t,psid)\n",
    "        \n",
    "        self.head1.set_data(self.head_pos[0],selff.head_pos[1],self.head_pos[2])\n",
    "        \n",
    "        self.stem1.set_data([x, self.head_pos[0]],[y, self.head_pos[1]], [z, self.head_pos[2]])\n",
    "        \n",
    "        self.rhip_pos = P_rh.subs(x,y,z,p,t,psi,plh,prh, trh, psirh, trk)\n",
    "        self.rknee_pos = P_rk.subs(x,y,z,p,t,psi,plh,prh, trh, psirh, trk)\n",
    "        self.rankle_pos = P_ra.subs(x,y,z,p,t,psi,plh,prh, trh, psirh, trk)\n",
    "        \n",
    "        self.lhip_pos = P_lh.subs(x,y,z,p,t,psi,plh,plh, tlh, psilh, tlk)\n",
    "        self.lknee_pos = P_lk.subs(x,y,z,p,t,psi,plh,plh, tlh, psilh, tlk)\n",
    "        self.lankle_pos = P_la.subs(x,y,z,p,t,psi,plh,plh, tlh, psilh, tlk)\n",
    "        \n",
    "        self.body.set_data([self.rankle_pos[0],self.rknee_pos[0],self.rhip_pos[0],x,self.lhip_pos[0],self.lknee_pos[0],self.lankle_pos[0]],\n",
    "                          [self.rankle_pos[1],self.rknee_pos[1],self.rhip_pos[1],y,self.lhip_pos[1],self.lknee_pos[1],self.lankle_pos[1]],\n",
    "                          [self.rankle_pos[2],self.rknee_pos[2],self.rhip_pos[2],z,self.lhip_pos[2],self.lknee_pos[2],self.lankle_pos[2]])\n",
    "        \n",
    "        return self.head1, self.stem1, self.body,\n",
    "    \n",
    "    def save_video(file_name = \"3d_bipedal_walk\"):\n",
    "        anim = animation.FuncAnimation(self.fig, self.animate, init_func = self.initiate, \n",
    "                               frames = len(self.X_n)-1, interval = 10, blit = True) \n",
    "        anim.save(file_name, writer = 'ffmpeg', fps = 200)\n",
    "        \n",
    "        \n",
    "    "
   ]
  }
 ],
 "metadata": {
  "hide_input": false,
  "kernelspec": {
   "display_name": "Python 3 (ipykernel)",
   "language": "python",
   "name": "python3"
  },
  "language_info": {
   "codemirror_mode": {
    "name": "ipython",
    "version": 3
   },
   "file_extension": ".py",
   "mimetype": "text/x-python",
   "name": "python",
   "nbconvert_exporter": "python",
   "pygments_lexer": "ipython3",
   "version": "3.8.10"
  }
 },
 "nbformat": 4,
 "nbformat_minor": 5
}
