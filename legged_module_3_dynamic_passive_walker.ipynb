{
 "cells": [
  {
   "cell_type": "markdown",
   "metadata": {
    "colab_type": "text",
    "id": "view-in-github"
   },
   "source": [
    "<a href=\"https://colab.research.google.com/github/amit-420/legged_course/blob/main/legged_module_3_dynamic_passive_walker.ipynb\" target=\"_parent\"><img src=\"https://colab.research.google.com/assets/colab-badge.svg\" alt=\"Open In Colab\"/></a>"
   ]
  },
  {
   "cell_type": "code",
   "execution_count": 6,
   "metadata": {
    "ExecuteTime": {
     "end_time": "2021-11-08T04:58:23.281685Z",
     "start_time": "2021-11-08T04:58:21.954930Z"
    },
    "hide_input": false,
    "id": "61oMNpC3aFFt"
   },
   "outputs": [],
   "source": [
    "import numpy as np\n",
    "import sympy as sp\n",
    "import matplotlib.pylab as plt\n",
    "from scipy.integrate import solve_ivp\n",
    "import matplotlib.animation as animation \n",
    "import matplotlib.pyplot as plt \n",
    "from scipy.integrate import odeint,ode\n",
    "from scipy.optimize import fsolve"
   ]
  },
  {
   "cell_type": "code",
   "execution_count": 7,
   "metadata": {
    "ExecuteTime": {
     "end_time": "2021-11-08T04:58:23.332309Z",
     "start_time": "2021-11-08T04:58:23.286481Z"
    },
    "colab": {
     "base_uri": "https://localhost:8080/"
    },
    "hide_input": false,
    "id": "Q9i1sbOz7_As",
    "outputId": "a67d2505-30bd-4d31-caaf-793ddaf8b702"
   },
   "outputs": [],
   "source": [
    "import casadi as ca"
   ]
  },
  {
   "cell_type": "code",
   "execution_count": 8,
   "metadata": {
    "ExecuteTime": {
     "end_time": "2021-11-08T04:58:23.691880Z",
     "start_time": "2021-11-08T04:58:23.334891Z"
    },
    "code_folding": [],
    "colab": {
     "base_uri": "https://localhost:8080/",
     "height": 58
    },
    "hide_input": false,
    "id": "MPCR2QwNa1Vp",
    "outputId": "cdd41e06-0bbd-4d70-8599-05b54bcd8e8b"
   },
   "outputs": [
    {
     "data": {
      "text/latex": [
       "$\\displaystyle \\left[\\begin{matrix}x - \\left(- c + l\\right) \\sin{\\left(\\theta_{1} \\right)}\\\\y + \\left(- c + l\\right) \\cos{\\left(\\theta_{1} \\right)}\\end{matrix}\\right]$"
      ],
      "text/plain": [
       "Matrix([\n",
       "[x - (-c + l)*sin(theta1)],\n",
       "[y + (-c + l)*cos(theta1)]])"
      ]
     },
     "execution_count": 8,
     "metadata": {},
     "output_type": "execute_result"
    }
   ],
   "source": [
    "t1, t2, gamma, x, y, xdot,ydot, l, c, I, w1, w2, m, M = sp.symbols('theta1,theta2, gamma, x, y, xdot, ydot, l,c,I, omega1, omega2, m, M')\n",
    "\n",
    "g = sp.symbols('g')\n",
    "\n",
    "q = sp.Matrix([x,y,t1,t2])\n",
    "qdot = sp.Matrix([xdot,ydot,w1,w2])\n",
    "\n",
    "\n",
    "def i_1Ti(t,x,y):\n",
    "    return sp.Matrix([[sp.cos(t), -sp.sin(t), x],\n",
    "                     [sp.sin(t), sp.cos(t),   y],\n",
    "                     [0,        0,            1]])\n",
    "\n",
    "\n",
    "'''Finding Homogenious Transformation matrices'''\n",
    "Tg = i_1Ti(-gamma,0,0)\n",
    "T1 = i_1Ti((sp.pi/2) + t1,x,y)\n",
    "T2 = i_1Ti(t2 - sp.pi,l,0)\n",
    "\n",
    "\n",
    "\n",
    "''' position of leg 1 COM in ramp frame '''\n",
    "X0g1 = T1@sp.Matrix([l-c,0,1])     \n",
    "\n",
    "'''Position of hip in ramp frame '''\n",
    "X0h1 = T1@sp.Matrix([l,0,1])        \n",
    "\n",
    "''' position of leg2 COM in ramp frame '''\n",
    "X0g2 = T1@T2@sp.Matrix([c,0,1])     \n",
    "\n",
    "''' Position of end point of leg 2 in ramp frame '''\n",
    "X0c2 = T1@T2@sp.Matrix([l,0,1])     \n",
    "\n",
    "\n",
    "\n",
    "''' position in ground frame '''\n",
    "Xgg1 = Tg @ X0g1\n",
    "\n",
    "Xgh1 = Tg @ X0h1\n",
    "\n",
    "Xgg2 = Tg @ X0g2\n",
    "\n",
    "Xgc2 = Tg @ X0c2\n",
    "\n",
    "\n",
    "\n",
    "X0g1 = sp.Matrix(X0g1[0:2])\n",
    "\n",
    "X0h1 = sp.Matrix(X0h1[0:2])\n",
    "\n",
    "X0g2 = sp.Matrix(X0g2[0:2])\n",
    "\n",
    "X0c2 = sp.Matrix(X0c2[0:2])\n",
    "\n",
    "X0g1"
   ]
  },
  {
   "cell_type": "code",
   "execution_count": 9,
   "metadata": {
    "ExecuteTime": {
     "end_time": "2021-11-08T04:58:23.702204Z",
     "start_time": "2021-11-08T04:58:23.694398Z"
    },
    "colab": {
     "base_uri": "https://localhost:8080/",
     "height": 58
    },
    "id": "4N2xo4uFGoxT",
    "outputId": "c690a7a9-9d3d-4066-f47d-2c6aba40c8b7"
   },
   "outputs": [
    {
     "data": {
      "text/latex": [
       "$\\displaystyle \\left[\\begin{matrix}c \\left(\\sin{\\left(\\theta_{1} \\right)} \\cos{\\left(\\theta_{2} \\right)} + \\sin{\\left(\\theta_{2} \\right)} \\cos{\\left(\\theta_{1} \\right)}\\right) - l \\sin{\\left(\\theta_{1} \\right)} + x\\\\c \\left(\\sin{\\left(\\theta_{1} \\right)} \\sin{\\left(\\theta_{2} \\right)} - \\cos{\\left(\\theta_{1} \\right)} \\cos{\\left(\\theta_{2} \\right)}\\right) + l \\cos{\\left(\\theta_{1} \\right)} + y\\end{matrix}\\right]$"
      ],
      "text/plain": [
       "Matrix([\n",
       "[c*(sin(theta1)*cos(theta2) + sin(theta2)*cos(theta1)) - l*sin(theta1) + x],\n",
       "[c*(sin(theta1)*sin(theta2) - cos(theta1)*cos(theta2)) + l*cos(theta1) + y]])"
      ]
     },
     "execution_count": 9,
     "metadata": {},
     "output_type": "execute_result"
    }
   ],
   "source": [
    "X0g2"
   ]
  },
  {
   "cell_type": "code",
   "execution_count": 10,
   "metadata": {
    "ExecuteTime": {
     "end_time": "2021-11-08T04:58:23.891188Z",
     "start_time": "2021-11-08T04:58:23.703894Z"
    },
    "colab": {
     "base_uri": "https://localhost:8080/",
     "height": 58
    },
    "id": "eK_oyNzotG_l",
    "outputId": "0ed29eb6-82ae-4ec9-b03f-e41ec1e70283"
   },
   "outputs": [
    {
     "data": {
      "text/latex": [
       "$\\displaystyle \\left[\\begin{matrix}- l \\sin{\\left(\\theta_{1} \\right)} + l \\sin{\\left(\\theta_{1} + \\theta_{2} \\right)} + x\\\\l \\cos{\\left(\\theta_{1} \\right)} - l \\cos{\\left(\\theta_{1} + \\theta_{2} \\right)} + y\\end{matrix}\\right]$"
      ],
      "text/plain": [
       "Matrix([\n",
       "[-l*sin(theta1) + l*sin(theta1 + theta2) + x],\n",
       "[ l*cos(theta1) - l*cos(theta1 + theta2) + y]])"
      ]
     },
     "execution_count": 10,
     "metadata": {},
     "output_type": "execute_result"
    }
   ],
   "source": [
    "sp.simplify(X0c2)"
   ]
  },
  {
   "cell_type": "code",
   "execution_count": 11,
   "metadata": {
    "ExecuteTime": {
     "end_time": "2021-11-08T04:58:23.899446Z",
     "start_time": "2021-11-08T04:58:23.892995Z"
    }
   },
   "outputs": [
    {
     "data": {
      "text/latex": [
       "$\\displaystyle \\left[\\begin{matrix}- l \\sin{\\left(\\theta_{1} \\right)} + x\\\\l \\cos{\\left(\\theta_{1} \\right)} + y\\end{matrix}\\right]$"
      ],
      "text/plain": [
       "Matrix([\n",
       "[-l*sin(theta1) + x],\n",
       "[ l*cos(theta1) + y]])"
      ]
     },
     "execution_count": 11,
     "metadata": {},
     "output_type": "execute_result"
    }
   ],
   "source": [
    "X0h1"
   ]
  },
  {
   "cell_type": "code",
   "execution_count": 12,
   "metadata": {
    "ExecuteTime": {
     "end_time": "2021-11-08T04:58:23.935696Z",
     "start_time": "2021-11-08T04:58:23.901048Z"
    },
    "colab": {
     "base_uri": "https://localhost:8080/",
     "height": 58
    },
    "id": "tLnXKdsSrW0_",
    "outputId": "a12778f1-2f43-4cf7-ae42-7446f7ff020f"
   },
   "outputs": [
    {
     "data": {
      "text/latex": [
       "$\\displaystyle \\left[\\begin{matrix}- l \\omega_{1} \\cos{\\left(\\theta_{1} \\right)} + \\dot{x}\\\\- l \\omega_{1} \\sin{\\left(\\theta_{1} \\right)} + \\dot{y}\\end{matrix}\\right]$"
      ],
      "text/plain": [
       "Matrix([\n",
       "[-l*omega1*cos(theta1) + xdot],\n",
       "[-l*omega1*sin(theta1) + ydot]])"
      ]
     },
     "execution_count": 12,
     "metadata": {},
     "output_type": "execute_result"
    }
   ],
   "source": [
    "Vh = X0h1.jacobian(q)@sp.Matrix(qdot)\n",
    "Vg1 = X0g1.jacobian(q)@sp.Matrix(qdot)\n",
    "Vg2 = X0g2.jacobian(q)@sp.Matrix(qdot)\n",
    "Vh"
   ]
  },
  {
   "cell_type": "code",
   "execution_count": 13,
   "metadata": {
    "ExecuteTime": {
     "end_time": "2021-11-08T04:58:23.945069Z",
     "start_time": "2021-11-08T04:58:23.937006Z"
    },
    "colab": {
     "base_uri": "https://localhost:8080/",
     "height": 58
    },
    "id": "jmYvBJ9PrHIm",
    "outputId": "17f0c175-3b84-4c29-a405-cbc1655c6a5b"
   },
   "outputs": [
    {
     "data": {
      "text/latex": [
       "$\\displaystyle \\left[\\begin{matrix}\\omega_{1} \\left(c - l\\right) \\cos{\\left(\\theta_{1} \\right)} + \\dot{x}\\\\- \\omega_{1} \\left(- c + l\\right) \\sin{\\left(\\theta_{1} \\right)} + \\dot{y}\\end{matrix}\\right]$"
      ],
      "text/plain": [
       "Matrix([\n",
       "[  omega1*(c - l)*cos(theta1) + xdot],\n",
       "[-omega1*(-c + l)*sin(theta1) + ydot]])"
      ]
     },
     "execution_count": 13,
     "metadata": {},
     "output_type": "execute_result"
    }
   ],
   "source": [
    "Vg1"
   ]
  },
  {
   "cell_type": "code",
   "execution_count": 14,
   "metadata": {
    "ExecuteTime": {
     "end_time": "2021-11-08T04:58:23.959019Z",
     "start_time": "2021-11-08T04:58:23.946743Z"
    }
   },
   "outputs": [
    {
     "data": {
      "text/latex": [
       "$\\displaystyle \\left[\\begin{matrix}c \\omega_{2} \\left(- \\sin{\\left(\\theta_{1} \\right)} \\sin{\\left(\\theta_{2} \\right)} + \\cos{\\left(\\theta_{1} \\right)} \\cos{\\left(\\theta_{2} \\right)}\\right) + \\omega_{1} \\left(c \\left(- \\sin{\\left(\\theta_{1} \\right)} \\sin{\\left(\\theta_{2} \\right)} + \\cos{\\left(\\theta_{1} \\right)} \\cos{\\left(\\theta_{2} \\right)}\\right) - l \\cos{\\left(\\theta_{1} \\right)}\\right) + \\dot{x}\\\\c \\omega_{2} \\left(\\sin{\\left(\\theta_{1} \\right)} \\cos{\\left(\\theta_{2} \\right)} + \\sin{\\left(\\theta_{2} \\right)} \\cos{\\left(\\theta_{1} \\right)}\\right) + \\omega_{1} \\left(c \\left(\\sin{\\left(\\theta_{1} \\right)} \\cos{\\left(\\theta_{2} \\right)} + \\sin{\\left(\\theta_{2} \\right)} \\cos{\\left(\\theta_{1} \\right)}\\right) - l \\sin{\\left(\\theta_{1} \\right)}\\right) + \\dot{y}\\end{matrix}\\right]$"
      ],
      "text/plain": [
       "Matrix([\n",
       "[c*omega2*(-sin(theta1)*sin(theta2) + cos(theta1)*cos(theta2)) + omega1*(c*(-sin(theta1)*sin(theta2) + cos(theta1)*cos(theta2)) - l*cos(theta1)) + xdot],\n",
       "[  c*omega2*(sin(theta1)*cos(theta2) + sin(theta2)*cos(theta1)) + omega1*(c*(sin(theta1)*cos(theta2) + sin(theta2)*cos(theta1)) - l*sin(theta1)) + ydot]])"
      ]
     },
     "execution_count": 14,
     "metadata": {},
     "output_type": "execute_result"
    }
   ],
   "source": [
    "Vg2"
   ]
  },
  {
   "cell_type": "code",
   "execution_count": 15,
   "metadata": {
    "ExecuteTime": {
     "end_time": "2021-11-08T04:58:31.358766Z",
     "start_time": "2021-11-08T04:58:23.962303Z"
    },
    "colab": {
     "base_uri": "https://localhost:8080/",
     "height": 90
    },
    "id": "nfif_nwZDL1w",
    "outputId": "da818474-3e2f-4b4f-92dc-993aa84f836b"
   },
   "outputs": [
    {
     "data": {
      "text/latex": [
       "$\\displaystyle 0.5 I \\omega_{1}^{2} + 0.5 I \\left(\\omega_{1} + \\omega_{2}\\right)^{2} + 0.5 M \\left(\\left(l \\omega_{1} \\sin{\\left(\\theta_{1} \\right)} - \\dot{y}\\right)^{2} + \\left(l \\omega_{1} \\cos{\\left(\\theta_{1} \\right)} - \\dot{x}\\right)^{2}\\right) + 0.5 m \\left(\\left(\\omega_{1} \\left(c - l\\right) \\sin{\\left(\\theta_{1} \\right)} + \\dot{y}\\right)^{2} + \\left(\\omega_{1} \\left(c - l\\right) \\cos{\\left(\\theta_{1} \\right)} + \\dot{x}\\right)^{2}\\right) + 0.5 m \\left(\\left(c \\omega_{2} \\sin{\\left(\\theta_{1} + \\theta_{2} \\right)} + \\omega_{1} \\left(c \\sin{\\left(\\theta_{1} + \\theta_{2} \\right)} - l \\sin{\\left(\\theta_{1} \\right)}\\right) + \\dot{y}\\right)^{2} + \\left(- c \\omega_{2} \\cos{\\left(\\theta_{1} + \\theta_{2} \\right)} + \\omega_{1} \\left(- c \\cos{\\left(\\theta_{1} + \\theta_{2} \\right)} + l \\cos{\\left(\\theta_{1} \\right)}\\right) - \\dot{x}\\right)^{2}\\right)$"
      ],
      "text/plain": [
       "0.5*I*omega1**2 + 0.5*I*(omega1 + omega2)**2 + 0.5*M*((l*omega1*sin(theta1) - ydot)**2 + (l*omega1*cos(theta1) - xdot)**2) + 0.5*m*((omega1*(c - l)*sin(theta1) + ydot)**2 + (omega1*(c - l)*cos(theta1) + xdot)**2) + 0.5*m*((c*omega2*sin(theta1 + theta2) + omega1*(c*sin(theta1 + theta2) - l*sin(theta1)) + ydot)**2 + (-c*omega2*cos(theta1 + theta2) + omega1*(-c*cos(theta1 + theta2) + l*cos(theta1)) - xdot)**2)"
      ]
     },
     "execution_count": 15,
     "metadata": {},
     "output_type": "execute_result"
    }
   ],
   "source": [
    "T = sp.simplify((0.5 *m * ( Vg1.T @ Vg1))[0] + (0.5 *m * ( Vg2.T @ Vg2) )[0] + (0.5 * M * ( Vh.T @ Vh) )[0] + 0.5*I*w1**2 + 0.5*I*(w1+w2)**2)\n",
    "T"
   ]
  },
  {
   "cell_type": "code",
   "execution_count": 16,
   "metadata": {
    "ExecuteTime": {
     "end_time": "2021-11-08T04:58:33.108506Z",
     "start_time": "2021-11-08T04:58:31.360472Z"
    },
    "colab": {
     "base_uri": "https://localhost:8080/",
     "height": 38
    },
    "id": "9GLzdhseGfg5",
    "outputId": "6f00976c-795e-4ceb-f90e-b4eefc7cf1ed"
   },
   "outputs": [
    {
     "data": {
      "text/latex": [
       "$\\displaystyle g \\left(M l \\cos{\\left(\\gamma - \\theta_{1} \\right)} - M x \\sin{\\left(\\gamma \\right)} + M y \\cos{\\left(\\gamma \\right)} - c m \\cos{\\left(\\gamma - \\theta_{1} \\right)} - c m \\cos{\\left(- \\gamma + \\theta_{1} + \\theta_{2} \\right)} + 2 l m \\cos{\\left(\\gamma - \\theta_{1} \\right)} - 2 m x \\sin{\\left(\\gamma \\right)} + 2 m y \\cos{\\left(\\gamma \\right)}\\right)$"
      ],
      "text/plain": [
       "g*(M*l*cos(gamma - theta1) - M*x*sin(gamma) + M*y*cos(gamma) - c*m*cos(gamma - theta1) - c*m*cos(-gamma + theta1 + theta2) + 2*l*m*cos(gamma - theta1) - 2*m*x*sin(gamma) + 2*m*y*cos(gamma))"
      ]
     },
     "execution_count": 16,
     "metadata": {},
     "output_type": "execute_result"
    }
   ],
   "source": [
    "V = sp.simplify(m*g*Xgg1[1] + m*g*Xgg2[1] + M*g*Xgh1[1])\n",
    "V"
   ]
  },
  {
   "cell_type": "code",
   "execution_count": 17,
   "metadata": {
    "ExecuteTime": {
     "end_time": "2021-11-08T04:58:41.313416Z",
     "start_time": "2021-11-08T04:58:33.112024Z"
    },
    "colab": {
     "base_uri": "https://localhost:8080/",
     "height": 111
    },
    "id": "xq5164fOHnTA",
    "outputId": "a496757f-e42b-488a-9cf3-246fb29640c1"
   },
   "outputs": [
    {
     "data": {
      "text/latex": [
       "$\\displaystyle 0.5 I \\omega_{1}^{2} + 0.5 I \\left(\\omega_{1} + \\omega_{2}\\right)^{2} + 0.5 M \\left(\\left(l \\omega_{1} \\sin{\\left(\\theta_{1} \\right)} - \\dot{y}\\right)^{2} + \\left(l \\omega_{1} \\cos{\\left(\\theta_{1} \\right)} - \\dot{x}\\right)^{2}\\right) - g \\left(M l \\cos{\\left(\\gamma - \\theta_{1} \\right)} - M x \\sin{\\left(\\gamma \\right)} + M y \\cos{\\left(\\gamma \\right)} - c m \\cos{\\left(\\gamma - \\theta_{1} \\right)} - c m \\cos{\\left(- \\gamma + \\theta_{1} + \\theta_{2} \\right)} + 2 l m \\cos{\\left(\\gamma - \\theta_{1} \\right)} - 2 m x \\sin{\\left(\\gamma \\right)} + 2 m y \\cos{\\left(\\gamma \\right)}\\right) + 0.5 m \\left(\\left(\\omega_{1} \\left(c - l\\right) \\sin{\\left(\\theta_{1} \\right)} + \\dot{y}\\right)^{2} + \\left(\\omega_{1} \\left(c - l\\right) \\cos{\\left(\\theta_{1} \\right)} + \\dot{x}\\right)^{2}\\right) + 0.5 m \\left(\\left(c \\omega_{2} \\sin{\\left(\\theta_{1} + \\theta_{2} \\right)} + \\omega_{1} \\left(c \\sin{\\left(\\theta_{1} + \\theta_{2} \\right)} - l \\sin{\\left(\\theta_{1} \\right)}\\right) + \\dot{y}\\right)^{2} + \\left(c \\omega_{2} \\cos{\\left(\\theta_{1} + \\theta_{2} \\right)} + \\omega_{1} \\left(c \\cos{\\left(\\theta_{1} + \\theta_{2} \\right)} - l \\cos{\\left(\\theta_{1} \\right)}\\right) + \\dot{x}\\right)^{2}\\right)$"
      ],
      "text/plain": [
       "0.5*I*omega1**2 + 0.5*I*(omega1 + omega2)**2 + 0.5*M*((l*omega1*sin(theta1) - ydot)**2 + (l*omega1*cos(theta1) - xdot)**2) - g*(M*l*cos(gamma - theta1) - M*x*sin(gamma) + M*y*cos(gamma) - c*m*cos(gamma - theta1) - c*m*cos(-gamma + theta1 + theta2) + 2*l*m*cos(gamma - theta1) - 2*m*x*sin(gamma) + 2*m*y*cos(gamma)) + 0.5*m*((omega1*(c - l)*sin(theta1) + ydot)**2 + (omega1*(c - l)*cos(theta1) + xdot)**2) + 0.5*m*((c*omega2*sin(theta1 + theta2) + omega1*(c*sin(theta1 + theta2) - l*sin(theta1)) + ydot)**2 + (c*omega2*cos(theta1 + theta2) + omega1*(c*cos(theta1 + theta2) - l*cos(theta1)) + xdot)**2)"
      ]
     },
     "execution_count": 17,
     "metadata": {},
     "output_type": "execute_result"
    }
   ],
   "source": [
    "L = sp.simplify(T - V)\n",
    "L"
   ]
  },
  {
   "cell_type": "code",
   "execution_count": 18,
   "metadata": {
    "ExecuteTime": {
     "end_time": "2021-11-08T04:58:41.412795Z",
     "start_time": "2021-11-08T04:58:41.315310Z"
    },
    "colab": {
     "base_uri": "https://localhost:8080/",
     "height": 78
    },
    "id": "pX8pXqXEHtDA",
    "outputId": "bfb81ae1-9731-4242-bae3-6822f7491dbb"
   },
   "outputs": [
    {
     "data": {
      "text/plain": [
       "(4, 1)"
      ]
     },
     "execution_count": 18,
     "metadata": {},
     "output_type": "execute_result"
    }
   ],
   "source": [
    "dLdq = sp.diff(L,q)\n",
    "dLdq.shape"
   ]
  },
  {
   "cell_type": "code",
   "execution_count": 19,
   "metadata": {
    "ExecuteTime": {
     "end_time": "2021-11-08T04:58:41.484791Z",
     "start_time": "2021-11-08T04:58:41.416272Z"
    },
    "colab": {
     "base_uri": "https://localhost:8080/",
     "height": 78
    },
    "id": "UuTdHWW9LNQK",
    "outputId": "0cf9955a-9f32-4ab1-d24f-d6e56273ebef"
   },
   "outputs": [
    {
     "data": {
      "text/plain": [
       "(4, 1)"
      ]
     },
     "execution_count": 19,
     "metadata": {},
     "output_type": "execute_result"
    }
   ],
   "source": [
    "dLdqdot = sp.diff(L,qdot)\n",
    "dLdqdot.shape"
   ]
  },
  {
   "cell_type": "code",
   "execution_count": 20,
   "metadata": {
    "ExecuteTime": {
     "end_time": "2021-11-08T04:58:41.492140Z",
     "start_time": "2021-11-08T04:58:41.486277Z"
    },
    "colab": {
     "base_uri": "https://localhost:8080/",
     "height": 58
    },
    "id": "EqiR7lGvNJoc",
    "outputId": "1832a198-52de-46df-d623-5b27df71c611"
   },
   "outputs": [
    {
     "data": {
      "text/latex": [
       "$\\displaystyle \\left[\\begin{matrix}\\ddot{x}\\\\\\ddot{y}\\\\\\dot{\\omega}_{1}\\\\\\dot{\\omega}_{2}\\end{matrix}\\right]$"
      ],
      "text/plain": [
       "Matrix([\n",
       "[    xddot],\n",
       "[    yddot],\n",
       "[omegadot1],\n",
       "[omegadot2]])"
      ]
     },
     "execution_count": 20,
     "metadata": {},
     "output_type": "execute_result"
    }
   ],
   "source": [
    "xddot,yddot,w1dot, w2dot = sp.symbols('xddot,yddot,omegadot1, omegadot2')\n",
    "qddot = sp.Matrix([xddot, yddot, w1dot,w2dot])\n",
    "#qddot = qddot.subs({xddot:0,yddot:0})\n",
    "qddot"
   ]
  },
  {
   "cell_type": "code",
   "execution_count": 21,
   "metadata": {
    "ExecuteTime": {
     "end_time": "2021-11-08T04:58:41.719423Z",
     "start_time": "2021-11-08T04:58:41.494141Z"
    },
    "colab": {
     "base_uri": "https://localhost:8080/",
     "height": 88
    },
    "id": "7FPCQ6-JLrzb",
    "outputId": "b2e9dfaf-e79c-48a9-dffd-e7b9a241c91f"
   },
   "outputs": [
    {
     "data": {
      "text/plain": [
       "(4, 1)"
      ]
     },
     "execution_count": 21,
     "metadata": {},
     "output_type": "execute_result"
    }
   ],
   "source": [
    "ddt_dLdqdot = sp.Matrix([sp.diff(dLdqdot[0],qdot).T,sp.diff(dLdqdot[1],qdot).T,\n",
    "                         sp.diff(dLdqdot[2],qdot).T,\n",
    "                         sp.diff(dLdqdot[3],qdot).T])@qddot + sp.Matrix([sp.diff(dLdqdot[0],q).T,\n",
    "                         sp.diff(dLdqdot[1],q).T,\n",
    "                         sp.diff(dLdqdot[2],q).T,\n",
    "                         sp.diff(dLdqdot[3],q).T])@qdot\n",
    "ddt_dLdqdot.shape"
   ]
  },
  {
   "cell_type": "code",
   "execution_count": 22,
   "metadata": {
    "ExecuteTime": {
     "end_time": "2021-11-08T04:58:41.729011Z",
     "start_time": "2021-11-08T04:58:41.722004Z"
    },
    "colab": {
     "base_uri": "https://localhost:8080/",
     "height": 88
    },
    "id": "SaXLZJyN6dR2",
    "outputId": "bd6f9dc8-175f-48e0-910f-bcc3aeb35bf9"
   },
   "outputs": [
    {
     "data": {
      "text/plain": [
       "(4, 1)"
      ]
     },
     "execution_count": 22,
     "metadata": {},
     "output_type": "execute_result"
    }
   ],
   "source": [
    "eom = ddt_dLdqdot - dLdq\n",
    "eom.shape"
   ]
  },
  {
   "cell_type": "code",
   "execution_count": 23,
   "metadata": {
    "ExecuteTime": {
     "end_time": "2021-11-08T04:58:45.656628Z",
     "start_time": "2021-11-08T04:58:41.731866Z"
    },
    "colab": {
     "base_uri": "https://localhost:8080/",
     "height": 78
    },
    "id": "c9DAnc_ZW7ud",
    "outputId": "e4b6d700-eaf5-491f-ad26-12e7a9ad19b6"
   },
   "outputs": [
    {
     "data": {
      "text/latex": [
       "$\\displaystyle \\left[\\begin{matrix}- 1.0 c m \\omega_{2} \\left(\\omega_{1} + \\omega_{2}\\right) \\sin{\\left(\\theta_{1} + \\theta_{2} \\right)} - g \\left(M + 2 m\\right) \\sin{\\left(\\gamma \\right)} - \\omega_{1} \\left(- 1.0 M l \\omega_{1} \\sin{\\left(\\theta_{1} \\right)} + 1.0 m \\omega_{1} \\left(c - l\\right) \\sin{\\left(\\theta_{1} \\right)} + m \\left(c \\omega_{2} \\sin{\\left(\\theta_{1} + \\theta_{2} \\right)} + \\omega_{1} \\left(c \\sin{\\left(\\theta_{1} + \\theta_{2} \\right)} - l \\sin{\\left(\\theta_{1} \\right)}\\right)\\right)\\right)\\\\c m \\omega_{2} \\left(\\omega_{1} + \\omega_{2}\\right) \\cos{\\left(\\theta_{1} + \\theta_{2} \\right)} + g \\left(M + 2 m\\right) \\cos{\\left(\\gamma \\right)} + \\omega_{1} \\left(- 1.0 M l \\omega_{1} \\cos{\\left(\\theta_{1} \\right)} + 1.0 m \\omega_{1} \\left(c - l\\right) \\cos{\\left(\\theta_{1} \\right)} + m \\left(c \\omega_{2} \\cos{\\left(\\theta_{1} + \\theta_{2} \\right)} + \\omega_{1} \\left(c \\cos{\\left(\\theta_{1} + \\theta_{2} \\right)} - l \\cos{\\left(\\theta_{1} \\right)}\\right)\\right)\\right)\\\\M g l \\sin{\\left(\\gamma - \\theta_{1} \\right)} - c g m \\sin{\\left(\\gamma - \\theta_{1} \\right)} + c g m \\sin{\\left(- \\gamma + \\theta_{1} + \\theta_{2} \\right)} + 2 c l m \\omega_{1} \\omega_{2} \\sin{\\left(\\theta_{2} \\right)} + c l m \\omega_{2}^{2} \\sin{\\left(\\theta_{2} \\right)} + 2 g l m \\sin{\\left(\\gamma - \\theta_{1} \\right)}\\\\c m \\left(g \\sin{\\left(- \\gamma + \\theta_{1} + \\theta_{2} \\right)} - l \\omega_{1}^{2} \\sin{\\left(\\theta_{2} \\right)}\\right)\\end{matrix}\\right]$"
      ],
      "text/plain": [
       "Matrix([\n",
       "[-1.0*c*m*omega2*(omega1 + omega2)*sin(theta1 + theta2) - g*(M + 2*m)*sin(gamma) - omega1*(-1.0*M*l*omega1*sin(theta1) + 1.0*m*omega1*(c - l)*sin(theta1) + m*(c*omega2*sin(theta1 + theta2) + omega1*(c*sin(theta1 + theta2) - l*sin(theta1))))],\n",
       "[     c*m*omega2*(omega1 + omega2)*cos(theta1 + theta2) + g*(M + 2*m)*cos(gamma) + omega1*(-1.0*M*l*omega1*cos(theta1) + 1.0*m*omega1*(c - l)*cos(theta1) + m*(c*omega2*cos(theta1 + theta2) + omega1*(c*cos(theta1 + theta2) - l*cos(theta1))))],\n",
       "[                                                    M*g*l*sin(gamma - theta1) - c*g*m*sin(gamma - theta1) + c*g*m*sin(-gamma + theta1 + theta2) + 2*c*l*m*omega1*omega2*sin(theta2) + c*l*m*omega2**2*sin(theta2) + 2*g*l*m*sin(gamma - theta1)],\n",
       "[                                                                                                                                                                                c*m*(g*sin(-gamma + theta1 + theta2) - l*omega1**2*sin(theta2))]])"
      ]
     },
     "execution_count": 23,
     "metadata": {},
     "output_type": "execute_result"
    }
   ],
   "source": [
    "B = sp.simplify(eom.subs({w1dot:0,w2dot:0, xddot: 0,yddot: 0}))\n",
    "B"
   ]
  },
  {
   "cell_type": "code",
   "execution_count": 24,
   "metadata": {
    "ExecuteTime": {
     "end_time": "2021-11-08T04:58:47.381209Z",
     "start_time": "2021-11-08T04:58:45.658538Z"
    },
    "colab": {
     "base_uri": "https://localhost:8080/",
     "height": 88
    },
    "id": "rLqjnO4OQgZB",
    "outputId": "add2f8ac-d473-4d89-bf03-c4acb37b45b1"
   },
   "outputs": [
    {
     "data": {
      "text/plain": [
       "(4, 4)"
      ]
     },
     "execution_count": 24,
     "metadata": {},
     "output_type": "execute_result"
    }
   ],
   "source": [
    "Mass_m = sp.simplify(eom.jacobian(qddot))\n",
    "Mass_m.shape"
   ]
  },
  {
   "cell_type": "code",
   "execution_count": 25,
   "metadata": {
    "ExecuteTime": {
     "end_time": "2021-11-08T04:58:47.400557Z",
     "start_time": "2021-11-08T04:58:47.382858Z"
    },
    "colab": {
     "base_uri": "https://localhost:8080/",
     "height": 58
    },
    "id": "WBtq1ulmXvhh",
    "outputId": "375110cf-98c7-4eb4-dc11-735dd28583cd"
   },
   "outputs": [
    {
     "data": {
      "text/plain": [
       "(4, 1)"
      ]
     },
     "execution_count": 25,
     "metadata": {},
     "output_type": "execute_result"
    }
   ],
   "source": [
    "G = B.subs({w1:0,w2:0})\n",
    "G.shape"
   ]
  },
  {
   "cell_type": "code",
   "execution_count": 26,
   "metadata": {
    "ExecuteTime": {
     "end_time": "2021-11-08T04:58:47.409049Z",
     "start_time": "2021-11-08T04:58:47.402070Z"
    },
    "colab": {
     "base_uri": "https://localhost:8080/",
     "height": 78
    },
    "id": "ImCH-vP3D-xK",
    "outputId": "95542d78-b4e2-406c-f4ff-ecaec2b892a1"
   },
   "outputs": [
    {
     "data": {
      "text/plain": [
       "(4, 1)"
      ]
     },
     "execution_count": 26,
     "metadata": {},
     "output_type": "execute_result"
    }
   ],
   "source": [
    "C = B - G\n",
    "C.shape"
   ]
  },
  {
   "cell_type": "code",
   "execution_count": 27,
   "metadata": {
    "ExecuteTime": {
     "end_time": "2021-11-08T09:51:45.330489Z",
     "start_time": "2021-11-08T09:51:45.244475Z"
    },
    "code_folding": [
     23
    ],
    "id": "TmBuJ7dIaMbw"
   },
   "outputs": [
    {
     "name": "stdout",
     "output_type": "stream",
     "text": [
      "514\n"
     ]
    }
   ],
   "source": [
    "class passive_dynamic_walker():\n",
    "    def __init__(self,m= 0.5,M = 1, I = 0.1, c = 0.5, l = 1, g = 1, gamma = 0.01):\n",
    "        self.m = m\n",
    "        self.M = M\n",
    "        self.I = I\n",
    "        self.c = c\n",
    "        self.l = l\n",
    "        self.g = g\n",
    "        self.gamma = gamma\n",
    "        self.z = np.array([0.16,-0.32,-0.239,0.38])\n",
    "#         self.z = np.array([0.162597833780041, -0.325195667560083, -0.231869638058930, 0.037978468073743])#np.array([ 0.162597833780041, -0.231869638058930,  -0.325195667560083   0.037978468073743]) ## [theta1,theta2,omega1,omega2]\n",
    "        self.T = np.array([[0, 0]]).T\n",
    "        self.Z = np.array([np.concatenate((self.z,np.array([0,0])))])\n",
    "        self.t_end = 4\n",
    "\n",
    "    def set_equations(self,Mass_m,C,G,B):\n",
    "        \n",
    "        Mass_m = Mass_m.subs({l:self.l, c:self.c, I:self.I, m:0.5, M:self.M})\n",
    "        B = B.subs({l:self.l, c:self.c, I:self.I, m:0.5, M:self.M, gamma: self.gamma,g:self.g})\n",
    "        \n",
    "        self.Mass_m = sp.lambdify([t1, t2],Mass_m)\n",
    "        self.B = sp.lambdify([t1, t2, w1, w2],B)\n",
    "    \n",
    "    def get_T(self,z):\n",
    "        return np.array([[0,0]]).T \n",
    "\n",
    "    def single_stance(self,t,z):\n",
    "        '''\n",
    "        Finding zdot numerically\n",
    "\n",
    "        wdot =  M_inv * (T - C - G)\n",
    "        '''\n",
    "        M34 = np.array([[self.Mass_m(z[0],z[1])[2][2],self.Mass_m(z[0],z[1])[2][3]],\n",
    "                        [self.Mass_m(z[0],z[1])[3][2],self.Mass_m(z[0],z[1])[3][3]]])\n",
    "#         print(M34)\n",
    "        wdot = np.linalg.inv(M34)@np.array(self.get_T(z) - self.B(z[0],z[1],z[2],z[3])[2:4])\n",
    "        \n",
    "        return np.array([z[2],z[3],wdot[0][0],wdot[1][0]],dtype=object)\n",
    "\n",
    "        \n",
    "    def one_step(self,z):\n",
    "        self.z = z\n",
    "        eqn = ode(self.single_stance)\n",
    "        eqn.set_initial_value(self.z,0)\n",
    "        dt = 0.01\n",
    "        x_start = self.Z[-1][4] + self.l*np.sin(self.z[0])\n",
    "        #y_start = self.l*np.sin(theta1)\n",
    "        while eqn.successful() and self.collision() and (self.t_end - eqn.t) > 0:\n",
    "            self.z = eqn.integrate(eqn.t+dt)\n",
    "            z_temp = np.concatenate(([self.z],[[x_start - self.l*np.sin(self.z[0]), self.l*np.cos(self.z[0])]]),axis=None)\n",
    "            self.Z = np.append(self.Z,[z_temp],axis=0)\n",
    "        \n",
    "        self.z = self.foot_strike()\n",
    "        return self.z\n",
    "        \n",
    "        \n",
    "    def foot_strike(self):\n",
    "        z = self.Z[-1]\n",
    "        Jc2 = X0c2.jacobian(q)\n",
    "        Jc2 = Jc2.subs({l:self.l})\n",
    "        Jc2 = sp.lambdify([t1, t2],Jc2)\n",
    "        Jc2 = Jc2(z[0],z[1])\n",
    "        X_n_hs = np.array([0,0,z[2],z[3]])\n",
    "        A_mm = np.concatenate((np.concatenate((self.Mass_m(z[0],z[1]),-1*Jc2.T),axis=1),np.concatenate((Jc2,np.zeros((2,2))),axis=1)),axis=0)\n",
    "        \n",
    "        b_hs = np.concatenate(([self.Mass_m(z[0],z[1])@X_n_hs],np.zeros((1,2))), axis=None)\n",
    "        \n",
    "        Next_X = np.linalg.inv(A_mm)@b_hs\n",
    "        \n",
    "        return np.array([z[0] + z[1] ,-z[1],Next_X[2]+ Next_X[3],-Next_X[3]])\n",
    "        \n",
    "    def collision(self):\n",
    "        \n",
    "        if abs(self.z[1] + 2*self.z[0]) < 0.01:\n",
    "            \n",
    "            if self.z[0]  > -0.05:\n",
    "                return True\n",
    "            else:\n",
    "                return False\n",
    "        else:\n",
    "            return True\n",
    "        \n",
    "        \n",
    "    def start_walker(self,steps,z):\n",
    "        i = 0\n",
    "        self.z = z\n",
    "        while (steps > i):\n",
    "            self.z = self.one_step(self.z)\n",
    "            i += 1\n",
    "        return self.z\n",
    "        \n",
    "        \n",
    "p1 = passive_dynamic_walker()\n",
    "\n",
    "p1.set_equations(Mass_m,C,G,B)\n",
    "\n",
    "p1.start_walker(2,p1.z)\n",
    "\n",
    "print(len(p1.Z))\n",
    "\n"
   ]
  },
  {
   "cell_type": "code",
   "execution_count": 28,
   "metadata": {
    "ExecuteTime": {
     "end_time": "2021-11-08T09:55:19.728279Z",
     "start_time": "2021-11-08T09:55:19.715882Z"
    },
    "code_folding": [
     18,
     28,
     34
    ],
    "hide_input": false,
    "id": "7rDZfskskfLH"
   },
   "outputs": [
    {
     "name": "stdout",
     "output_type": "stream",
     "text": [
      "save_animation class\n"
     ]
    }
   ],
   "source": [
    "class save_animation(passive_dynamic_walker):\n",
    "    def __init__(self,x,y,xh,yh):\n",
    "        super().__init__()\n",
    "        self.X = x\n",
    "        self.Y = y\n",
    "        self.Xh = xh\n",
    "        self.Yh = yh\n",
    "        self.fig = plt.figure() \n",
    "        self.axis = plt.axes(autoscale_on=False,xlim = (-0.5, 2),\n",
    "                            ylim = (-0.1, 2)) \n",
    "        self.time_template = 'time = %.1fs \\nSlope: 0.01 radian'\n",
    "        self.time_text = self.axis.text(0.05, 0.9, '', transform=self.axis.transAxes)\n",
    "        self.axis.set_aspect('equal')\n",
    "        self.axis.grid()\n",
    "        self.point1, = self.axis.plot(0,0, marker='o') \n",
    "        self.line1, = self.axis.plot([],[], lw = 2)\n",
    "        self.ramp, = self.axis.plot([],[], \"black\", lw = 2)\n",
    "        \n",
    "    def interpolate(self):\n",
    "        #self.X_n,self.Y_n, self.Xh_n, self.Yh_n = np.zeros((np.int(len(self.X)/2)+1)), np.zeros((np.int(len(self.X)/2)+1)), np.zeros((np.int(len(self.X)/2)+1)), np.zeros((np.int(len(self.X)/2)+1))\n",
    "        self.X_n,self.Y_n, self.Xh_n, self.Yh_n = np.zeros((np.int(len(self.X)+1))), np.zeros((np.int(len(self.X))+1)), np.zeros((np.int(len(self.X))+1)), np.zeros((np.int(len(self.X))+1))\n",
    "        for i in range(0,len(self.X)):\n",
    "            index = int(i)\n",
    "            self.X_n[index] = self.X[i] \n",
    "            self.Y_n[index] = self.Y[i]\n",
    "            self.Xh_n[index] = self.Xh[i]\n",
    "            self.Yh_n[index] = self.Yh[i]\n",
    "    \n",
    "    def init(self): \n",
    "        self.point1.set_data([],[]) \n",
    "        self.line1.set_data([],[])\n",
    "        self.ramp.set_data([],[])\n",
    "        return self.point1, self.line1, self.ramp,\n",
    "\n",
    "    def end_eff(self,i):\n",
    "        P = np.array([self.Xh_n[i]+self.l*np.sin(self.X_n[i]), self.Yh_n[i]-self.l*np.cos(self.X_n[i])])\n",
    "        Q = np.array([self.Xh_n[i] + self.l*np.sin(self.X_n[i]+self.Y_n[i]), self.Yh_n[i] - self.l*np.cos(self.X_n[i]+self.Y[i])])\n",
    "        return P,Q\n",
    "\n",
    "    def init_q_his(self):\n",
    "        P,Q = self.end_eff(0)\n",
    "        self.q_history = np.array([Q])\n",
    "\n",
    "    def animate(self,i):\n",
    "\n",
    "        self.point1.set_data(self.Xh_n[i],self.Yh_n[i]) \n",
    "\n",
    "        P,Q = self.end_eff(i)\n",
    "        \n",
    "        self.line1.set_data([P[0], self.Xh_n[i], Q[0]],[P[1], self.Yh_n[i], Q[1]])\n",
    "        \n",
    "        self.ramp.set_data([-0.5,2],[0,0])\n",
    "        \n",
    "        self.time_text.set_text(self.time_template % (i*0.01))\n",
    "        \n",
    "        return self.point1, self.line1, self.ramp,\n",
    "\n",
    "    def save(self,file_name = 'results/passive_dynamic_walker.mp4'):\n",
    "        anim = animation.FuncAnimation(self.fig, self.animate, init_func = self.init, \n",
    "                               frames = len(self.X_n)-1, interval = 10, blit = True) \n",
    "        anim.save(file_name, writer = 'ffmpeg', fps = 200)\n",
    "print(\"save_animation class\")"
   ]
  },
  {
   "cell_type": "code",
   "execution_count": 29,
   "metadata": {
    "ExecuteTime": {
     "end_time": "2021-11-08T09:55:41.086472Z",
     "start_time": "2021-11-08T09:55:22.806948Z"
    },
    "colab": {
     "base_uri": "https://localhost:8080/",
     "height": 269
    },
    "hide_input": false,
    "id": "hjwUSXnynFij",
    "outputId": "7d45c57a-d04a-4976-cb66-da695ca642b4"
   },
   "outputs": [
    {
     "data": {
      "image/png": "[encoded data removed]",
      "text/plain": [
       "<Figure size 432x288 with 1 Axes>"
      ]
     },
     "metadata": {
      "needs_background": "light"
     },
     "output_type": "display_data"
    }
   ],
   "source": [
    "s1 = save_animation(p1.Z[:,0],p1.Z[:,1],p1.Z[:,4],p1.Z[:,5])\n",
    "s1.interpolate()\n",
    "s1.init_q_his()\n",
    "s1.save()"
   ]
  },
  {
   "cell_type": "code",
   "execution_count": 30,
   "metadata": {
    "ExecuteTime": {
     "end_time": "2021-11-08T06:37:07.734220Z",
     "start_time": "2021-11-08T06:37:07.630393Z"
    }
   },
   "outputs": [
    {
     "data": {
      "image/png": "[encoded data removed]",
      "text/plain": [
       "<Figure size 432x288 with 1 Axes>"
      ]
     },
     "metadata": {
      "needs_background": "light"
     },
     "output_type": "display_data"
    }
   ],
   "source": [
    "\n",
    "plt.plot(p1.Z[:,0],p1.Z[:,2])\n",
    "plt.xlabel('theta')\n",
    "plt.ylabel('thetadot')\n",
    "\n",
    "plt.plot(p1.Z[:,1],p1.Z[:,3])\n",
    "plt.show()"
   ]
  },
  {
   "cell_type": "code",
   "execution_count": 31,
   "metadata": {
    "ExecuteTime": {
     "end_time": "2021-11-08T09:44:37.442413Z",
     "start_time": "2021-11-08T09:44:37.071457Z"
    }
   },
   "outputs": [
    {
     "name": "stdout",
     "output_type": "stream",
     "text": [
      "[7.10376220e-10 7.20966229e-11 5.26214814e-13 6.77708142e-12]\n"
     ]
    },
    {
     "data": {
      "text/plain": [
       "array([7.10376220e-10, 7.20966229e-11, 5.26214814e-13, 6.77708142e-12])"
      ]
     },
     "execution_count": 31,
     "metadata": {},
     "output_type": "execute_result"
    }
   ],
   "source": [
    "import copy\n",
    "# test_z = np.array([0.162597833780041,  -0.231869638058930 , -0.325195667560083 ,  0.037978468073743])\n",
    "test_z = np.array([0.16,-0.32,-0.239,0.38])\n",
    "def jacobian_num(z):\n",
    "    '''Using Central difference '''\n",
    "    n = len(z)\n",
    "    dz = 1e-5\n",
    "    J = np.zeros((n,n))\n",
    "    ztemp1 = copy.deepcopy(z)\n",
    "    ztemp2 = copy.deepcopy(z)\n",
    "    for i in range(n):\n",
    "        ztemp1[i] = ztemp1[i] + dz\n",
    "        ztemp2[i] = ztemp2[i] - dz\n",
    "        J[i] = p1.one_step(ztemp1) - p1.one_step(ztemp2)\n",
    "    return J/2*dz\n",
    "\n",
    "\n",
    "J = jacobian_num(test_z)\n",
    "egen, egen_vec = np.linalg.eig(J)\n",
    "\n",
    "egen_norm = np.absolute(egen)\n",
    "\n",
    "print(egen)\n",
    "egen_norm"
   ]
  },
  {
   "cell_type": "code",
   "execution_count": 32,
   "metadata": {
    "ExecuteTime": {
     "end_time": "2021-11-08T10:07:53.669818Z",
     "start_time": "2021-11-08T10:07:52.594132Z"
    }
   },
   "outputs": [
    {
     "name": "stdout",
     "output_type": "stream",
     "text": [
      "Initial guess: [ 0.14485748 -0.28076993 -0.1898726   0.963972  ]\n",
      "Exit flag: 5\n",
      "Remark: The iteration is not making good progress, as measured by the \n",
      "  improvement from the last ten iterations.\n",
      "Probable root: [ 0.14226472  0.01385808 -0.10921898  0.36128836]\n",
      "Function output at the root: [0.088128   0.11910444 0.01926627 0.35962789]\n"
     ]
    }
   ],
   "source": [
    "class root_finding(passive_dynamic_walker):\n",
    "    def __init__(self,m):\n",
    "        super().__init__(self,m)\n",
    "        \n",
    "    def fixed_pt(self,z):\n",
    "        \n",
    "        self.zdiff = z - self.start_walker(1,z)\n",
    "        return self.zdiff\n",
    "    \n",
    "    def calculate(self):\n",
    "        self.z = np.array([0.14485748 ,-0.28076993 ,-0.1898726 ,  0.963972])\n",
    "        print(f\"Initial guess: {self.z}\")\n",
    "        self.root = fsolve(self.fixed_pt,self.z,full_output = True)\n",
    "        \n",
    "        print(f\"Exit flag: {self.root[2]}\")\n",
    "        print(f\"Remark: {self.root[3]}\")\n",
    "        print(f\"Probable root: {self.root[0]}\")\n",
    "        print(f\"Function output at the root: {self.root[1]['fvec']}\")\n",
    "        \n",
    "        \n",
    "#         \n",
    "        \n",
    "o1 = root_finding(0.5)\n",
    "o1.set_equations(Mass_m,C,G,B)\n",
    "o1.calculate()"
   ]
  }
 ],
 "metadata": {
  "colab": {
   "authorship_tag": "ABX9TyNpqZHB+vLQxmmpHCYBbQO3",
   "include_colab_link": true,
   "name": "legged_module_3_dynamic_passive_walker.ipynb",
   "provenance": []
  },
  "hide_input": false,
  "kernelspec": {
   "display_name": "Python 3 (ipykernel)",
   "language": "python",
   "name": "python3"
  },
  "language_info": {
   "codemirror_mode": {
    "name": "ipython",
    "version": 3
   },
   "file_extension": ".py",
   "mimetype": "text/x-python",
   "name": "python",
   "nbconvert_exporter": "python",
   "pygments_lexer": "ipython3",
   "version": "3.8.10"
  }
 },
 "nbformat": 4,
 "nbformat_minor": 1
}
